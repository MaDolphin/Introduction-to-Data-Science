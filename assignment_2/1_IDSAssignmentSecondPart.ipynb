{
 "cells": [
  {
   "cell_type": "markdown",
   "metadata": {},
   "source": [
    "# The Second Part of the Assignment of IDS 2019-2020\n",
    "Document your results as well as the way you obtained them in this jupyter notebook. Separate reports (pdf, word, etc.) are _not_ required. However, it is necessary that you provide the python code leading to your results as well as textual answers to the assignment questions in this notebook. *DO NOT CLEAR THE OUTPUT of the notebook you are submitting!* In the cases that the result of an algorithm is pdf, jpg, etc, you should attach the result to this notebook file and refer to that in the text.  \n",
    "\n",
    "Next to the jupyter notebook, submit one zip-file containing all data sets that you are asked to submit. Make sure they are easily identifiable, i.e. use names as requested in the corresponding question.\n",
    "\n",
    "Do not change the general structure of this notebook, but you can add further markdown or code cells to explain your solutions if necessary. In the end, submit this file and your created data sets in moodle.\n",
    "\n",
    "Only <font color=\"red\">one </font> group member should upload your group's solution.*Make sure to include group members' names and matriculation numbers*. If your name and student id are not included in the report, you will not receive any points!\n",
    "\n",
    "\n",
    "Hint 1: While answering the questions, you will get a better and better impression of the given data. <font color=\"red\"><b>Ensure that all claims you make are supported by the presented facts!</b></font>\n",
    "\n",
    "Hint 2: <font color=\"red\"><b>Some of the tasks might need some time to run. Take this into account in your planning.</b></font>\n",
    "\n",
    "Hint 3: RWTHonline allows for multiple submissions (each submission overwrites the previous ones). <font color=\"red\"><b>Partial submissions are possible and encouraged. </b></font> This helps in case of technical problems of RWTHonline, which do seldomly happen."
   ]
  },
  {
   "cell_type": "markdown",
   "metadata": {},
   "source": [
    "<font color=\"red\"><b>Student Names and IDs:\n",
    "    1. Yaping Chen 379645\n",
    "    2. Haikun Huang 391180\n",
    "    3. Yu He 391644"
   ]
  },
  {
   "cell_type": "markdown",
   "metadata": {},
   "source": [
    "## Preprocessing of the Dataset (5 points)\n",
    "\n",
    "The provided data set *air_pollution* contains hourly results of measuring the concentration of certain substances (CO, Benzene, NO2, particulate matter) and environmental conditions (temperature, relative humidity, traffic volume). This data was collected near a busy street in a city center by an automated device.\n",
    "\n",
    " You should carry out some preprocessing steps before starting the analysis:\n",
    " - Select 90% of 'air_pollution' dataset by random sampling. Use one of the group member's student number as a seed.\n",
    " - After completing this preprocessing step, export your final dataset as 'air_pollution_2.csv' dataset and use that for the next steps of the assignment.\n",
    " - If it is not directly mentioned, you should always use your extracted (above-created) dataset.\n",
    " - <font color='red'>Important!</font> Make sure that you submit your extracted dataset with your result in moodle."
   ]
  },
  {
   "cell_type": "code",
   "execution_count": 5,
   "metadata": {
    "pycharm": {
     "is_executing": false
    }
   },
   "outputs": [],
   "source": [
    "import pandas as pd\n",
    "import numpy as np\n",
    "import matplotlib.pyplot as plt\n",
    "import seaborn as sns"
   ]
  },
  {
   "cell_type": "code",
   "execution_count": 6,
   "metadata": {
    "pycharm": {
     "is_executing": false
    }
   },
   "outputs": [],
   "source": [
    "#your code\n",
    "from IPython.core.display import display\n",
    "data_air = pd.read_csv(\"air_pollution.csv\", delimiter=',')\n",
    "df_air = pd.DataFrame(data_air).sample(frac=0.9, random_state=391180)\n",
    "# df_air.to_csv(\"air_pollution_2.csv\", index=False)"
   ]
  },
  {
   "cell_type": "markdown",
   "metadata": {},
   "source": [
    "## Question 1 - Data Preprocessing and Data Quality (10 points)"
   ]
  },
  {
   "cell_type": "markdown",
   "metadata": {},
   "source": [
    "For this question, use the extracted data set you created in the preprocessing step ('air_pollution_2.csv'), but without the features *Traffic_Volume* and *Particulate_Matter*. Remove those columns before answering the questions."
   ]
  },
  {
   "cell_type": "code",
   "execution_count": 12,
   "metadata": {
    "pycharm": {
     "is_executing": false
    }
   },
   "outputs": [
    {
     "name": "stdout",
     "text": [
      "(8421, 7)\n"
     ],
     "output_type": "stream"
    },
    {
     "data": {
      "text/plain": "       Date      Time   CO  Benzene  NO2  Temperature  Humidity(%)\n0  14.12.04  13:00:00  4.7     25.8  182         14.0         53.0\n1  08.02.05  10:00:00  2.2      8.6  225          8.7         36.3\n2  25.07.04  11:00:00  0.9      3.6   66         27.6         43.7\n3  20.06.04  13:00:00  0.6   -200.0   36       -200.0       -200.0\n4  29.11.04   0:00:00  3.0     10.3  113         10.2         78.4",
      "text/html": "<div>\n<style scoped>\n    .dataframe tbody tr th:only-of-type {\n        vertical-align: middle;\n    }\n\n    .dataframe tbody tr th {\n        vertical-align: top;\n    }\n\n    .dataframe thead th {\n        text-align: right;\n    }\n</style>\n<table border=\"1\" class=\"dataframe\">\n  <thead>\n    <tr style=\"text-align: right;\">\n      <th></th>\n      <th>Date</th>\n      <th>Time</th>\n      <th>CO</th>\n      <th>Benzene</th>\n      <th>NO2</th>\n      <th>Temperature</th>\n      <th>Humidity(%)</th>\n    </tr>\n  </thead>\n  <tbody>\n    <tr>\n      <th>0</th>\n      <td>14.12.04</td>\n      <td>13:00:00</td>\n      <td>4.7</td>\n      <td>25.8</td>\n      <td>182</td>\n      <td>14.0</td>\n      <td>53.0</td>\n    </tr>\n    <tr>\n      <th>1</th>\n      <td>08.02.05</td>\n      <td>10:00:00</td>\n      <td>2.2</td>\n      <td>8.6</td>\n      <td>225</td>\n      <td>8.7</td>\n      <td>36.3</td>\n    </tr>\n    <tr>\n      <th>2</th>\n      <td>25.07.04</td>\n      <td>11:00:00</td>\n      <td>0.9</td>\n      <td>3.6</td>\n      <td>66</td>\n      <td>27.6</td>\n      <td>43.7</td>\n    </tr>\n    <tr>\n      <th>3</th>\n      <td>20.06.04</td>\n      <td>13:00:00</td>\n      <td>0.6</td>\n      <td>-200.0</td>\n      <td>36</td>\n      <td>-200.0</td>\n      <td>-200.0</td>\n    </tr>\n    <tr>\n      <th>4</th>\n      <td>29.11.04</td>\n      <td>0:00:00</td>\n      <td>3.0</td>\n      <td>10.3</td>\n      <td>113</td>\n      <td>10.2</td>\n      <td>78.4</td>\n    </tr>\n  </tbody>\n</table>\n</div>"
     },
     "metadata": {},
     "output_type": "execute_result",
     "execution_count": 12
    }
   ],
   "source": [
    "#import libraries and data set\n",
    "df_air = pd.read_csv(\"air_pollution_2.csv\", delimiter=',')\n",
    "df_air = df_air.drop(columns = ['Traffic_Volume','Particulate_Matter'])\n",
    "print(df_air.shape)\n",
    "df_air.head()"
   ]
  },
  {
   "cell_type": "markdown",
   "metadata": {},
   "source": [
    "(a) We want to get a first impression of the data. To achieve this, compute and show the following:\n",
    "    - the column names (names of the features)\n",
    "    - the data type of each feature\n",
    "    - for time features: the minimum and maximum\n",
    "    - for numerical (non-time) features: the mean, standard deviation, minimum and maximum\n",
    "    - for categorical features: the number of classes and the value of the most frequent class"
   ]
  },
  {
   "cell_type": "code",
   "execution_count": 5,
   "metadata": {
    "scrolled": false,
    "pycharm": {
     "is_executing": false
    }
   },
   "outputs": [
    {
     "name": "stdout",
     "text": [
      "1.the column names\n",
      "Index(['Date', 'Time', 'CO', 'Benzene', 'NO2', 'Temperature', 'Humidity(%)'], dtype='object')\n",
      "**************************************\n",
      "\n",
      "2.the data type of each feature\n",
      "Date            object\n",
      "Time            object\n",
      "CO             float64\n",
      "Benzene        float64\n",
      "NO2              int64\n",
      "Temperature    float64\n",
      "Humidity(%)    float64\n",
      "dtype: object\n",
      "**************************************\n",
      "\n",
      "3.time features\n",
      "Time max =  23:00:00\n",
      "Time min =  00:00:00\n",
      "Date max =  2005-12-03\n",
      "Date min =  2004-01-04\n",
      "**************************************\n",
      "\n",
      "4.numerical features\n",
      "Column Name = CO\n",
      "mean = -34.69576059850374\n",
      "standard deviation = 78.05778465951362\n",
      "minimum = -200.0\n",
      "maximum = 11.9\n",
      "---------------------------------------\n",
      "\n",
      "Column Name = Benzene\n",
      "mean = 1.706768792304952\n",
      "standard deviation = 41.69531355924269\n",
      "minimum = -200.0\n",
      "maximum = 63.7\n",
      "---------------------------------------\n",
      "\n",
      "Column Name = NO2\n",
      "mean = 57.571666072912954\n",
      "standard deviation = 127.45881932367406\n",
      "minimum = -200\n",
      "maximum = 340\n",
      "---------------------------------------\n",
      "\n",
      "Column Name = Temperature\n",
      "mean = 9.645398408740055\n",
      "standard deviation = 43.537143848132196\n",
      "minimum = -200.0\n",
      "maximum = 44.6\n",
      "---------------------------------------\n",
      "\n",
      "Column Name = Humidity(%)\n",
      "mean = 39.32929580809879\n",
      "standard deviation = 51.57985891518149\n",
      "minimum = -200.0\n",
      "maximum = 88.7\n",
      "---------------------------------------\n",
      "\n",
      "\n",
      "5.categorical features\n",
      "There are no categorical features in this data.\n",
      "**************************************\n"
     ],
     "output_type": "stream"
    }
   ],
   "source": [
    "#your code\n",
    "print(\"1.the column names\")\n",
    "print(df_air.columns)\n",
    "print(\"**************************************\")\n",
    "print()\\\n",
    "\n",
    "print(\"2.the data type of each feature\")\n",
    "print(df_air.dtypes)\n",
    "print(\"**************************************\")\n",
    "print()\n",
    "\n",
    "print(\"3.time features\")\n",
    "time = pd.to_datetime(df_air.Time)\n",
    "date = pd.to_datetime(df_air.Date)\n",
    "print(\"Time max = \",time.max().time())\n",
    "print(\"Time min = \",time.min().time())\n",
    "print(\"Date max = \",date.max().date())\n",
    "print(\"Date min = \",date.min().date())\n",
    "print(\"**************************************\")\n",
    "print()\n",
    "\n",
    "print(\"4.numerical features\")\n",
    "col_numerical = ['CO', 'Benzene', 'NO2', 'Temperature', 'Humidity(%)']\n",
    "for col in col_numerical:\n",
    "    print(\"Column Name = {}\".format(col))\n",
    "    print(\"mean =\",np.mean(df_air[col]))\n",
    "    print(\"standard deviation =\",np.std(df_air[col]))\n",
    "    print(\"minimum =\",np.min(df_air[col]))\n",
    "    print(\"maximum =\",np.max(df_air[col]))\n",
    "    print(\"---------------------------------------\")\n",
    "    print()\n",
    "print()\n",
    "\n",
    "print(\"5.categorical features\")\n",
    "print(\"There are no categorical features in this data.\")\n",
    "# col_categorical = ['Date', 'Time']\n",
    "# for col in col_categorical:\n",
    "#     print(\"Column Name = {}\".format(col))\n",
    "#     print(\"the number of classes =\",df_air[col].value_counts().shape[0])\n",
    "#     print(\"the value of the most frequent class\")\n",
    "#     print(df_air[col].mode())\n",
    "#     print(\"---------------------------------------\")\n",
    "#     print()\n",
    "print(\"**************************************\")"
   ]
  },
  {
   "cell_type": "markdown",
   "metadata": {},
   "source": [
    "(b) Consider the features 'date' and 'time'. Combine them into a new column 'Datetime' using the datetime data type, and drop the old columns 'date' and 'time'. \n",
    "\n",
    "Which of the two representations of date and time do you think is more suitable for most analysis applications?"
   ]
  },
  {
   "cell_type": "markdown",
   "metadata": {},
   "source": [
    "Explanation: Separate features \"Date\" and \"Time\" are much better than the combinational \"Datetime\", in real life application, we always consider some data distribution only over 'Date' or only over the 'Time'. Draw and analyse data distribution over Datetime is very rare. so there is no need to combine them together"
   ]
  },
  {
   "cell_type": "code",
   "execution_count": 13,
   "metadata": {
    "pycharm": {
     "is_executing": false
    }
   },
   "outputs": [
    {
     "data": {
      "text/plain": "       Date      Time   CO  Benzene  NO2  Temperature  Humidity(%)\n0  14.12.04  13:00:00  4.7     25.8  182         14.0         53.0\n1  08.02.05  10:00:00  2.2      8.6  225          8.7         36.3\n2  25.07.04  11:00:00  0.9      3.6   66         27.6         43.7\n3  20.06.04  13:00:00  0.6   -200.0   36       -200.0       -200.0\n4  29.11.04   0:00:00  3.0     10.3  113         10.2         78.4",
      "text/html": "<div>\n<style scoped>\n    .dataframe tbody tr th:only-of-type {\n        vertical-align: middle;\n    }\n\n    .dataframe tbody tr th {\n        vertical-align: top;\n    }\n\n    .dataframe thead th {\n        text-align: right;\n    }\n</style>\n<table border=\"1\" class=\"dataframe\">\n  <thead>\n    <tr style=\"text-align: right;\">\n      <th></th>\n      <th>Date</th>\n      <th>Time</th>\n      <th>CO</th>\n      <th>Benzene</th>\n      <th>NO2</th>\n      <th>Temperature</th>\n      <th>Humidity(%)</th>\n    </tr>\n  </thead>\n  <tbody>\n    <tr>\n      <th>0</th>\n      <td>14.12.04</td>\n      <td>13:00:00</td>\n      <td>4.7</td>\n      <td>25.8</td>\n      <td>182</td>\n      <td>14.0</td>\n      <td>53.0</td>\n    </tr>\n    <tr>\n      <th>1</th>\n      <td>08.02.05</td>\n      <td>10:00:00</td>\n      <td>2.2</td>\n      <td>8.6</td>\n      <td>225</td>\n      <td>8.7</td>\n      <td>36.3</td>\n    </tr>\n    <tr>\n      <th>2</th>\n      <td>25.07.04</td>\n      <td>11:00:00</td>\n      <td>0.9</td>\n      <td>3.6</td>\n      <td>66</td>\n      <td>27.6</td>\n      <td>43.7</td>\n    </tr>\n    <tr>\n      <th>3</th>\n      <td>20.06.04</td>\n      <td>13:00:00</td>\n      <td>0.6</td>\n      <td>-200.0</td>\n      <td>36</td>\n      <td>-200.0</td>\n      <td>-200.0</td>\n    </tr>\n    <tr>\n      <th>4</th>\n      <td>29.11.04</td>\n      <td>0:00:00</td>\n      <td>3.0</td>\n      <td>10.3</td>\n      <td>113</td>\n      <td>10.2</td>\n      <td>78.4</td>\n    </tr>\n  </tbody>\n</table>\n</div>"
     },
     "metadata": {},
     "output_type": "display_data"
    },
    {
     "data": {
      "text/plain": "    CO  Benzene  NO2  Temperature  Humidity(%)            Datetime\n0  4.7     25.8  182         14.0         53.0 2004-12-14 13:00:00\n1  2.2      8.6  225          8.7         36.3 2005-08-02 10:00:00\n2  0.9      3.6   66         27.6         43.7 2004-07-25 11:00:00\n3  0.6   -200.0   36       -200.0       -200.0 2004-06-20 13:00:00\n4  3.0     10.3  113         10.2         78.4 2004-11-29 00:00:00",
      "text/html": "<div>\n<style scoped>\n    .dataframe tbody tr th:only-of-type {\n        vertical-align: middle;\n    }\n\n    .dataframe tbody tr th {\n        vertical-align: top;\n    }\n\n    .dataframe thead th {\n        text-align: right;\n    }\n</style>\n<table border=\"1\" class=\"dataframe\">\n  <thead>\n    <tr style=\"text-align: right;\">\n      <th></th>\n      <th>CO</th>\n      <th>Benzene</th>\n      <th>NO2</th>\n      <th>Temperature</th>\n      <th>Humidity(%)</th>\n      <th>Datetime</th>\n    </tr>\n  </thead>\n  <tbody>\n    <tr>\n      <th>0</th>\n      <td>4.7</td>\n      <td>25.8</td>\n      <td>182</td>\n      <td>14.0</td>\n      <td>53.0</td>\n      <td>2004-12-14 13:00:00</td>\n    </tr>\n    <tr>\n      <th>1</th>\n      <td>2.2</td>\n      <td>8.6</td>\n      <td>225</td>\n      <td>8.7</td>\n      <td>36.3</td>\n      <td>2005-08-02 10:00:00</td>\n    </tr>\n    <tr>\n      <th>2</th>\n      <td>0.9</td>\n      <td>3.6</td>\n      <td>66</td>\n      <td>27.6</td>\n      <td>43.7</td>\n      <td>2004-07-25 11:00:00</td>\n    </tr>\n    <tr>\n      <th>3</th>\n      <td>0.6</td>\n      <td>-200.0</td>\n      <td>36</td>\n      <td>-200.0</td>\n      <td>-200.0</td>\n      <td>2004-06-20 13:00:00</td>\n    </tr>\n    <tr>\n      <th>4</th>\n      <td>3.0</td>\n      <td>10.3</td>\n      <td>113</td>\n      <td>10.2</td>\n      <td>78.4</td>\n      <td>2004-11-29 00:00:00</td>\n    </tr>\n  </tbody>\n</table>\n</div>"
     },
     "metadata": {},
     "output_type": "execute_result",
     "execution_count": 13
    }
   ],
   "source": [
    "df_air_copy = df_air.copy(deep=True)\n",
    "display(df_air_copy.head())\n",
    "#your code\n",
    "df_air['Datetime'] = pd.to_datetime(df_air.Date)+pd.to_timedelta(df_air.Time, unit='h')\n",
    "df_air = df_air.drop(columns=['Date','Time'])\n",
    "df_air.head()"
   ]
  },
  {
   "cell_type": "markdown",
   "metadata": {},
   "source": [
    "(c) For each feature corresponding to a measured value, provide a simple scatter plot showing the data points over time. Can you spot any obvious data quality issues, e.g. inconsistencies, implausible values or missing values (without researching on specific domain knowledge)?\n",
    "\n",
    "*Hint: you may perform additional computations to verify your findings.*"
   ]
  },
  {
   "cell_type": "code",
   "execution_count": 19,
   "metadata": {
    "scrolled": false,
    "pycharm": {
     "is_executing": false
    }
   },
   "outputs": [
    {
     "data": {
      "text/plain": "<Figure size 1440x432 with 1 Axes>",
      "image/png": "[encoded data removed]"
     },
     "metadata": {
      "needs_background": "light"
     },
     "output_type": "display_data"
    },
    {
     "data": {
      "text/plain": "<Figure size 1440x432 with 1 Axes>",
      "image/png": "[encoded data removed]"
     },
     "metadata": {
      "needs_background": "light"
     },
     "output_type": "display_data"
    },
    {
     "data": {
      "text/plain": "<Figure size 1440x432 with 1 Axes>",
      "image/png": "[encoded data removed]"
     },
     "metadata": {
      "needs_background": "light"
     },
     "output_type": "display_data"
    },
    {
     "data": {
      "text/plain": "<Figure size 1440x432 with 1 Axes>",
      "image/png": "[encoded data removed]"
     },
     "metadata": {
      "needs_background": "light"
     },
     "output_type": "display_data"
    },
    {
     "data": {
      "text/plain": "<Figure size 1440x432 with 1 Axes>",
      "image/png": "[encoded data removed]"
     },
     "metadata": {
      "needs_background": "light"
     },
     "output_type": "display_data"
    },
    {
     "data": {
      "text/plain": "<matplotlib.axes._subplots.AxesSubplot at 0x257199c47c8>"
     },
     "metadata": {},
     "output_type": "execute_result",
     "execution_count": 19
    },
    {
     "data": {
      "text/plain": "<Figure size 1440x432 with 1 Axes>",
      "image/png": "[encoded data removed]"
     },
     "metadata": {
      "needs_background": "light"
     },
     "output_type": "display_data"
    }
   ],
   "source": [
    "#your code\n",
    "\n",
    "col_numerical = ['CO', 'Benzene', 'NO2', 'Temperature', 'Humidity(%)']\n",
    "\n",
    "for col in col_numerical:\n",
    "    plt.figure(figsize=(20, 6))\n",
    "    plt.scatter(df_air_copy['Time'],df_air_copy[col], s=1.0)\n",
    "    plt.xlabel(\"Time\")\n",
    "    plt.ylabel(col)\n",
    "    plt.grid(True)\n",
    "    plt.show()\n",
    "\n",
    "\n",
    "plt.figure(figsize=(20, 6))\n",
    "df_air.boxplot(column=col_numerical)"
   ]
  },
  {
   "cell_type": "markdown",
   "metadata": {},
   "source": [
    "Explanation: <br>\n",
    "in each feature, they all have the same value -200 that is implausible data and clear to be outliers."
   ]
  },
  {
   "cell_type": "markdown",
   "metadata": {},
   "source": [
    "(d) We need to handle any implausible or missing data. In the lecture, several strategies to do so have been \n",
    "introduced, for example, deleting data rows that contain missing/implausible values or replacing them by a value \n",
    "derived from other data points. \n",
    "\n",
    "In this question, consider implausible values to be the ones identified in question (c)\n",
    " \n",
    "    1) For all numerical features, compute and show mean, standard deviation, minimum and maximum,\n",
    "    while ignoring the missing and implausible values. Also, print the total number of data rows.\n",
    "    \n",
    "    2) Choose a strategy (or combination of strategies) to handle missing/implausible values. Create a cleaned data \n",
    "    set with all those values handled accordingly.\n",
    "    \n",
    "    3) For all numerical features, compute and show mean, standard deviation, minimum and maximum with respect to \n",
    "    your cleaned data set. Also print the total number of data rows.\n",
    "    \n",
    "    4) Motivate and explain your strategy and describe its (dis-)advantages compared to other options. Compare the \n",
    "    computed statistical values before and after cleaning and briefly describe and evaluate any changes."
   ]
  },
  {
   "cell_type": "code",
   "execution_count": 7,
   "metadata": {},
   "outputs": [
    {
     "name": "stdout",
     "output_type": "stream",
     "text": [
      "###--- Before Cleaning ---###\n",
      "\n",
      "Column Name = CO\n",
      "mean = -34.69576059850374\n",
      "standard deviation = 78.05778465951362\n",
      "minimum = -200.0\n",
      "maximum = 11.9\n",
      "---------------------------------------\n",
      "\n",
      "Column Name = Benzene\n",
      "mean = 1.706768792304952\n",
      "standard deviation = 41.69531355924269\n",
      "minimum = -200.0\n",
      "maximum = 63.7\n",
      "---------------------------------------\n",
      "\n",
      "Column Name = NO2\n",
      "mean = 57.571666072912954\n",
      "standard deviation = 127.45881932367406\n",
      "minimum = -200\n",
      "maximum = 340\n",
      "---------------------------------------\n",
      "\n",
      "Column Name = Temperature\n",
      "mean = 9.645398408740055\n",
      "standard deviation = 43.537143848132196\n",
      "minimum = -200.0\n",
      "maximum = 44.6\n",
      "---------------------------------------\n",
      "\n",
      "Column Name = Humidity(%)\n",
      "mean = 39.32929580809879\n",
      "standard deviation = 51.57985891518149\n",
      "minimum = -200.0\n",
      "maximum = 88.7\n",
      "---------------------------------------\n",
      "\n",
      "the total number of data rows = 8421\n",
      "\n",
      "###--- Cleaning Strategy ---###\n",
      "\n",
      "1. Checking null value in dataset\n",
      "\n",
      "Datetime       0\n",
      "Humidity(%)    0\n",
      "Temperature    0\n",
      "NO2            0\n",
      "Benzene        0\n",
      "CO             0\n",
      "dtype: int64\n",
      "\n",
      "2. Deleting data rows that contain implausible values\n",
      "\n",
      "Column Name = 'CO' and the number of residual rows = 6886\n",
      "\n",
      "Column Name = 'Benzene' and the number of residual rows = 6584\n",
      "\n",
      "Column Name = 'NO2' and the number of residual rows = 6223\n",
      "\n",
      "Column Name = 'Temperature' and the number of residual rows = 6223\n",
      "\n",
      "Column Name = 'Humidity(%)' and the number of residual rows = 6223\n",
      "\n",
      "###--- After Cleaning ---###\n",
      "\n",
      "Column Name = CO\n",
      "mean = 2.1820022497187854\n",
      "standard deviation = 1.441504129674387\n",
      "minimum = 0.1\n",
      "maximum = 11.9\n",
      "---------------------------------------\n",
      "\n",
      "Column Name = Benzene\n",
      "mean = 10.538759440784187\n",
      "standard deviation = 7.460480391503239\n",
      "minimum = 0.2\n",
      "maximum = 63.7\n",
      "---------------------------------------\n",
      "\n",
      "Column Name = NO2\n",
      "mean = 113.94664952595211\n",
      "standard deviation = 47.42371986455554\n",
      "minimum = 2\n",
      "maximum = 333\n",
      "---------------------------------------\n",
      "\n",
      "Column Name = Temperature\n",
      "mean = 17.740221757994536\n",
      "standard deviation = 8.830913505582417\n",
      "minimum = -1.9\n",
      "maximum = 44.6\n",
      "---------------------------------------\n",
      "\n",
      "Column Name = Humidity(%)\n",
      "mean = 48.90755262735014\n",
      "standard deviation = 17.408274361187406\n",
      "minimum = 9.2\n",
      "maximum = 88.7\n",
      "---------------------------------------\n",
      "\n",
      "the total number of data rows = 6223\n"
     ]
    }
   ],
   "source": [
    "#your code\n",
    "\n",
    "col_numerical = ['CO', 'Benzene', 'NO2', 'Temperature', 'Humidity(%)']\n",
    "\n",
    "# before clean\n",
    "print(\"###--- Before Cleaning ---###\\n\")\n",
    "for col in col_numerical:\n",
    "    print(\"Column Name = {}\".format(col))\n",
    "    print(\"mean =\",np.mean(df_air[col]))\n",
    "    print(\"standard deviation =\",np.std(df_air[col]))\n",
    "    print(\"minimum =\",np.min(df_air[col]))\n",
    "    print(\"maximum =\",np.max(df_air[col]))\n",
    "    print(\"---------------------------------------\")\n",
    "    print()\n",
    "\n",
    "print(\"the total number of data rows =\", df_air.shape[0])\n",
    "print()\n",
    "\n",
    "# clean strategy\n",
    "print(\"###--- Cleaning Strategy ---###\\n\")\n",
    "df_air_cleaned = df_air\n",
    "# df_air_cleaned = df_air_cleaned[df_air_cleaned[]]\n",
    "print(\"1. Checking null value in dataset\\n\")\n",
    "print(df_air_cleaned.isnull().sum().sort_values(ascending=False))\n",
    "print()\n",
    "\n",
    "print(\"2. Deleting data rows that contain implausible values\\n\")\n",
    "for col in col_numerical:\n",
    "    df_air_cleaned = df_air_cleaned[df_air_cleaned[col] != -200]\n",
    "    print(\"Column Name = '{}' and the number of residual rows = {}\".format(col,df_air_cleaned.shape[0]))\n",
    "    print()\n",
    "\n",
    "    \n",
    "# after clean\n",
    "print(\"###--- After Cleaning ---###\\n\")\n",
    "for col in col_numerical:\n",
    "    print(\"Column Name = {}\".format(col))\n",
    "    print(\"mean =\",np.mean(df_air_cleaned[col]))\n",
    "    print(\"standard deviation =\",np.std(df_air_cleaned[col]))\n",
    "    print(\"minimum =\",np.min(df_air_cleaned[col]))\n",
    "    print(\"maximum =\",np.max(df_air_cleaned[col]))\n",
    "    print(\"---------------------------------------\")\n",
    "    print()\n",
    "\n",
    "print(\"the total number of data rows =\", df_air_cleaned.shape[0])"
   ]
  },
  {
   "cell_type": "markdown",
   "metadata": {},
   "source": [
    "Explanation: <br>\n",
    "1. Strategy: Deleting data rows that contain implausible values.\n",
    "\n",
    "2. Advantages: For replacing implausible values by a value derived from other data points, the replaced value may be incorrect and the dataset may be biased so that the dataset may be not reliable. Deleting data strategy can avoid this error.\n",
    "\n",
    "3. Disadvantages: Decreasing the amount of sample and the important value may be deleted by deleting the row that it\n",
    " contains any implausible values <font color = red>( i don't think so, because we  consider the stat. param. for \n",
    " each feature separately, what we did is just deleting the implausible one will do no harm to other features.) </font>.\n",
    " Different features will have different size, this may be problematic in some batch processing.\n",
    "\n",
    "4. Compare: the mean values are more bigger after cleaning without the effect of implausible negative value -200, \n",
    "standard deviation is more smaller without those outliers, the dataset is more stable. The minimum of each feature are \n",
    "different now, making the minimun also meaningful for analysis. totally the result of cleaned dataset is more accurate."
   ]
  },
  {
   "cell_type": "markdown",
   "metadata": {},
   "source": [
    "## Question 2 - Data Preprocessing  and Advanced Visualization (15 points)"
   ]
  },
  {
   "cell_type": "markdown",
   "metadata": {},
   "source": [
    "For this question, use the extracted data set you created in the preprocessing step ('air_pollution_2.csv')."
   ]
  },
  {
   "cell_type": "markdown",
   "metadata": {},
   "source": [
    "(a) To create a suitable input for the following questions, modify the data set as listed below and then print the first 5 data rows:\n",
    "\n",
    "    - Remove the columns 'Traffic_Volume' and 'Particulate_Matter'\n",
    "    - Replace the columns 'Date' and 'Time' by a combined column 'Datetime' using the datetime data type\n",
    "    - Restrict the data to the timeframe between 2004-04-01 and 2005-03-31\n",
    "    - Drop all rows that contain a missing value or a value below -37\n",
    "    \n",
    "*Hint: You may be able to reuse some of your code or data sets created above.*"
   ]
  },
  {
   "cell_type": "code",
   "execution_count": 8,
   "metadata": {},
   "outputs": [
    {
     "data": {
      "text/html": [
       "<div>\n",
       "<style scoped>\n",
       "    .dataframe tbody tr th:only-of-type {\n",
       "        vertical-align: middle;\n",
       "    }\n",
       "\n",
       "    .dataframe tbody tr th {\n",
       "        vertical-align: top;\n",
       "    }\n",
       "\n",
       "    .dataframe thead th {\n",
       "        text-align: right;\n",
       "    }\n",
       "</style>\n",
       "<table border=\"1\" class=\"dataframe\">\n",
       "  <thead>\n",
       "    <tr style=\"text-align: right;\">\n",
       "      <th></th>\n",
       "      <th>CO</th>\n",
       "      <th>Benzene</th>\n",
       "      <th>NO2</th>\n",
       "      <th>Temperature</th>\n",
       "      <th>Humidity(%)</th>\n",
       "      <th>Datetime</th>\n",
       "    </tr>\n",
       "  </thead>\n",
       "  <tbody>\n",
       "    <tr>\n",
       "      <th>0</th>\n",
       "      <td>4.7</td>\n",
       "      <td>25.8</td>\n",
       "      <td>182</td>\n",
       "      <td>14.0</td>\n",
       "      <td>53.0</td>\n",
       "      <td>2004-12-14 13:00:00</td>\n",
       "    </tr>\n",
       "    <tr>\n",
       "      <th>2</th>\n",
       "      <td>0.9</td>\n",
       "      <td>3.6</td>\n",
       "      <td>66</td>\n",
       "      <td>27.6</td>\n",
       "      <td>43.7</td>\n",
       "      <td>2004-07-25 11:00:00</td>\n",
       "    </tr>\n",
       "    <tr>\n",
       "      <th>4</th>\n",
       "      <td>3.0</td>\n",
       "      <td>10.3</td>\n",
       "      <td>113</td>\n",
       "      <td>10.2</td>\n",
       "      <td>78.4</td>\n",
       "      <td>2004-11-29 00:00:00</td>\n",
       "    </tr>\n",
       "    <tr>\n",
       "      <th>6</th>\n",
       "      <td>2.0</td>\n",
       "      <td>11.3</td>\n",
       "      <td>208</td>\n",
       "      <td>32.6</td>\n",
       "      <td>31.8</td>\n",
       "      <td>2004-09-13 15:00:00</td>\n",
       "    </tr>\n",
       "    <tr>\n",
       "      <th>9</th>\n",
       "      <td>0.9</td>\n",
       "      <td>7.4</td>\n",
       "      <td>97</td>\n",
       "      <td>31.6</td>\n",
       "      <td>23.8</td>\n",
       "      <td>2004-07-18 10:00:00</td>\n",
       "    </tr>\n",
       "  </tbody>\n",
       "</table>\n",
       "</div>"
      ],
      "text/plain": [
       "    CO  Benzene  NO2  Temperature  Humidity(%)            Datetime\n",
       "0  4.7     25.8  182         14.0         53.0 2004-12-14 13:00:00\n",
       "2  0.9      3.6   66         27.6         43.7 2004-07-25 11:00:00\n",
       "4  3.0     10.3  113         10.2         78.4 2004-11-29 00:00:00\n",
       "6  2.0     11.3  208         32.6         31.8 2004-09-13 15:00:00\n",
       "9  0.9      7.4   97         31.6         23.8 2004-07-18 10:00:00"
      ]
     },
     "execution_count": 8,
     "metadata": {},
     "output_type": "execute_result"
    }
   ],
   "source": [
    "#your code\n",
    "df_air = pd.read_csv(\"air_pollution_2.csv\", delimiter=',')\n",
    "df_air = df_air.drop(columns = ['Traffic_Volume','Particulate_Matter'])\n",
    "df_air['Datetime'] = pd.to_datetime(df_air.Date)+pd.to_timedelta(df_air.Time, unit='h')\n",
    "df_air = df_air.drop(columns=['Date','Time'])\n",
    "df_air = df_air[(df_air['Datetime'] >= '2004-04-01') & (df_air['Datetime'] <= '2005-03-31')]\n",
    "df_air = df_air.dropna(how='any',axis=0)\n",
    "col_numerical = ['CO', 'Benzene', 'NO2', 'Temperature', 'Humidity(%)']\n",
    "for col in col_numerical:\n",
    "    df_air = df_air[df_air[col] >= -37]\n",
    "df_air.head()"
   ]
  },
  {
   "cell_type": "markdown",
   "metadata": {},
   "source": [
    "(b) For temperature, humidity and CO compute the mean value for each month. Create two stream graphs based on this newly computed data, that visualize the change in temperature, CO and humidity over the months:\n",
    "\n",
    "    1) For the first stream graph, simply use the mean values you computed for each month.\n",
    "    \n",
    "    2) For the second stream graph, first normalize the computed mean values by mapping them individually to an interval between 0 and 1, that is, apply Min-max normalization."
   ]
  },
  {
   "cell_type": "code",
   "execution_count": 8,
   "metadata": {},
   "outputs": [],
   "source": [
    "#your code"
   ]
  },
  {
   "cell_type": "markdown",
   "metadata": {},
   "source": [
    "(c) Answer the following questions based on the stream graphs created in question 2(a) and briefly explain how you derived the answer. Which of the two stream graphs do you consider more adequate to obtain the answers?\n",
    "\n",
    "    1) In which month is the average CO lowest?\n",
    "    \n",
    "    2) Is there any correlation between humidity and CO?\n",
    "    \n",
    "    3) Between which months is temperature increasing?"
   ]
  },
  {
   "cell_type": "markdown",
   "metadata": {},
   "source": [
    "Explanation:"
   ]
  },
  {
   "cell_type": "markdown",
   "metadata": {},
   "source": [
    "(d) We want to create a heat map that visualizes the CO measured for different combinations of humidity and temperature. \n",
    "The heatmap should have 12 columns and 12 rows. The shown CO value should be the *median* of all values for the combination of humidity and temperature.\n",
    "\n",
    "Modify the data as needed. Use a binning strategy of your choice for converting numerical data to categorical data. Motivate and explain all your choices and modifications."
   ]
  },
  {
   "cell_type": "code",
   "execution_count": 9,
   "metadata": {},
   "outputs": [],
   "source": [
    "#your code"
   ]
  },
  {
   "cell_type": "markdown",
   "metadata": {},
   "source": [
    "(e) Use the modified data to create a heat map as specified in question part (c). Answer the following questions based on that heat map and briefly explain how you derived your answer:\n",
    "\n",
    "    1) For which combination of humidity and temperature values is the median CO highest? \n",
    "    \n",
    "    2) How do you explain empty fields in your heat map?\n",
    "    \n",
    "    3) Is CO correlating with temperature, humidity, or both?"
   ]
  },
  {
   "cell_type": "code",
   "execution_count": 10,
   "metadata": {},
   "outputs": [],
   "source": [
    "#your code"
   ]
  },
  {
   "cell_type": "markdown",
   "metadata": {},
   "source": [
    "Explanation:"
   ]
  },
  {
   "cell_type": "markdown",
   "metadata": {},
   "source": [
    "## Question 3 - Clustering (15 points): "
   ]
  },
  {
   "cell_type": "markdown",
   "metadata": {},
   "source": [
    "(a) For this question, use the extracted data set you created in the preprocessing step ('air_pollution_2.csv'). Use a scatter diagram to find the relation between the 'Traffic_Volume' and 'Particulate_Matter' columns."
   ]
  },
  {
   "cell_type": "code",
   "execution_count": 119,
   "metadata": {},
   "outputs": [
    {
     "data": {
      "image/png": "[encoded data removed]",
      "text/plain": [
       "<Figure size 432x288 with 1 Axes>"
      ]
     },
     "metadata": {
      "needs_background": "light"
     },
     "output_type": "display_data"
    }
   ],
   "source": [
    "# Your code\n",
    "df_air = pd.read_csv(\"air_pollution_2.csv\", delimiter=',')\n",
    "df_air_tp = pd.DataFrame(df_air, columns=[\"Traffic_Volume\", \"Particulate_Matter\"])\n",
    "# sns.jointplot(x=\"Traffic_Volume\", y=\"Particulate_Matter\", data=df_air_tp, kind=\"scatter\");\n",
    "plt.scatter(df_air_tp['Traffic_Volume'],df_air_tp['Particulate_Matter'], s=0.7)\n",
    "plt.show()"
   ]
  },
  {
   "cell_type": "markdown",
   "metadata": {},
   "source": [
    "(b) From the previous question you found the relationship between two columns which are suitable for applying clustering methods. Find the two arrays corresponding to these to columns and drop nan values from them. Apply the k_means method for clustering the two mentioned columns. Use three different number of clusters for classifying."
   ]
  },
  {
   "cell_type": "code",
   "execution_count": 120,
   "metadata": {},
   "outputs": [],
   "source": [
    "df_air_tp = df_air_tp.dropna()\n",
    "x = df_air_tp.to_numpy()"
   ]
  },
  {
   "cell_type": "code",
   "execution_count": 121,
   "metadata": {},
   "outputs": [
    {
     "name": "stdout",
     "output_type": "stream",
     "text": [
      "K-Means: The number of clusters is 5\n"
     ]
    },
    {
     "data": {
      "image/png": "[encoded data removed]",
      "text/plain": [
       "<Figure size 432x288 with 1 Axes>"
      ]
     },
     "metadata": {
      "needs_background": "light"
     },
     "output_type": "display_data"
    },
    {
     "name": "stdout",
     "output_type": "stream",
     "text": [
      "K-Means: The number of clusters is 6\n"
     ]
    },
    {
     "data": {
      "image/png": "[encoded data removed]",
      "text/plain": [
       "<Figure size 432x288 with 1 Axes>"
      ]
     },
     "metadata": {
      "needs_background": "light"
     },
     "output_type": "display_data"
    },
    {
     "name": "stdout",
     "output_type": "stream",
     "text": [
      "K-Means: The number of clusters is 7\n"
     ]
    },
    {
     "data": {
      "image/png": "[encoded data removed]",
      "text/plain": [
       "<Figure size 432x288 with 1 Axes>"
      ]
     },
     "metadata": {
      "needs_background": "light"
     },
     "output_type": "display_data"
    }
   ],
   "source": [
    "# Your code\n",
    "# from sklearn import cluster\n",
    "from sklearn.cluster import KMeans\n",
    "\n",
    "def fun_KMeans(x,cluster_num):\n",
    "    kmeans = KMeans(cluster_num).fit(x)\n",
    "    Y = kmeans.labels_\n",
    "    centroids = kmeans.cluster_centers_\n",
    "    \n",
    "    print(\"K-Means: The number of clusters is\",cluster_num)\n",
    "    plt.scatter(x[:, 0], x[:, 1], c=Y, cmap='viridis')\n",
    "    plt.scatter(centroids[:, 0], centroids[:, 1], c='k', marker = '*', s=200, alpha=0.5)\n",
    "    plt.show()\n",
    "\n",
    "for k in range(5,8):\n",
    "    fun_KMeans(x,k)"
   ]
  },
  {
   "cell_type": "markdown",
   "metadata": {},
   "source": [
    "(c) Apply the DBSCAN method for clustering the two mentioned columns. Use three different eps and min_samples for clustering."
   ]
  },
  {
   "cell_type": "code",
   "execution_count": 122,
   "metadata": {},
   "outputs": [
    {
     "name": "stdout",
     "output_type": "stream",
     "text": [
      "DBSCAN: eps=4 , min_samples=20\n"
     ]
    },
    {
     "data": {
      "image/png": "[encoded data removed]",
      "text/plain": [
       "<Figure size 432x288 with 1 Axes>"
      ]
     },
     "metadata": {
      "needs_background": "light"
     },
     "output_type": "display_data"
    },
    {
     "name": "stdout",
     "output_type": "stream",
     "text": [
      "DBSCAN: eps=5 , min_samples=10\n"
     ]
    },
    {
     "data": {
      "image/png": "[encoded data removed]",
      "text/plain": [
       "<Figure size 432x288 with 1 Axes>"
      ]
     },
     "metadata": {
      "needs_background": "light"
     },
     "output_type": "display_data"
    },
    {
     "name": "stdout",
     "output_type": "stream",
     "text": [
      "DBSCAN: eps=5 , min_samples=20\n"
     ]
    },
    {
     "data": {
      "image/png": "[encoded data removed]",
      "text/plain": [
       "<Figure size 432x288 with 1 Axes>"
      ]
     },
     "metadata": {
      "needs_background": "light"
     },
     "output_type": "display_data"
    }
   ],
   "source": [
    "# Your code\n",
    "from sklearn.cluster import DBSCAN\n",
    "      \n",
    "def fun_DBSCAN(x,eps,min_samples):\n",
    "    dbscan = DBSCAN(eps, min_samples).fit(x)\n",
    "    clusters = dbscan.labels_\n",
    "    cluster_indexs = np.unique(clusters).tolist()\n",
    "#     print(cluster_indexs)/\n",
    "    \n",
    "    print(\"DBSCAN: eps={} , min_samples={}\".format(eps,min_samples))\n",
    "    fig, plots = plt.subplots()\n",
    "    for cluster_index in cluster_indexs :\n",
    "        sub_set = np.array([x[i] for i in range(len(x)) if clusters[i] == cluster_index])\n",
    "        if len(sub_set) == 0 :\n",
    "            continue\n",
    "        plots.scatter(sub_set[:,0], sub_set[:,1], s = 10, cmap='viridis')\n",
    "    plt.show()\n",
    "    \n",
    "choice = [[4,20],[5,10],[5,20]]\n",
    "for [eps,min_samples] in choice:\n",
    "    fun_DBSCAN(x,eps,min_samples)"
   ]
  },
  {
   "cell_type": "markdown",
   "metadata": {},
   "source": [
    "(d) Compare k_means and DBSCAN results. Which of these methods is more suitable for clustering this data? Why?"
   ]
  },
  {
   "cell_type": "code",
   "execution_count": 123,
   "metadata": {},
   "outputs": [
    {
     "name": "stdout",
     "output_type": "stream",
     "text": [
      "K-Means: The number of clusters is 6\n"
     ]
    },
    {
     "data": {
      "image/png": "[encoded data removed]",
      "text/plain": [
       "<Figure size 432x288 with 1 Axes>"
      ]
     },
     "metadata": {
      "needs_background": "light"
     },
     "output_type": "display_data"
    },
    {
     "name": "stdout",
     "output_type": "stream",
     "text": [
      "DBSCAN: eps=4 , min_samples=20\n"
     ]
    },
    {
     "data": {
      "image/png": "[encoded data removed]",
      "text/plain": [
       "<Figure size 432x288 with 1 Axes>"
      ]
     },
     "metadata": {
      "needs_background": "light"
     },
     "output_type": "display_data"
    }
   ],
   "source": [
    "# Your code\n",
    "fun_KMeans(x,cluster_num=6)\n",
    "fun_DBSCAN(x,eps=4,min_samples=20)"
   ]
  },
  {
   "cell_type": "markdown",
   "metadata": {},
   "source": [
    "Explanation:<br>\n",
    "K-Means is more suitable for clustering this data, because we can intuitively distinguish that this data can be divided into 6 categories and each shape of clustering is rectangular."
   ]
  },
  {
   "cell_type": "markdown",
   "metadata": {},
   "source": [
    "(e) Add noise to the two mentioned columns. For adding noise, first find the range of these two columns and add a random number of 30 samples of noise in the range of each column to that. Plot the scatter diagram again.\n",
    "Repeat k_means and DBSCAN algorithms for clustering. Which of these methods is more suitable for clustering this data? Why?"
   ]
  },
  {
   "cell_type": "code",
   "execution_count": 146,
   "metadata": {},
   "outputs": [
    {
     "data": {
      "image/png": "[encoded data removed]",
      "text/plain": [
       "<Figure size 432x288 with 1 Axes>"
      ]
     },
     "metadata": {
      "needs_background": "light"
     },
     "output_type": "display_data"
    },
    {
     "name": "stdout",
     "output_type": "stream",
     "text": [
      "K-Means: The number of clusters is 6\n"
     ]
    },
    {
     "data": {
      "image/png": "[encoded data removed]",
      "text/plain": [
       "<Figure size 432x288 with 1 Axes>"
      ]
     },
     "metadata": {
      "needs_background": "light"
     },
     "output_type": "display_data"
    },
    {
     "name": "stdout",
     "output_type": "stream",
     "text": [
      "DBSCAN: eps=6 , min_samples=6\n"
     ]
    },
    {
     "data": {
      "image/png": "[encoded data removed]",
      "text/plain": [
       "<Figure size 432x288 with 1 Axes>"
      ]
     },
     "metadata": {
      "needs_background": "light"
     },
     "output_type": "display_data"
    }
   ],
   "source": [
    "# Your code\n",
    "def add_noise(x):\n",
    "    min_0 = np.min(x[:,0])\n",
    "    max_0 = np.max(x[:,0])\n",
    "    min_1 = np.min(x[:,1])\n",
    "    max_1 = np.max(x[:,1])\n",
    "\n",
    "    noise = np.zeros((30,2,))\n",
    "\n",
    "    for i in range(noise.shape[0]):\n",
    "        rand_0 = min_0 + (max_0-min_0)*np.random.random()\n",
    "        rand_1 = min_1 + (max_1-min_1)*np.random.random()\n",
    "        noise[i,0] = rand_0\n",
    "        noise[i,1] = rand_1\n",
    "    x_noise = np.vstack((x,noise))\n",
    "    return x_noise\n",
    "\n",
    "x_noise = add_noise(x)\n",
    "plt.scatter(x_noise[:,0],x_noise[:,1], s=0.7)\n",
    "plt.show()\n",
    "\n",
    "fun_KMeans(x_noise,cluster_num=6)\n",
    "fun_DBSCAN(x_noise,eps=6,min_samples=6)"
   ]
  },
  {
   "cell_type": "markdown",
   "metadata": {},
   "source": [
    "Explanation:<br>\n",
    "DBSCAN is more suitable for clustering this data, because it can good distinguish noise to a cluster and other real data are also good clustered."
   ]
  },
  {
   "cell_type": "markdown",
   "metadata": {},
   "source": [
    "## Question 4 - Frequent itemsets and association rules (15 points): "
   ]
  },
  {
   "cell_type": "markdown",
   "metadata": {},
   "source": [
    "(a) You should carry out some preprocessing steps before starting the analysis:\n",
    " - Select 90% of 'applications' dataset by random sampling. Use one of the group member's student number as a seed.\n",
    " - After completing this preprocessing step, export your final dataset as 'applications_2.csv' dataset and use that for the next steps of the assignment.\n",
    " - <font color='red'>Important!</font> Make sure that you submit your extracted dataset with your result in moodle."
   ]
  },
  {
   "cell_type": "code",
   "execution_count": 173,
   "metadata": {},
   "outputs": [
    {
     "name": "stderr",
     "output_type": "stream",
     "text": [
      "/Users/hhk/anaconda3/lib/python3.7/site-packages/IPython/core/interactiveshell.py:3058: DtypeWarning: Columns (86,87,88,89,90,91,92,93,94,95,96,97,98,99,100,101,102,103,104,105,106,107,108,109,110,111,112,113,114,115,116,117,118,119,120,121,122,123,124,125,126,127,128,129,130,131,132,133,134,135,136,137,138,139,140,141,142,143,144,145,146,147,148,149,150,151,152,153,154,155,156,157,158,159,160,161,162,163,164,165,166,167,168,169,170,171,172,173,174) have mixed types. Specify dtype option on import or set low_memory=False.\n",
      "  interactivity=interactivity, compiler=compiler, result=result)\n"
     ]
    }
   ],
   "source": [
    "# Your code\n",
    "data_app = pd.read_csv(\"applications.csv\", delimiter=',')\n",
    "df_app = pd.DataFrame(data_app).sample(frac=0.9, random_state=391180)\n",
    "# df_app.to_csv(\"applications_2.csv\", index=False)"
   ]
  },
  {
   "cell_type": "markdown",
   "metadata": {},
   "source": [
    "(b) Find the most frequent itemsets with the support of more than 0.4 by using the Apriori algorithm (Hint: When you are creating rows to make the data_set, you should use none_empty strings)."
   ]
  },
  {
   "cell_type": "code",
   "execution_count": 174,
   "metadata": {},
   "outputs": [
    {
     "data": {
      "text/html": [
       "<div>\n",
       "<style scoped>\n",
       "    .dataframe tbody tr th:only-of-type {\n",
       "        vertical-align: middle;\n",
       "    }\n",
       "\n",
       "    .dataframe tbody tr th {\n",
       "        vertical-align: top;\n",
       "    }\n",
       "\n",
       "    .dataframe thead th {\n",
       "        text-align: right;\n",
       "    }\n",
       "</style>\n",
       "<table border=\"1\" class=\"dataframe\">\n",
       "  <thead>\n",
       "    <tr style=\"text-align: right;\">\n",
       "      <th></th>\n",
       "      <th>support</th>\n",
       "      <th>itemsets</th>\n",
       "      <th>length</th>\n",
       "    </tr>\n",
       "  </thead>\n",
       "  <tbody>\n",
       "    <tr>\n",
       "      <th>0</th>\n",
       "      <td>0.999830</td>\n",
       "      <td>()</td>\n",
       "      <td>1</td>\n",
       "    </tr>\n",
       "    <tr>\n",
       "      <th>1</th>\n",
       "      <td>0.585753</td>\n",
       "      <td>(A_DECLINED)</td>\n",
       "      <td>1</td>\n",
       "    </tr>\n",
       "    <tr>\n",
       "      <th>2</th>\n",
       "      <td>1.000000</td>\n",
       "      <td>(A_PARTLYSUBMITTED)</td>\n",
       "      <td>1</td>\n",
       "    </tr>\n",
       "    <tr>\n",
       "      <th>3</th>\n",
       "      <td>0.558584</td>\n",
       "      <td>(A_PREACCEPTED)</td>\n",
       "      <td>1</td>\n",
       "    </tr>\n",
       "    <tr>\n",
       "      <th>4</th>\n",
       "      <td>1.000000</td>\n",
       "      <td>(A_SUBMITTED)</td>\n",
       "      <td>1</td>\n",
       "    </tr>\n",
       "    <tr>\n",
       "      <th>5</th>\n",
       "      <td>0.558584</td>\n",
       "      <td>(W_Completeren aanvraag)</td>\n",
       "      <td>1</td>\n",
       "    </tr>\n",
       "    <tr>\n",
       "      <th>6</th>\n",
       "      <td>0.585753</td>\n",
       "      <td>(, A_DECLINED)</td>\n",
       "      <td>2</td>\n",
       "    </tr>\n",
       "    <tr>\n",
       "      <th>7</th>\n",
       "      <td>0.999830</td>\n",
       "      <td>(, A_PARTLYSUBMITTED)</td>\n",
       "      <td>2</td>\n",
       "    </tr>\n",
       "    <tr>\n",
       "      <th>8</th>\n",
       "      <td>0.558414</td>\n",
       "      <td>(, A_PREACCEPTED)</td>\n",
       "      <td>2</td>\n",
       "    </tr>\n",
       "    <tr>\n",
       "      <th>9</th>\n",
       "      <td>0.999830</td>\n",
       "      <td>(, A_SUBMITTED)</td>\n",
       "      <td>2</td>\n",
       "    </tr>\n",
       "    <tr>\n",
       "      <th>10</th>\n",
       "      <td>0.558414</td>\n",
       "      <td>(, W_Completeren aanvraag)</td>\n",
       "      <td>2</td>\n",
       "    </tr>\n",
       "    <tr>\n",
       "      <th>11</th>\n",
       "      <td>0.585753</td>\n",
       "      <td>(A_DECLINED, A_PARTLYSUBMITTED)</td>\n",
       "      <td>2</td>\n",
       "    </tr>\n",
       "    <tr>\n",
       "      <th>12</th>\n",
       "      <td>0.585753</td>\n",
       "      <td>(A_SUBMITTED, A_DECLINED)</td>\n",
       "      <td>2</td>\n",
       "    </tr>\n",
       "    <tr>\n",
       "      <th>13</th>\n",
       "      <td>0.558584</td>\n",
       "      <td>(A_PARTLYSUBMITTED, A_PREACCEPTED)</td>\n",
       "      <td>2</td>\n",
       "    </tr>\n",
       "    <tr>\n",
       "      <th>14</th>\n",
       "      <td>1.000000</td>\n",
       "      <td>(A_SUBMITTED, A_PARTLYSUBMITTED)</td>\n",
       "      <td>2</td>\n",
       "    </tr>\n",
       "    <tr>\n",
       "      <th>15</th>\n",
       "      <td>0.558584</td>\n",
       "      <td>(W_Completeren aanvraag, A_PARTLYSUBMITTED)</td>\n",
       "      <td>2</td>\n",
       "    </tr>\n",
       "    <tr>\n",
       "      <th>16</th>\n",
       "      <td>0.558584</td>\n",
       "      <td>(A_SUBMITTED, A_PREACCEPTED)</td>\n",
       "      <td>2</td>\n",
       "    </tr>\n",
       "    <tr>\n",
       "      <th>17</th>\n",
       "      <td>0.558584</td>\n",
       "      <td>(W_Completeren aanvraag, A_PREACCEPTED)</td>\n",
       "      <td>2</td>\n",
       "    </tr>\n",
       "    <tr>\n",
       "      <th>18</th>\n",
       "      <td>0.558584</td>\n",
       "      <td>(A_SUBMITTED, W_Completeren aanvraag)</td>\n",
       "      <td>2</td>\n",
       "    </tr>\n",
       "    <tr>\n",
       "      <th>19</th>\n",
       "      <td>0.585753</td>\n",
       "      <td>(, A_DECLINED, A_PARTLYSUBMITTED)</td>\n",
       "      <td>3</td>\n",
       "    </tr>\n",
       "    <tr>\n",
       "      <th>20</th>\n",
       "      <td>0.585753</td>\n",
       "      <td>(, A_DECLINED, A_SUBMITTED)</td>\n",
       "      <td>3</td>\n",
       "    </tr>\n",
       "    <tr>\n",
       "      <th>21</th>\n",
       "      <td>0.558414</td>\n",
       "      <td>(, A_PARTLYSUBMITTED, A_PREACCEPTED)</td>\n",
       "      <td>3</td>\n",
       "    </tr>\n",
       "    <tr>\n",
       "      <th>22</th>\n",
       "      <td>0.999830</td>\n",
       "      <td>(, A_PARTLYSUBMITTED, A_SUBMITTED)</td>\n",
       "      <td>3</td>\n",
       "    </tr>\n",
       "    <tr>\n",
       "      <th>23</th>\n",
       "      <td>0.558414</td>\n",
       "      <td>(, W_Completeren aanvraag, A_PARTLYSUBMITTED)</td>\n",
       "      <td>3</td>\n",
       "    </tr>\n",
       "    <tr>\n",
       "      <th>24</th>\n",
       "      <td>0.558414</td>\n",
       "      <td>(, A_SUBMITTED, A_PREACCEPTED)</td>\n",
       "      <td>3</td>\n",
       "    </tr>\n",
       "    <tr>\n",
       "      <th>25</th>\n",
       "      <td>0.558414</td>\n",
       "      <td>(, W_Completeren aanvraag, A_PREACCEPTED)</td>\n",
       "      <td>3</td>\n",
       "    </tr>\n",
       "    <tr>\n",
       "      <th>26</th>\n",
       "      <td>0.558414</td>\n",
       "      <td>(, W_Completeren aanvraag, A_SUBMITTED)</td>\n",
       "      <td>3</td>\n",
       "    </tr>\n",
       "    <tr>\n",
       "      <th>27</th>\n",
       "      <td>0.585753</td>\n",
       "      <td>(A_SUBMITTED, A_DECLINED, A_PARTLYSUBMITTED)</td>\n",
       "      <td>3</td>\n",
       "    </tr>\n",
       "    <tr>\n",
       "      <th>28</th>\n",
       "      <td>0.558584</td>\n",
       "      <td>(A_SUBMITTED, A_PARTLYSUBMITTED, A_PREACCEPTED)</td>\n",
       "      <td>3</td>\n",
       "    </tr>\n",
       "    <tr>\n",
       "      <th>29</th>\n",
       "      <td>0.558584</td>\n",
       "      <td>(W_Completeren aanvraag, A_PARTLYSUBMITTED, A_...</td>\n",
       "      <td>3</td>\n",
       "    </tr>\n",
       "    <tr>\n",
       "      <th>30</th>\n",
       "      <td>0.558584</td>\n",
       "      <td>(A_SUBMITTED, W_Completeren aanvraag, A_PARTLY...</td>\n",
       "      <td>3</td>\n",
       "    </tr>\n",
       "    <tr>\n",
       "      <th>31</th>\n",
       "      <td>0.558584</td>\n",
       "      <td>(A_SUBMITTED, W_Completeren aanvraag, A_PREACC...</td>\n",
       "      <td>3</td>\n",
       "    </tr>\n",
       "    <tr>\n",
       "      <th>32</th>\n",
       "      <td>0.585753</td>\n",
       "      <td>(, A_PARTLYSUBMITTED, A_DECLINED, A_SUBMITTED)</td>\n",
       "      <td>4</td>\n",
       "    </tr>\n",
       "    <tr>\n",
       "      <th>33</th>\n",
       "      <td>0.558414</td>\n",
       "      <td>(, A_PARTLYSUBMITTED, A_SUBMITTED, A_PREACCEPTED)</td>\n",
       "      <td>4</td>\n",
       "    </tr>\n",
       "    <tr>\n",
       "      <th>34</th>\n",
       "      <td>0.558414</td>\n",
       "      <td>(, W_Completeren aanvraag, A_PARTLYSUBMITTED, ...</td>\n",
       "      <td>4</td>\n",
       "    </tr>\n",
       "    <tr>\n",
       "      <th>35</th>\n",
       "      <td>0.558414</td>\n",
       "      <td>(, A_PARTLYSUBMITTED, W_Completeren aanvraag, ...</td>\n",
       "      <td>4</td>\n",
       "    </tr>\n",
       "    <tr>\n",
       "      <th>36</th>\n",
       "      <td>0.558414</td>\n",
       "      <td>(, W_Completeren aanvraag, A_SUBMITTED, A_PREA...</td>\n",
       "      <td>4</td>\n",
       "    </tr>\n",
       "    <tr>\n",
       "      <th>37</th>\n",
       "      <td>0.558584</td>\n",
       "      <td>(A_SUBMITTED, W_Completeren aanvraag, A_PARTLY...</td>\n",
       "      <td>4</td>\n",
       "    </tr>\n",
       "    <tr>\n",
       "      <th>38</th>\n",
       "      <td>0.558414</td>\n",
       "      <td>(, A_PARTLYSUBMITTED, A_PREACCEPTED, W_Complet...</td>\n",
       "      <td>5</td>\n",
       "    </tr>\n",
       "  </tbody>\n",
       "</table>\n",
       "</div>"
      ],
      "text/plain": [
       "     support                                           itemsets  length\n",
       "0   0.999830                                                 ()       1\n",
       "1   0.585753                                       (A_DECLINED)       1\n",
       "2   1.000000                                (A_PARTLYSUBMITTED)       1\n",
       "3   0.558584                                    (A_PREACCEPTED)       1\n",
       "4   1.000000                                      (A_SUBMITTED)       1\n",
       "5   0.558584                           (W_Completeren aanvraag)       1\n",
       "6   0.585753                                     (, A_DECLINED)       2\n",
       "7   0.999830                              (, A_PARTLYSUBMITTED)       2\n",
       "8   0.558414                                  (, A_PREACCEPTED)       2\n",
       "9   0.999830                                    (, A_SUBMITTED)       2\n",
       "10  0.558414                         (, W_Completeren aanvraag)       2\n",
       "11  0.585753                    (A_DECLINED, A_PARTLYSUBMITTED)       2\n",
       "12  0.585753                          (A_SUBMITTED, A_DECLINED)       2\n",
       "13  0.558584                 (A_PARTLYSUBMITTED, A_PREACCEPTED)       2\n",
       "14  1.000000                   (A_SUBMITTED, A_PARTLYSUBMITTED)       2\n",
       "15  0.558584        (W_Completeren aanvraag, A_PARTLYSUBMITTED)       2\n",
       "16  0.558584                       (A_SUBMITTED, A_PREACCEPTED)       2\n",
       "17  0.558584            (W_Completeren aanvraag, A_PREACCEPTED)       2\n",
       "18  0.558584              (A_SUBMITTED, W_Completeren aanvraag)       2\n",
       "19  0.585753                  (, A_DECLINED, A_PARTLYSUBMITTED)       3\n",
       "20  0.585753                        (, A_DECLINED, A_SUBMITTED)       3\n",
       "21  0.558414               (, A_PARTLYSUBMITTED, A_PREACCEPTED)       3\n",
       "22  0.999830                 (, A_PARTLYSUBMITTED, A_SUBMITTED)       3\n",
       "23  0.558414      (, W_Completeren aanvraag, A_PARTLYSUBMITTED)       3\n",
       "24  0.558414                     (, A_SUBMITTED, A_PREACCEPTED)       3\n",
       "25  0.558414          (, W_Completeren aanvraag, A_PREACCEPTED)       3\n",
       "26  0.558414            (, W_Completeren aanvraag, A_SUBMITTED)       3\n",
       "27  0.585753       (A_SUBMITTED, A_DECLINED, A_PARTLYSUBMITTED)       3\n",
       "28  0.558584    (A_SUBMITTED, A_PARTLYSUBMITTED, A_PREACCEPTED)       3\n",
       "29  0.558584  (W_Completeren aanvraag, A_PARTLYSUBMITTED, A_...       3\n",
       "30  0.558584  (A_SUBMITTED, W_Completeren aanvraag, A_PARTLY...       3\n",
       "31  0.558584  (A_SUBMITTED, W_Completeren aanvraag, A_PREACC...       3\n",
       "32  0.585753     (, A_PARTLYSUBMITTED, A_DECLINED, A_SUBMITTED)       4\n",
       "33  0.558414  (, A_PARTLYSUBMITTED, A_SUBMITTED, A_PREACCEPTED)       4\n",
       "34  0.558414  (, W_Completeren aanvraag, A_PARTLYSUBMITTED, ...       4\n",
       "35  0.558414  (, A_PARTLYSUBMITTED, W_Completeren aanvraag, ...       4\n",
       "36  0.558414  (, W_Completeren aanvraag, A_SUBMITTED, A_PREA...       4\n",
       "37  0.558584  (A_SUBMITTED, W_Completeren aanvraag, A_PARTLY...       4\n",
       "38  0.558414  (, A_PARTLYSUBMITTED, A_PREACCEPTED, W_Complet...       5"
      ]
     },
     "execution_count": 174,
     "metadata": {},
     "output_type": "execute_result"
    }
   ],
   "source": [
    "# Your code\n",
    "\n",
    "# Import Apriori module and TransactionEncoder module and association module from mlxtend\n",
    "import csv\n",
    "from mlxtend.frequent_patterns import apriori\n",
    "from mlxtend.preprocessing import TransactionEncoder\n",
    "from mlxtend.frequent_patterns import association_rules as arule\n",
    "\n",
    "# Read file 'applications_2.csv' and change the data format for Apriori algorithm\n",
    "data_set = []\n",
    "with open(\"applications_2.csv\") as csvFile:\n",
    "    reader = csv.reader(csvFile)\n",
    "    for row in reader:\n",
    "        data_set.append(row)\n",
    "        \n",
    "# Using TransactionEncoder module to convert an array to DataFrame for Apriori algorithm in mlxtend\n",
    "te = TransactionEncoder()\n",
    "te_ary = te.fit(data_set).transform(data_set)\n",
    "data = pd.DataFrame(te_ary, columns = te.columns_)\n",
    "# data.tail(5)\n",
    "\n",
    "frequent_itemsets = apriori(data, min_support = 0.4, use_colnames = True)\n",
    "frequent_itemsets['length'] = frequent_itemsets['itemsets'].apply(lambda x: len(x))\n",
    "frequent_itemsets\n"
   ]
  },
  {
   "cell_type": "markdown",
   "metadata": {},
   "source": [
    "(c) Find the most frequent itemsets with the support of more than 0.4 by using the Apriori algorithm having more than 2 members."
   ]
  },
  {
   "cell_type": "code",
   "execution_count": 175,
   "metadata": {},
   "outputs": [
    {
     "data": {
      "text/html": [
       "<div>\n",
       "<style scoped>\n",
       "    .dataframe tbody tr th:only-of-type {\n",
       "        vertical-align: middle;\n",
       "    }\n",
       "\n",
       "    .dataframe tbody tr th {\n",
       "        vertical-align: top;\n",
       "    }\n",
       "\n",
       "    .dataframe thead th {\n",
       "        text-align: right;\n",
       "    }\n",
       "</style>\n",
       "<table border=\"1\" class=\"dataframe\">\n",
       "  <thead>\n",
       "    <tr style=\"text-align: right;\">\n",
       "      <th></th>\n",
       "      <th>support</th>\n",
       "      <th>itemsets</th>\n",
       "      <th>length</th>\n",
       "    </tr>\n",
       "  </thead>\n",
       "  <tbody>\n",
       "    <tr>\n",
       "      <th>19</th>\n",
       "      <td>0.585753</td>\n",
       "      <td>(, A_DECLINED, A_PARTLYSUBMITTED)</td>\n",
       "      <td>3</td>\n",
       "    </tr>\n",
       "    <tr>\n",
       "      <th>20</th>\n",
       "      <td>0.585753</td>\n",
       "      <td>(, A_DECLINED, A_SUBMITTED)</td>\n",
       "      <td>3</td>\n",
       "    </tr>\n",
       "    <tr>\n",
       "      <th>21</th>\n",
       "      <td>0.558414</td>\n",
       "      <td>(, A_PARTLYSUBMITTED, A_PREACCEPTED)</td>\n",
       "      <td>3</td>\n",
       "    </tr>\n",
       "    <tr>\n",
       "      <th>22</th>\n",
       "      <td>0.999830</td>\n",
       "      <td>(, A_PARTLYSUBMITTED, A_SUBMITTED)</td>\n",
       "      <td>3</td>\n",
       "    </tr>\n",
       "    <tr>\n",
       "      <th>23</th>\n",
       "      <td>0.558414</td>\n",
       "      <td>(, W_Completeren aanvraag, A_PARTLYSUBMITTED)</td>\n",
       "      <td>3</td>\n",
       "    </tr>\n",
       "    <tr>\n",
       "      <th>24</th>\n",
       "      <td>0.558414</td>\n",
       "      <td>(, A_SUBMITTED, A_PREACCEPTED)</td>\n",
       "      <td>3</td>\n",
       "    </tr>\n",
       "    <tr>\n",
       "      <th>25</th>\n",
       "      <td>0.558414</td>\n",
       "      <td>(, W_Completeren aanvraag, A_PREACCEPTED)</td>\n",
       "      <td>3</td>\n",
       "    </tr>\n",
       "    <tr>\n",
       "      <th>26</th>\n",
       "      <td>0.558414</td>\n",
       "      <td>(, W_Completeren aanvraag, A_SUBMITTED)</td>\n",
       "      <td>3</td>\n",
       "    </tr>\n",
       "    <tr>\n",
       "      <th>27</th>\n",
       "      <td>0.585753</td>\n",
       "      <td>(A_SUBMITTED, A_DECLINED, A_PARTLYSUBMITTED)</td>\n",
       "      <td>3</td>\n",
       "    </tr>\n",
       "    <tr>\n",
       "      <th>28</th>\n",
       "      <td>0.558584</td>\n",
       "      <td>(A_SUBMITTED, A_PARTLYSUBMITTED, A_PREACCEPTED)</td>\n",
       "      <td>3</td>\n",
       "    </tr>\n",
       "    <tr>\n",
       "      <th>29</th>\n",
       "      <td>0.558584</td>\n",
       "      <td>(W_Completeren aanvraag, A_PARTLYSUBMITTED, A_...</td>\n",
       "      <td>3</td>\n",
       "    </tr>\n",
       "    <tr>\n",
       "      <th>30</th>\n",
       "      <td>0.558584</td>\n",
       "      <td>(A_SUBMITTED, W_Completeren aanvraag, A_PARTLY...</td>\n",
       "      <td>3</td>\n",
       "    </tr>\n",
       "    <tr>\n",
       "      <th>31</th>\n",
       "      <td>0.558584</td>\n",
       "      <td>(A_SUBMITTED, W_Completeren aanvraag, A_PREACC...</td>\n",
       "      <td>3</td>\n",
       "    </tr>\n",
       "    <tr>\n",
       "      <th>32</th>\n",
       "      <td>0.585753</td>\n",
       "      <td>(, A_PARTLYSUBMITTED, A_DECLINED, A_SUBMITTED)</td>\n",
       "      <td>4</td>\n",
       "    </tr>\n",
       "    <tr>\n",
       "      <th>33</th>\n",
       "      <td>0.558414</td>\n",
       "      <td>(, A_PARTLYSUBMITTED, A_SUBMITTED, A_PREACCEPTED)</td>\n",
       "      <td>4</td>\n",
       "    </tr>\n",
       "    <tr>\n",
       "      <th>34</th>\n",
       "      <td>0.558414</td>\n",
       "      <td>(, W_Completeren aanvraag, A_PARTLYSUBMITTED, ...</td>\n",
       "      <td>4</td>\n",
       "    </tr>\n",
       "    <tr>\n",
       "      <th>35</th>\n",
       "      <td>0.558414</td>\n",
       "      <td>(, A_PARTLYSUBMITTED, W_Completeren aanvraag, ...</td>\n",
       "      <td>4</td>\n",
       "    </tr>\n",
       "    <tr>\n",
       "      <th>36</th>\n",
       "      <td>0.558414</td>\n",
       "      <td>(, W_Completeren aanvraag, A_SUBMITTED, A_PREA...</td>\n",
       "      <td>4</td>\n",
       "    </tr>\n",
       "    <tr>\n",
       "      <th>37</th>\n",
       "      <td>0.558584</td>\n",
       "      <td>(A_SUBMITTED, W_Completeren aanvraag, A_PARTLY...</td>\n",
       "      <td>4</td>\n",
       "    </tr>\n",
       "    <tr>\n",
       "      <th>38</th>\n",
       "      <td>0.558414</td>\n",
       "      <td>(, A_PARTLYSUBMITTED, A_PREACCEPTED, W_Complet...</td>\n",
       "      <td>5</td>\n",
       "    </tr>\n",
       "  </tbody>\n",
       "</table>\n",
       "</div>"
      ],
      "text/plain": [
       "     support                                           itemsets  length\n",
       "19  0.585753                  (, A_DECLINED, A_PARTLYSUBMITTED)       3\n",
       "20  0.585753                        (, A_DECLINED, A_SUBMITTED)       3\n",
       "21  0.558414               (, A_PARTLYSUBMITTED, A_PREACCEPTED)       3\n",
       "22  0.999830                 (, A_PARTLYSUBMITTED, A_SUBMITTED)       3\n",
       "23  0.558414      (, W_Completeren aanvraag, A_PARTLYSUBMITTED)       3\n",
       "24  0.558414                     (, A_SUBMITTED, A_PREACCEPTED)       3\n",
       "25  0.558414          (, W_Completeren aanvraag, A_PREACCEPTED)       3\n",
       "26  0.558414            (, W_Completeren aanvraag, A_SUBMITTED)       3\n",
       "27  0.585753       (A_SUBMITTED, A_DECLINED, A_PARTLYSUBMITTED)       3\n",
       "28  0.558584    (A_SUBMITTED, A_PARTLYSUBMITTED, A_PREACCEPTED)       3\n",
       "29  0.558584  (W_Completeren aanvraag, A_PARTLYSUBMITTED, A_...       3\n",
       "30  0.558584  (A_SUBMITTED, W_Completeren aanvraag, A_PARTLY...       3\n",
       "31  0.558584  (A_SUBMITTED, W_Completeren aanvraag, A_PREACC...       3\n",
       "32  0.585753     (, A_PARTLYSUBMITTED, A_DECLINED, A_SUBMITTED)       4\n",
       "33  0.558414  (, A_PARTLYSUBMITTED, A_SUBMITTED, A_PREACCEPTED)       4\n",
       "34  0.558414  (, W_Completeren aanvraag, A_PARTLYSUBMITTED, ...       4\n",
       "35  0.558414  (, A_PARTLYSUBMITTED, W_Completeren aanvraag, ...       4\n",
       "36  0.558414  (, W_Completeren aanvraag, A_SUBMITTED, A_PREA...       4\n",
       "37  0.558584  (A_SUBMITTED, W_Completeren aanvraag, A_PARTLY...       4\n",
       "38  0.558414  (, A_PARTLYSUBMITTED, A_PREACCEPTED, W_Complet...       5"
      ]
     },
     "execution_count": 175,
     "metadata": {},
     "output_type": "execute_result"
    }
   ],
   "source": [
    "# Your code\n",
    "\n",
    "frequent_itemsets_max_2 = apriori(data, min_support = 0.4, max_len = 2, use_colnames = True)\n",
    "\n",
    "frequent_itemsets_min_2 = frequent_itemsets[~ frequent_itemsets['itemsets'].isin(frequent_itemsets_max_2['itemsets'])]\n",
    "frequent_itemsets_min_2\n"
   ]
  },
  {
   "cell_type": "markdown",
   "metadata": {},
   "source": [
    "(d) Find the itemsets having min_confidence=0.3 and min_lift=1.2. Print support, confidence and lift of filtered rules in one table."
   ]
  },
  {
   "cell_type": "code",
   "execution_count": 176,
   "metadata": {},
   "outputs": [
    {
     "data": {
      "text/html": [
       "<div>\n",
       "<style scoped>\n",
       "    .dataframe tbody tr th:only-of-type {\n",
       "        vertical-align: middle;\n",
       "    }\n",
       "\n",
       "    .dataframe tbody tr th {\n",
       "        vertical-align: top;\n",
       "    }\n",
       "\n",
       "    .dataframe thead th {\n",
       "        text-align: right;\n",
       "    }\n",
       "</style>\n",
       "<table border=\"1\" class=\"dataframe\">\n",
       "  <thead>\n",
       "    <tr style=\"text-align: right;\">\n",
       "      <th></th>\n",
       "      <th>support</th>\n",
       "      <th>confidence</th>\n",
       "      <th>lift</th>\n",
       "    </tr>\n",
       "  </thead>\n",
       "  <tbody>\n",
       "    <tr>\n",
       "      <th>22</th>\n",
       "      <td>0.558584</td>\n",
       "      <td>1.000000</td>\n",
       "      <td>1.790242</td>\n",
       "    </tr>\n",
       "    <tr>\n",
       "      <th>23</th>\n",
       "      <td>0.558584</td>\n",
       "      <td>1.000000</td>\n",
       "      <td>1.790242</td>\n",
       "    </tr>\n",
       "    <tr>\n",
       "      <th>62</th>\n",
       "      <td>0.558414</td>\n",
       "      <td>1.000000</td>\n",
       "      <td>1.790242</td>\n",
       "    </tr>\n",
       "    <tr>\n",
       "      <th>63</th>\n",
       "      <td>0.558414</td>\n",
       "      <td>1.000000</td>\n",
       "      <td>1.790242</td>\n",
       "    </tr>\n",
       "    <tr>\n",
       "      <th>66</th>\n",
       "      <td>0.558414</td>\n",
       "      <td>0.999696</td>\n",
       "      <td>1.790242</td>\n",
       "    </tr>\n",
       "    <tr>\n",
       "      <th>67</th>\n",
       "      <td>0.558414</td>\n",
       "      <td>0.999696</td>\n",
       "      <td>1.790242</td>\n",
       "    </tr>\n",
       "    <tr>\n",
       "      <th>86</th>\n",
       "      <td>0.558584</td>\n",
       "      <td>1.000000</td>\n",
       "      <td>1.790242</td>\n",
       "    </tr>\n",
       "    <tr>\n",
       "      <th>88</th>\n",
       "      <td>0.558584</td>\n",
       "      <td>1.000000</td>\n",
       "      <td>1.790242</td>\n",
       "    </tr>\n",
       "    <tr>\n",
       "      <th>89</th>\n",
       "      <td>0.558584</td>\n",
       "      <td>1.000000</td>\n",
       "      <td>1.790242</td>\n",
       "    </tr>\n",
       "    <tr>\n",
       "      <th>91</th>\n",
       "      <td>0.558584</td>\n",
       "      <td>1.000000</td>\n",
       "      <td>1.790242</td>\n",
       "    </tr>\n",
       "    <tr>\n",
       "      <th>98</th>\n",
       "      <td>0.558584</td>\n",
       "      <td>1.000000</td>\n",
       "      <td>1.790242</td>\n",
       "    </tr>\n",
       "    <tr>\n",
       "      <th>99</th>\n",
       "      <td>0.558584</td>\n",
       "      <td>1.000000</td>\n",
       "      <td>1.790242</td>\n",
       "    </tr>\n",
       "    <tr>\n",
       "      <th>102</th>\n",
       "      <td>0.558584</td>\n",
       "      <td>1.000000</td>\n",
       "      <td>1.790242</td>\n",
       "    </tr>\n",
       "    <tr>\n",
       "      <th>103</th>\n",
       "      <td>0.558584</td>\n",
       "      <td>1.000000</td>\n",
       "      <td>1.790242</td>\n",
       "    </tr>\n",
       "    <tr>\n",
       "      <th>132</th>\n",
       "      <td>0.558414</td>\n",
       "      <td>1.000000</td>\n",
       "      <td>1.790242</td>\n",
       "    </tr>\n",
       "    <tr>\n",
       "      <th>134</th>\n",
       "      <td>0.558414</td>\n",
       "      <td>1.000000</td>\n",
       "      <td>1.790242</td>\n",
       "    </tr>\n",
       "    <tr>\n",
       "      <th>136</th>\n",
       "      <td>0.558414</td>\n",
       "      <td>1.000000</td>\n",
       "      <td>1.790242</td>\n",
       "    </tr>\n",
       "    <tr>\n",
       "      <th>138</th>\n",
       "      <td>0.558414</td>\n",
       "      <td>1.000000</td>\n",
       "      <td>1.790242</td>\n",
       "    </tr>\n",
       "    <tr>\n",
       "      <th>139</th>\n",
       "      <td>0.558414</td>\n",
       "      <td>0.999696</td>\n",
       "      <td>1.790242</td>\n",
       "    </tr>\n",
       "    <tr>\n",
       "      <th>141</th>\n",
       "      <td>0.558414</td>\n",
       "      <td>0.999696</td>\n",
       "      <td>1.790242</td>\n",
       "    </tr>\n",
       "    <tr>\n",
       "      <th>143</th>\n",
       "      <td>0.558414</td>\n",
       "      <td>0.999696</td>\n",
       "      <td>1.790242</td>\n",
       "    </tr>\n",
       "    <tr>\n",
       "      <th>145</th>\n",
       "      <td>0.558414</td>\n",
       "      <td>0.999696</td>\n",
       "      <td>1.790242</td>\n",
       "    </tr>\n",
       "    <tr>\n",
       "      <th>160</th>\n",
       "      <td>0.558414</td>\n",
       "      <td>1.000000</td>\n",
       "      <td>1.790242</td>\n",
       "    </tr>\n",
       "    <tr>\n",
       "      <th>162</th>\n",
       "      <td>0.558414</td>\n",
       "      <td>1.000000</td>\n",
       "      <td>1.790242</td>\n",
       "    </tr>\n",
       "    <tr>\n",
       "      <th>164</th>\n",
       "      <td>0.558414</td>\n",
       "      <td>1.000000</td>\n",
       "      <td>1.790242</td>\n",
       "    </tr>\n",
       "    <tr>\n",
       "      <th>166</th>\n",
       "      <td>0.558414</td>\n",
       "      <td>1.000000</td>\n",
       "      <td>1.790242</td>\n",
       "    </tr>\n",
       "    <tr>\n",
       "      <th>167</th>\n",
       "      <td>0.558414</td>\n",
       "      <td>0.999696</td>\n",
       "      <td>1.790242</td>\n",
       "    </tr>\n",
       "    <tr>\n",
       "      <th>169</th>\n",
       "      <td>0.558414</td>\n",
       "      <td>0.999696</td>\n",
       "      <td>1.790242</td>\n",
       "    </tr>\n",
       "    <tr>\n",
       "      <th>171</th>\n",
       "      <td>0.558414</td>\n",
       "      <td>0.999696</td>\n",
       "      <td>1.790242</td>\n",
       "    </tr>\n",
       "    <tr>\n",
       "      <th>173</th>\n",
       "      <td>0.558414</td>\n",
       "      <td>0.999696</td>\n",
       "      <td>1.790242</td>\n",
       "    </tr>\n",
       "    <tr>\n",
       "      <th>174</th>\n",
       "      <td>0.558584</td>\n",
       "      <td>1.000000</td>\n",
       "      <td>1.790242</td>\n",
       "    </tr>\n",
       "    <tr>\n",
       "      <th>176</th>\n",
       "      <td>0.558584</td>\n",
       "      <td>1.000000</td>\n",
       "      <td>1.790242</td>\n",
       "    </tr>\n",
       "    <tr>\n",
       "      <th>178</th>\n",
       "      <td>0.558584</td>\n",
       "      <td>1.000000</td>\n",
       "      <td>1.790242</td>\n",
       "    </tr>\n",
       "    <tr>\n",
       "      <th>180</th>\n",
       "      <td>0.558584</td>\n",
       "      <td>1.000000</td>\n",
       "      <td>1.790242</td>\n",
       "    </tr>\n",
       "    <tr>\n",
       "      <th>181</th>\n",
       "      <td>0.558584</td>\n",
       "      <td>1.000000</td>\n",
       "      <td>1.790242</td>\n",
       "    </tr>\n",
       "    <tr>\n",
       "      <th>183</th>\n",
       "      <td>0.558584</td>\n",
       "      <td>1.000000</td>\n",
       "      <td>1.790242</td>\n",
       "    </tr>\n",
       "    <tr>\n",
       "      <th>185</th>\n",
       "      <td>0.558584</td>\n",
       "      <td>1.000000</td>\n",
       "      <td>1.790242</td>\n",
       "    </tr>\n",
       "    <tr>\n",
       "      <th>187</th>\n",
       "      <td>0.558584</td>\n",
       "      <td>1.000000</td>\n",
       "      <td>1.790242</td>\n",
       "    </tr>\n",
       "    <tr>\n",
       "      <th>189</th>\n",
       "      <td>0.558414</td>\n",
       "      <td>1.000000</td>\n",
       "      <td>1.790242</td>\n",
       "    </tr>\n",
       "    <tr>\n",
       "      <th>190</th>\n",
       "      <td>0.558414</td>\n",
       "      <td>1.000000</td>\n",
       "      <td>1.790242</td>\n",
       "    </tr>\n",
       "    <tr>\n",
       "      <th>193</th>\n",
       "      <td>0.558414</td>\n",
       "      <td>1.000000</td>\n",
       "      <td>1.790242</td>\n",
       "    </tr>\n",
       "    <tr>\n",
       "      <th>194</th>\n",
       "      <td>0.558414</td>\n",
       "      <td>1.000000</td>\n",
       "      <td>1.790242</td>\n",
       "    </tr>\n",
       "    <tr>\n",
       "      <th>197</th>\n",
       "      <td>0.558414</td>\n",
       "      <td>1.000000</td>\n",
       "      <td>1.790242</td>\n",
       "    </tr>\n",
       "    <tr>\n",
       "      <th>198</th>\n",
       "      <td>0.558414</td>\n",
       "      <td>1.000000</td>\n",
       "      <td>1.790242</td>\n",
       "    </tr>\n",
       "    <tr>\n",
       "      <th>200</th>\n",
       "      <td>0.558414</td>\n",
       "      <td>0.999696</td>\n",
       "      <td>1.790242</td>\n",
       "    </tr>\n",
       "    <tr>\n",
       "      <th>201</th>\n",
       "      <td>0.558414</td>\n",
       "      <td>0.999696</td>\n",
       "      <td>1.790242</td>\n",
       "    </tr>\n",
       "    <tr>\n",
       "      <th>204</th>\n",
       "      <td>0.558414</td>\n",
       "      <td>1.000000</td>\n",
       "      <td>1.790242</td>\n",
       "    </tr>\n",
       "    <tr>\n",
       "      <th>205</th>\n",
       "      <td>0.558414</td>\n",
       "      <td>1.000000</td>\n",
       "      <td>1.790242</td>\n",
       "    </tr>\n",
       "    <tr>\n",
       "      <th>207</th>\n",
       "      <td>0.558414</td>\n",
       "      <td>0.999696</td>\n",
       "      <td>1.790242</td>\n",
       "    </tr>\n",
       "    <tr>\n",
       "      <th>208</th>\n",
       "      <td>0.558414</td>\n",
       "      <td>0.999696</td>\n",
       "      <td>1.790242</td>\n",
       "    </tr>\n",
       "    <tr>\n",
       "      <th>211</th>\n",
       "      <td>0.558414</td>\n",
       "      <td>0.999696</td>\n",
       "      <td>1.790242</td>\n",
       "    </tr>\n",
       "    <tr>\n",
       "      <th>212</th>\n",
       "      <td>0.558414</td>\n",
       "      <td>0.999696</td>\n",
       "      <td>1.790242</td>\n",
       "    </tr>\n",
       "    <tr>\n",
       "      <th>215</th>\n",
       "      <td>0.558414</td>\n",
       "      <td>0.999696</td>\n",
       "      <td>1.790242</td>\n",
       "    </tr>\n",
       "    <tr>\n",
       "      <th>216</th>\n",
       "      <td>0.558414</td>\n",
       "      <td>0.999696</td>\n",
       "      <td>1.790242</td>\n",
       "    </tr>\n",
       "  </tbody>\n",
       "</table>\n",
       "</div>"
      ],
      "text/plain": [
       "      support  confidence      lift\n",
       "22   0.558584    1.000000  1.790242\n",
       "23   0.558584    1.000000  1.790242\n",
       "62   0.558414    1.000000  1.790242\n",
       "63   0.558414    1.000000  1.790242\n",
       "66   0.558414    0.999696  1.790242\n",
       "67   0.558414    0.999696  1.790242\n",
       "86   0.558584    1.000000  1.790242\n",
       "88   0.558584    1.000000  1.790242\n",
       "89   0.558584    1.000000  1.790242\n",
       "91   0.558584    1.000000  1.790242\n",
       "98   0.558584    1.000000  1.790242\n",
       "99   0.558584    1.000000  1.790242\n",
       "102  0.558584    1.000000  1.790242\n",
       "103  0.558584    1.000000  1.790242\n",
       "132  0.558414    1.000000  1.790242\n",
       "134  0.558414    1.000000  1.790242\n",
       "136  0.558414    1.000000  1.790242\n",
       "138  0.558414    1.000000  1.790242\n",
       "139  0.558414    0.999696  1.790242\n",
       "141  0.558414    0.999696  1.790242\n",
       "143  0.558414    0.999696  1.790242\n",
       "145  0.558414    0.999696  1.790242\n",
       "160  0.558414    1.000000  1.790242\n",
       "162  0.558414    1.000000  1.790242\n",
       "164  0.558414    1.000000  1.790242\n",
       "166  0.558414    1.000000  1.790242\n",
       "167  0.558414    0.999696  1.790242\n",
       "169  0.558414    0.999696  1.790242\n",
       "171  0.558414    0.999696  1.790242\n",
       "173  0.558414    0.999696  1.790242\n",
       "174  0.558584    1.000000  1.790242\n",
       "176  0.558584    1.000000  1.790242\n",
       "178  0.558584    1.000000  1.790242\n",
       "180  0.558584    1.000000  1.790242\n",
       "181  0.558584    1.000000  1.790242\n",
       "183  0.558584    1.000000  1.790242\n",
       "185  0.558584    1.000000  1.790242\n",
       "187  0.558584    1.000000  1.790242\n",
       "189  0.558414    1.000000  1.790242\n",
       "190  0.558414    1.000000  1.790242\n",
       "193  0.558414    1.000000  1.790242\n",
       "194  0.558414    1.000000  1.790242\n",
       "197  0.558414    1.000000  1.790242\n",
       "198  0.558414    1.000000  1.790242\n",
       "200  0.558414    0.999696  1.790242\n",
       "201  0.558414    0.999696  1.790242\n",
       "204  0.558414    1.000000  1.790242\n",
       "205  0.558414    1.000000  1.790242\n",
       "207  0.558414    0.999696  1.790242\n",
       "208  0.558414    0.999696  1.790242\n",
       "211  0.558414    0.999696  1.790242\n",
       "212  0.558414    0.999696  1.790242\n",
       "215  0.558414    0.999696  1.790242\n",
       "216  0.558414    0.999696  1.790242"
      ]
     },
     "execution_count": 176,
     "metadata": {},
     "output_type": "execute_result"
    }
   ],
   "source": [
    "# Your code\n",
    "\n",
    "rules_association =arule(frequent_itemsets, metric = 'confidence', min_threshold = 0.3)\n",
    "\n",
    "filtered_rules = rules_association.loc[(rules_association['lift'] > 1.2)]\n",
    "\n",
    "filtered_rules[['support', 'confidence', 'lift']]"
   ]
  },
  {
   "cell_type": "markdown",
   "metadata": {},
   "source": [
    "## Question 5 - Text Mining (15 points)\n",
    "\n",
    "Among the datasets given for this assignment you will find the files \"pg_train\" and \"pg_test\". These two files contain a labeled corpus, already splitted in training and test set.\n",
    "The corpus consists of sentences from several novels, labeled with the name of the author. The first task is text classification: you will train a set of classifiers that predict the author of a piece of text.\n",
    "\n",
    "(a) Perform preprocessing on the training corpus (all lowercase, no punctuation, tokenization, stemming, stopword removal) and obtain a binary document-term matrix; train a logistic classifier with the author as target."
   ]
  },
  {
   "cell_type": "code",
   "execution_count": 20,
   "metadata": {},
   "outputs": [],
   "source": [
    "# Your code\n"
   ]
  },
  {
   "cell_type": "markdown",
   "metadata": {},
   "source": [
    "(b) Perform preprocessing on the training corpus (all lowercase, no punctuation, tokenization, stemming, stopword removal) and obtain a document-term matrix of counts; train a logistic classifier with the author as target.\n"
   ]
  },
  {
   "cell_type": "code",
   "execution_count": 21,
   "metadata": {},
   "outputs": [],
   "source": [
    "# Your code"
   ]
  },
  {
   "cell_type": "markdown",
   "metadata": {},
   "source": [
    "(c) Perform preprocessing on the training corpus (all lowercase, no punctuation, tokenization, stemming, stopword removal) and obtain a tf-idf scores document-term matrix; train a logistic classifier.\n"
   ]
  },
  {
   "cell_type": "code",
   "execution_count": 22,
   "metadata": {},
   "outputs": [],
   "source": [
    "# Your code"
   ]
  },
  {
   "cell_type": "markdown",
   "metadata": {},
   "source": [
    "(d) Perform preprocessing on the training corpus (all lowercase, no punctuation, tokenization, stemming, stopword removal) and obtain a doc2vec embedding in order to reduce the dimension of the document vector to 300; use the doc2vec model you just trained to convert the training set to a set of document vectors; train a logistic classifier with the author as target.\n"
   ]
  },
  {
   "cell_type": "code",
   "execution_count": 23,
   "metadata": {},
   "outputs": [],
   "source": [
    "# Your code"
   ]
  },
  {
   "cell_type": "markdown",
   "metadata": {},
   "source": [
    "(e) Predict the classification with the four models on the test data."
   ]
  },
  {
   "cell_type": "code",
   "execution_count": 24,
   "metadata": {},
   "outputs": [],
   "source": [
    "# Your code"
   ]
  },
  {
   "cell_type": "markdown",
   "metadata": {},
   "source": [
    "(f) Obtain confusion matrices for the four different models.\n"
   ]
  },
  {
   "cell_type": "code",
   "execution_count": 25,
   "metadata": {},
   "outputs": [],
   "source": [
    "# Your code"
   ]
  },
  {
   "cell_type": "markdown",
   "metadata": {},
   "source": [
    "(g) Obtain accuracy and f1-score for the four different models.\n"
   ]
  },
  {
   "cell_type": "code",
   "execution_count": 26,
   "metadata": {},
   "outputs": [],
   "source": [
    "# Your code"
   ]
  },
  {
   "cell_type": "markdown",
   "metadata": {},
   "source": [
    "(h) Briefly comment on the quality of the predictions for the four models."
   ]
  },
  {
   "cell_type": "markdown",
   "metadata": {},
   "source": [
    "Explanation:\n"
   ]
  },
  {
   "cell_type": "markdown",
   "metadata": {},
   "source": [
    "(i) For the two authors Austen and Chesterton separately, build a bigram language model. You should use both training and test data to build the model. Do not perform stemming or stopword removal for this task, but do use the other preprocessing steps described in (a). Use both right and left padding, and manage unknown terms by using a dedicated token."
   ]
  },
  {
   "cell_type": "code",
   "execution_count": 27,
   "metadata": {},
   "outputs": [],
   "source": [
    "# Your code"
   ]
  },
  {
   "cell_type": "markdown",
   "metadata": {},
   "source": [
    "(j) For each author, use the correspondent language models from (i) to generate, using MLE, a sentence of fifteen words starting from each of the following terms:"
   ]
  },
  {
   "cell_type": "code",
   "execution_count": 28,
   "metadata": {},
   "outputs": [
    {
     "data": {
      "text/plain": [
       "'It'"
      ]
     },
     "execution_count": 28,
     "metadata": {},
     "output_type": "execute_result"
    }
   ],
   "source": [
    "'She'\n",
    "'They'\n",
    "'It'"
   ]
  },
  {
   "cell_type": "markdown",
   "metadata": {},
   "source": [
    "(k) Now, computer another two models (for Austen and Chesterton separately), build a trigram model with the same data as in (i). Use both right and left padding, and manage unknown terms by using a dedicated token."
   ]
  },
  {
   "cell_type": "code",
   "execution_count": 29,
   "metadata": {},
   "outputs": [],
   "source": [
    "# Your code"
   ]
  },
  {
   "cell_type": "markdown",
   "metadata": {},
   "source": [
    "(l) For each author, use the correspondent language models from (k) to generate, using MLE, a sentence of fifteen words starting from each of the same terms as question (j):"
   ]
  },
  {
   "cell_type": "code",
   "execution_count": 30,
   "metadata": {},
   "outputs": [],
   "source": [
    "# Your code"
   ]
  },
  {
   "cell_type": "markdown",
   "metadata": {},
   "source": [
    "(m) Comment on the quality of the models and generated text. Which model performs better? In general, which differences are there in using trigrams as opposed to bigrams?"
   ]
  },
  {
   "cell_type": "markdown",
   "metadata": {},
   "source": [
    "Explanation:\n"
   ]
  },
  {
   "cell_type": "markdown",
   "metadata": {},
   "source": [
    "## Question 6 - Process Mining (15 points)\n",
    "For this part, refer to the online docs of pm4py (https://pm4py.fit.fraunhofer.de/).\n",
    "Important: if you did not do it in the instruction, you should make sure to have the latest pm4py version: to get it is sufficient to type `pip install pm4py --upgrade`.\n",
    "In this section of the assignment you will be working with a real life event log, derived from the activity of the help desk department of an Italian software company. The data is contained in the file \"event_log.xes\".\n",
    "\n",
    "(a) Use the provided event log and identify the least frequent variant and the most frequent variant.\n"
   ]
  },
  {
   "cell_type": "code",
   "execution_count": 31,
   "metadata": {},
   "outputs": [],
   "source": [
    "# Your code"
   ]
  },
  {
   "cell_type": "markdown",
   "metadata": {},
   "source": [
    "(b) Remove all the variants that contain less than 1% of the traces in the log. Create a new event log without these variants."
   ]
  },
  {
   "cell_type": "code",
   "execution_count": 32,
   "metadata": {},
   "outputs": [],
   "source": [
    "# Your code"
   ]
  },
  {
   "cell_type": "markdown",
   "metadata": {},
   "source": [
    "(c) Use Inductive miner algorithm to discover the process model based on you new event log (the filtered log without the infrequent variants of question (b)).\n"
   ]
  },
  {
   "cell_type": "code",
   "execution_count": 33,
   "metadata": {},
   "outputs": [],
   "source": [
    "# Your code"
   ]
  },
  {
   "cell_type": "markdown",
   "metadata": {},
   "source": [
    "(d) Perform the token replay conformance checking using your discovered model (c) and the original event log. Does your process model fit the log?\n"
   ]
  },
  {
   "cell_type": "code",
   "execution_count": 34,
   "metadata": {},
   "outputs": [],
   "source": [
    "# Your code"
   ]
  },
  {
   "cell_type": "markdown",
   "metadata": {},
   "source": [
    "Explanation:\n"
   ]
  },
  {
   "cell_type": "markdown",
   "metadata": {},
   "source": [
    "(e) Calculate the fitness of the model in (c)."
   ]
  },
  {
   "cell_type": "code",
   "execution_count": 35,
   "metadata": {},
   "outputs": [],
   "source": [
    "# Your code"
   ]
  },
  {
   "cell_type": "markdown",
   "metadata": {},
   "source": [
    "(f) Are there any deviations between the process model and the event log? If so, where and why?"
   ]
  },
  {
   "cell_type": "markdown",
   "metadata": {},
   "source": [
    "Explanation:\n"
   ]
  },
  {
   "cell_type": "markdown",
   "metadata": {},
   "source": [
    "(g) Now use the original event log and remove the two most frequent variants, and discover the model based on your new event log (the filtered log without two most frequent variants).\n"
   ]
  },
  {
   "cell_type": "code",
   "execution_count": 36,
   "metadata": {},
   "outputs": [],
   "source": [
    "# Your code"
   ]
  },
  {
   "cell_type": "markdown",
   "metadata": {},
   "source": [
    "(h) Perform the token replay conformance checking using the newly discovered model of question (g) and the original event log. Does your process model fit the log?"
   ]
  },
  {
   "cell_type": "code",
   "execution_count": 37,
   "metadata": {},
   "outputs": [],
   "source": [
    "# Your code"
   ]
  },
  {
   "cell_type": "markdown",
   "metadata": {},
   "source": [
    "Explanation:\n"
   ]
  },
  {
   "cell_type": "markdown",
   "metadata": {},
   "source": [
    "(i) Calculate the fitness of the model in (g)."
   ]
  },
  {
   "cell_type": "code",
   "execution_count": 38,
   "metadata": {},
   "outputs": [],
   "source": [
    "# Your code"
   ]
  },
  {
   "cell_type": "markdown",
   "metadata": {},
   "source": [
    "(j) Are there any deviations in the process model? If so, where and why?"
   ]
  },
  {
   "cell_type": "markdown",
   "metadata": {},
   "source": [
    "Explanation:"
   ]
  },
  {
   "cell_type": "markdown",
   "metadata": {},
   "source": [
    "(k) Use the complete event log (original event log) and discover your process model using Inductive Miner.\n"
   ]
  },
  {
   "cell_type": "code",
   "execution_count": 39,
   "metadata": {},
   "outputs": [],
   "source": [
    "# Your code"
   ]
  },
  {
   "cell_type": "markdown",
   "metadata": {},
   "source": [
    "(l) Do the token replay conformance checking using your newly discovered model and the original event log. Does your process model fit the log?"
   ]
  },
  {
   "cell_type": "code",
   "execution_count": 40,
   "metadata": {},
   "outputs": [],
   "source": [
    "# Your code"
   ]
  },
  {
   "cell_type": "markdown",
   "metadata": {},
   "source": [
    "Explanation:"
   ]
  },
  {
   "cell_type": "markdown",
   "metadata": {},
   "source": [
    "(m) How are these three discovered process models different from each other? Which model is the best fitting to the original log? Why?"
   ]
  },
  {
   "cell_type": "markdown",
   "metadata": {},
   "source": [
    "Explanation:\n"
   ]
  },
  {
   "cell_type": "markdown",
   "metadata": {},
   "source": [
    "(n) Visualize the model discovered in question (k) enriched with frequency information. Subsequently, visualize that same model enriched with performance information."
   ]
  },
  {
   "cell_type": "code",
   "execution_count": 41,
   "metadata": {},
   "outputs": [],
   "source": [
    "# Your code"
   ]
  },
  {
   "cell_type": "markdown",
   "metadata": {},
   "source": [
    "(o) If you were the process owner and you had more resources to hire employees, on which parts of the process would you assign them to maximize efficiency?"
   ]
  },
  {
   "cell_type": "markdown",
   "metadata": {},
   "source": [
    "Explanation:\n"
   ]
  },
  {
   "cell_type": "markdown",
   "metadata": {},
   "source": [
    "(p) Add your further comments and considerations on the frequency and performance informations. Does the process have a \"happy path\", and is it shown in the enhanced process models? Where are the major bottlenecks in this process? Is there any rework?"
   ]
  },
  {
   "cell_type": "markdown",
   "metadata": {},
   "source": [
    "Explanation:\n"
   ]
  }
 ],
 "metadata": {
  "kernelspec": {
   "display_name": "Python 3",
   "language": "python",
   "name": "python3"
  },
  "language_info": {
   "codemirror_mode": {
    "name": "ipython",
    "version": 3
   },
   "file_extension": ".py",
   "mimetype": "text/x-python",
   "name": "python",
   "nbconvert_exporter": "python",
   "pygments_lexer": "ipython3",
   "version": "3.7.0"
  },
  "toc": {
   "base_numbering": 1,
   "nav_menu": {},
   "number_sections": true,
   "sideBar": true,
   "skip_h1_title": false,
   "title_cell": "Table of Contents",
   "title_sidebar": "Contents",
   "toc_cell": false,
   "toc_position": {
    "height": "calc(100% - 180px)",
    "left": "10px",
    "top": "150px",
    "width": "364.797px"
   },
   "toc_section_display": true,
   "toc_window_display": true
  },
  "pycharm": {
   "stem_cell": {
    "cell_type": "raw",
    "source": [],
    "metadata": {
     "collapsed": false
    }
   }
  }
 },
 "nbformat": 4,
 "nbformat_minor": 2
}