{
 "cells": [
  {
   "cell_type": "markdown",
   "metadata": {},
   "source": [
    "# The First Part of the Assignment of IDS 2019-2020\n",
    "Document your results as well as the way you obtained them in this jupyter notebook. A seperate report (pdf, word etc.) is _not_ required. However, it is necessary that you provide the python code leading to your results as well as textual answers to the assignment questions in this notebook. *DO NOT CLEAR THE OUTPUT of the notebook your are submitting!* In the cases that the result of an algorithm is pdf, jpg, etc, you should attach the result to this notebook file and refer to that in the text.  \n",
    "\n",
    "Next to the jupyter notebook, submit one zip-file containing all data sets that you are asked to submit. Make sure they are easily identifiable, i.e. use names as requested in the corresponding question.\n",
    "\n",
    "Do not change the general structure of this notebook, but you can add further markdown or code cells to explain your solutions if necessary. In the end, submit this file and your created data sets in moodle.\n",
    "\n",
    "Only <font color=\"red\">one </font> group member should upload your group's solution. *Make sure to include group members' names and matriculation numbers*. If your name and student id are not included in the report, you will not receive any points!\n",
    "\n",
    "\n",
    "Hint 1: While answering the questions, you will get a better and better impression of the given data. However, feel free to compute additional results and vizualizations to motivate the decisions you need to make, for example with respect to modification, simplification or sampling of the data. <font color=\"red\"><b>Ensure that all claims you make are supported by the presented facts!</b></font>\n",
    "\n",
    "Hint 2: <font color=\"red\"><b>Some of the tasks might need some time to run. Take this into account in your planning.</b></font>\n",
    "\n",
    "Hint 3: RWTHonline allows for multiple submissions (each submission overwrites the previous ones). <font color=\"red\"><b>Partial submissions are possible and encouraged. </b></font> This helps in case of technical problems of RWTHonline, which do seldomly happen."
   ]
  },
  {
   "cell_type": "markdown",
   "metadata": {},
   "source": [
    "<font color=\"red\"><b>Student Names and IDs:\n",
    "    1. Yaping Chen 379645\n",
    "    2. Haikun Huang 391180\n",
    "    3. Yu He 391644"
   ]
  },
  {
   "cell_type": "markdown",
   "metadata": {},
   "source": [
    "## Preprocessing of the Dataset (5 points)\n",
    " You should carry out some preprocessing steps before starting the analysis:\n",
    " - Select 90% of 'population_density' dataset by random sampling.\n",
    "     - Use one of the group member's student number as a seed.\n",
    " - Add another column to the dataset:\n",
    "     - Name it 'population_density_categorical'.\n",
    "     - The values in this column depend on values in 'population_density' column and will be defined as follows:\n",
    "        - 5824=<population density              corresponding value in 'population_density_categorical' column: 'very high'\n",
    "        - 4368=<population density<5824         corresponding value in 'population_density_categorical' column: 'high'\n",
    "        - 2912=<population density<4368         corresponding value in 'population_density_categorical' column: 'medium'\n",
    "        - 1456=<population density<2912         corresponding value in 'population_density_categorical' column: 'low' \n",
    "        - population density<1456               corresponding value in 'population_density_categorical' column: 'very low'\n",
    " - After completing this preprocessing step, export your final dataset as 'population_density_categorical.csv' dataset and use that for next steps of the assignment.\n",
    " - If it is not directly mentioned, you should always use your extracted (above-created) dataset (without any cleaning).\n",
    " - <font color='red'>Important!</font> Make sure that you submit your extracted dataset with your result in moodle."
   ]
  },
  {
   "cell_type": "code",
   "execution_count": 1,
   "metadata": {},
   "outputs": [
    {
     "name": "stderr",
     "output_type": "stream",
     "text": [
      "/Users/hhk/anaconda3/lib/python3.7/importlib/_bootstrap.py:219: RuntimeWarning: numpy.ufunc size changed, may indicate binary incompatibility. Expected 192 from C header, got 216 from PyObject\n",
      "  return f(*args, **kwds)\n",
      "/Users/hhk/anaconda3/lib/python3.7/importlib/_bootstrap.py:219: RuntimeWarning: numpy.ufunc size changed, may indicate binary incompatibility. Expected 192 from C header, got 216 from PyObject\n",
      "  return f(*args, **kwds)\n",
      "/Users/hhk/anaconda3/lib/python3.7/importlib/_bootstrap.py:219: RuntimeWarning: numpy.ufunc size changed, may indicate binary incompatibility. Expected 192 from C header, got 216 from PyObject\n",
      "  return f(*args, **kwds)\n",
      "/Users/hhk/anaconda3/lib/python3.7/importlib/_bootstrap.py:219: RuntimeWarning: numpy.ufunc size changed, may indicate binary incompatibility. Expected 192 from C header, got 216 from PyObject\n",
      "  return f(*args, **kwds)\n",
      "/Users/hhk/anaconda3/lib/python3.7/importlib/_bootstrap.py:219: RuntimeWarning: numpy.ufunc size changed, may indicate binary incompatibility. Expected 192 from C header, got 216 from PyObject\n",
      "  return f(*args, **kwds)\n",
      "/Users/hhk/anaconda3/lib/python3.7/importlib/_bootstrap.py:219: RuntimeWarning: numpy.ufunc size changed, may indicate binary incompatibility. Expected 192 from C header, got 216 from PyObject\n",
      "  return f(*args, **kwds)\n",
      "/Users/hhk/anaconda3/lib/python3.7/importlib/_bootstrap.py:219: RuntimeWarning: numpy.ufunc size changed, may indicate binary incompatibility. Expected 192 from C header, got 216 from PyObject\n",
      "  return f(*args, **kwds)\n"
     ]
    }
   ],
   "source": [
    "import pandas as pd\n",
    "import numpy as np\n",
    "import matplotlib.pyplot as plt\n",
    "import seaborn as sns\n",
    "from scipy import stats\n",
    "from p_decision_tree.DecisionTree import DecisionTree\n",
    "from sklearn.model_selection import train_test_split\n",
    "from sklearn.metrics import mean_squared_error, mean_absolute_error, median_absolute_error\n",
    "from sklearn.preprocessing import MinMaxScaler"
   ]
  },
  {
   "cell_type": "code",
   "execution_count": 3,
   "metadata": {
    "code_folding": []
   },
   "outputs": [],
   "source": [
    "data_pop = pd.read_csv(\"population_density.csv\", delimiter=',')\n",
    "df_pop = pd.DataFrame(data_pop).sample(frac=0.9, random_state=391180)\n",
    "max = df_pop['population_density'].max()\n",
    "df_pop['population_density_categorical'] = pd.cut(\n",
    "    df_pop.population_density,\n",
    "    bins=[0, 1456, 2912, 4368, 5824, max + 1],\n",
    "    labels=['very low', 'low', 'medium', 'high', 'very high'],\n",
    "    right=False)  # default is ( ] , right=False means [ )\n",
    "# df_pop.to_csv(\"population_density_categorical.csv\")"
   ]
  },
  {
   "cell_type": "markdown",
   "metadata": {},
   "source": [
    "## Question 1 - Insights into the Data (20 points):"
   ]
  },
  {
   "cell_type": "markdown",
   "metadata": {},
   "source": [
    "### Dealing with Outliers (10 points)\n",
    "   (a) Use a boxplot to find and remove the outliers from \"temperature\". Note that based on the boxplot the values greater than upper-whisker and less than lower-whisker are considered as the outliers. Now you should  have two datasets (cleaned and original)."
   ]
  },
  {
   "cell_type": "code",
   "execution_count": 4,
   "metadata": {
    "code_folding": []
   },
   "outputs": [
    {
     "data": {
      "text/plain": [
       "<matplotlib.axes._subplots.AxesSubplot at 0x10d0c21d0>"
      ]
     },
     "execution_count": 4,
     "metadata": {},
     "output_type": "execute_result"
    },
    {
     "data": {
      "image/png": "[encoded data removed]",
      "text/plain": [
       "<Figure size 432x288 with 1 Axes>"
      ]
     },
     "metadata": {
      "needs_background": "light"
     },
     "output_type": "display_data"
    }
   ],
   "source": [
    "data_pop = pd.read_csv(\"population_density_categorical.csv\", delimiter=',')\n",
    "df_pop = pd.DataFrame(data_pop)\n",
    "df_pop_original = df_pop\n",
    "\n",
    "Q1 = df_pop['temperature'].quantile(0.25)\n",
    "Q3 = df_pop['temperature'].quantile(0.75)\n",
    "IQR = Q3 - Q1\n",
    "filter = (df_pop['temperature'] >= Q1 - 1.5 * IQR) & (df_pop['temperature'] <=\n",
    "                                                      Q3 + 1.5 * IQR)\n",
    "df_pop_cleaned = df_pop.loc[filter]\n",
    "# df_pop.boxplot(column=['temperature'])\n",
    "df_pop_cleaned.boxplot(column=['temperature'])"
   ]
  },
  {
   "cell_type": "markdown",
   "metadata": {},
   "source": [
    "   (b) Compare basic statistical features of \"temperature\" (median, mean, and mode) in the cleaned and original datasets.    Interpret the differences for these statistical values between the cleaned and original datasets. "
   ]
  },
  {
   "cell_type": "code",
   "execution_count": 5,
   "metadata": {},
   "outputs": [
    {
     "name": "stdout",
     "output_type": "stream",
     "text": [
      "mean: \n",
      " original= 281.2292325972709 ,\n",
      " cleaned= 281.2811007700111 ,\n",
      " difference = -0.05186817274022815\n",
      "median:\n",
      " original= 282.48 ,\n",
      " cleaned= 282.49 ,\n",
      " difference = -0.009999999999990905\n",
      "mode:\n",
      " original= 0    274.15\n",
      "dtype: float64 ,\n",
      " cleaned= 0    274.15\n",
      "dtype: float64 ,\n",
      " difference = 0    0.0\n",
      "dtype: float64\n"
     ]
    }
   ],
   "source": [
    "# Your code:\n",
    "\n",
    "# df_pop_cleaned\n",
    "mean_cleaned = df_pop_cleaned.temperature.mean()\n",
    "median_cleaned = df_pop_cleaned.temperature.median()\n",
    "mode_cleaned = df_pop_cleaned.temperature.mode()\n",
    "# df_pop_original\n",
    "mean_original = df_pop_original.temperature.mean()\n",
    "median_original = df_pop_original.temperature.median()\n",
    "mode_original = df_pop_original.temperature.mode()\n",
    "# difference\n",
    "diff_mean = mean_original - mean_cleaned\n",
    "diff_median = median_original - median_cleaned\n",
    "diff_mode = mode_original - mode_cleaned\n",
    "\n",
    "print(\n",
    "    f'mean: \\n original= {mean_original} ,\\n cleaned= {mean_cleaned} ,\\n difference = {diff_mean}'\n",
    ")\n",
    "print(\n",
    "    f'median:\\n original= {median_original} ,\\n cleaned= {median_cleaned} ,\\n difference = {diff_median}'\n",
    ")\n",
    "print(\n",
    "    f'mode:\\n original= {mode_original} ,\\n cleaned= {mode_cleaned} ,\\n difference = {diff_mode}'\n",
    ")\n",
    "\n",
    "# When we calculate the mean value, outliers are calculated by algorithm,but the up outliers and down outliers are both filterd\n",
    "# the value change not so much.\n",
    "# The value of median means the value in the center of all sorted dataset, as we filtered out some outliers, so the median is also chaned.\n",
    "# As the amount of outliers are quiet small, so the result of median is always the same."
   ]
  },
  {
   "cell_type": "markdown",
   "metadata": {},
   "source": [
    "   (c) Compare the number of data rows before and after removing the outliers. How many data rows are removed by removing    outliers?"
   ]
  },
  {
   "cell_type": "code",
   "execution_count": 6,
   "metadata": {},
   "outputs": [
    {
     "name": "stdout",
     "output_type": "stream",
     "text": [
      "The number of outliers =  8\n"
     ]
    }
   ],
   "source": [
    "# Your code:\n",
    "print('The number of outliers = ',df_pop_original.shape[0] - df_pop_cleaned.shape[0])"
   ]
  },
  {
   "cell_type": "markdown",
   "metadata": {},
   "source": [
    "### Basic Visualization (10 points)\n",
    "   (d) Visualize mean and median of \"population_density\" for non-'None' \"holiday\" values in the original dataset. Specify    the \"holiday\" values for which the mean of \"population_density\" is maximal and for which it is minimal."
   ]
  },
  {
   "cell_type": "code",
   "execution_count": 7,
   "metadata": {
    "scrolled": true
   },
   "outputs": [
    {
     "name": "stdout",
     "output_type": "stream",
     "text": [
      "The mean of population_density =  881.4\n",
      "The median of population_density =  833.0\n",
      "The max_value of population_density =  1538\n",
      "The min_value of population_density =  455\n"
     ]
    },
    {
     "data": {
      "text/plain": [
       "<matplotlib.axes._subplots.AxesSubplot at 0x10d108cc0>"
      ]
     },
     "execution_count": 7,
     "metadata": {},
     "output_type": "execute_result"
    },
    {
     "data": {
      "image/png": "[encoded data removed]",
      "text/plain": [
       "<Figure size 1440x1080 with 2 Axes>"
      ]
     },
     "metadata": {
      "needs_background": "light"
     },
     "output_type": "display_data"
    }
   ],
   "source": [
    "# Your code:\n",
    "col_pop_original_holiday = df_pop_original[~df_pop_original['holiday'].isin(['None'])] #filter out the row of 'None' in column 'holiday'\n",
    "# print(col_pop_original_holiday.shape[0])\n",
    "mean_col_pop_original_holiday_pop = col_pop_original_holiday['population_density'].mean()\n",
    "median_col_pop_original_holiday_pop = col_pop_original_holiday['population_density'].median()\n",
    "max_col_pop_original_holiday_pop = col_pop_original_holiday['population_density'].max()\n",
    "min_col_pop_original_holiday_pop = col_pop_original_holiday['population_density'].min()\n",
    "\n",
    "print('The mean of population_density = ',mean_col_pop_original_holiday_pop)\n",
    "print('The median of population_density = ',median_col_pop_original_holiday_pop)\n",
    "print('The max_value of population_density = ',max_col_pop_original_holiday_pop)\n",
    "print('The min_value of population_density = ',min_col_pop_original_holiday_pop)\n",
    "\n",
    "fig,ax=plt.subplots(2,1,figsize=(20,15))\n",
    "plt.subplots_adjust(wspace = 0, hspace = 0.5) #plt.subplots_adjust(left=None, bottom=None, right=None, top=None, wspace=None, hspace=None)\n",
    "\n",
    "# plt.figure(figsize=(15,10))\n",
    "# plt.xticks(rotation=70)\n",
    "for tick in ax[0].get_xticklabels():\n",
    "        tick.set_rotation(45)\n",
    "for tick in ax[1].get_xticklabels():\n",
    "        tick.set_rotation(45)\n",
    "\n",
    "sns.barplot(x=\"holiday\", y=\"population_density\", data=col_pop_original_holiday,ax=ax[0])\n",
    "sns.boxplot(x = \"holiday\", y = \"population_density\", data=col_pop_original_holiday,ax=ax[1])\n"
   ]
  },
  {
   "cell_type": "markdown",
   "metadata": {},
   "source": [
    "   (e) Plot the distribution of \"temperature\" in the original and cleaned datasets."
   ]
  },
  {
   "cell_type": "code",
   "execution_count": 8,
   "metadata": {},
   "outputs": [
    {
     "data": {
      "text/plain": [
       "<matplotlib.axes._subplots.AxesSubplot at 0x1a243dcda0>"
      ]
     },
     "execution_count": 8,
     "metadata": {},
     "output_type": "execute_result"
    },
    {
     "data": {
      "image/png": "[encoded data removed]",
      "text/plain": [
       "<Figure size 432x288 with 2 Axes>"
      ]
     },
     "metadata": {},
     "output_type": "display_data"
    }
   ],
   "source": [
    "# Your code:\n",
    "sns.set(color_codes=True)\n",
    "\n",
    "pltfig,axes=plt.subplots(1,2)\n",
    "sns.distplot(df_pop_original['temperature'],ax=axes[0])\n",
    "sns.distplot(df_pop_cleaned['temperature'],ax=axes[1])"
   ]
  },
  {
   "cell_type": "markdown",
   "metadata": {},
   "source": [
    "   (f) Explore the distribution of \"population_density\" and \"temperature\" together in the cleaned dataset. Specify the ranges of \"temperature\" and \"population_density\" for which the frequency of the data is the highest."
   ]
  },
  {
   "cell_type": "code",
   "execution_count": 9,
   "metadata": {},
   "outputs": [
    {
     "data": {
      "image/png": "[encoded data removed]",
      "text/plain": [
       "<Figure size 432x432 with 3 Axes>"
      ]
     },
     "metadata": {},
     "output_type": "display_data"
    }
   ],
   "source": [
    "# Your code:\n",
    "\n",
    "df_pop_cleaned_pop_a_temp = pd.DataFrame(df_pop_cleaned, columns=[\"population_density\", \"temperature\"])\n",
    "sns.jointplot(x=\"population_density\", y=\"temperature\", data=df_pop_cleaned_pop_a_temp, kind=\"kde\");  #kind= scatter, hex, reg,kde \n"
   ]
  },
  {
   "cell_type": "markdown",
   "metadata": {},
   "source": [
    "## Question 2 - Decision Trees (15 points):"
   ]
  },
  {
   "cell_type": "markdown",
   "metadata": {},
   "source": [
    "\n",
    "(a) Add a categorical temperature column to the cleaned dataset based on the following rules and name it                \"temperature_categorical\":\n",
    "        - temperature >= upper_quartile (third quartile) corresponding value in 'temperature_categorical' column: 'high'\n",
    "        - temperature <= lower_quartile (first quartile) corresponding value in 'temperature_categorical' column: 'low'\n",
    "        - lower_quartile < temperature < upper_quartile corresponding value in 'temperature_categorical' column: 'medium'"
   ]
  },
  {
   "cell_type": "code",
   "execution_count": 10,
   "metadata": {},
   "outputs": [],
   "source": [
    "# Your code:\n",
    "df_pop_cleaned = df_pop_cleaned.copy()\n",
    "Q1_temp = df_pop_cleaned['temperature'].quantile(0.25)\n",
    "Q3_temp = df_pop_cleaned['temperature'].quantile(0.75)\n",
    "\n",
    "df_pop_cleaned['temperature_categorical'] = np.nan\n",
    "df_pop_cleaned.loc[df_pop_cleaned.temperature <= Q1_temp, 'temperature_categorical'] = 'low'\n",
    "df_pop_cleaned.loc[(df_pop_cleaned.temperature > Q1_temp) & (df_pop_cleaned.temperature < Q3_temp), 'temperature_categorical'] = 'medium'\n",
    "df_pop_cleaned.loc[df_pop_cleaned.temperature >= Q3_temp, 'temperature_categorical'] = 'high'\n",
    "#print(df_pop_cleaned.shape)"
   ]
  },
  {
   "cell_type": "markdown",
   "metadata": {},
   "source": [
    "   (b) In the new dataset (created in Section 'a'), consider \"holiday\", \"temperature_categorical\", and \"weather_type\" as the descriptive features and \"population_density_categorical\" as the target feature. Set the minimum number of samples  for splitting to 5000 and make a decision tree based on entropy."
   ]
  },
  {
   "cell_type": "code",
   "execution_count": 11,
   "metadata": {},
   "outputs": [
    {
     "name": "stdout",
     "output_type": "stream",
     "text": [
      "descriptive features:\n",
      "Index(['holiday', 'temperature_categorical', 'weather_type'], dtype='object')\n",
      "\n",
      "target feature:\n",
      "population_density_categorical\n",
      "System entropy:  2.2323093016318403\n",
      "System gini:  None\n"
     ]
    }
   ],
   "source": [
    "# Your code:\n",
    "from p_decision_tree.DecisionTree import DecisionTree\n",
    "\n",
    "data = df_pop_cleaned[['holiday','temperature_categorical','weather_type','population_density_categorical']].copy()\n",
    "columns = data.columns\n",
    "\n",
    "#All columns except the last one are descriptive by default\n",
    "descriptive_features = columns[:-1]\n",
    "#The last column is considered as label\n",
    "label = columns[-1]\n",
    "\n",
    "#Converting all the columns to string\n",
    "for column in columns:\n",
    "    data[column]= data[column].astype(str)\n",
    "\n",
    "data_descriptive = data[descriptive_features].values\n",
    "data_label = data[label].values\n",
    "\n",
    "print(\"descriptive features:\")\n",
    "print(descriptive_features)\n",
    "print(\"\\ntarget feature:\\n\" + label)\n",
    "\n",
    "#Calling DecisionTree constructor (the last parameter is criterion which can also be \"gini\")\n",
    "decisionTree = DecisionTree(data_descriptive.tolist(), descriptive_features.tolist(), data_label.tolist(), \"entropy\")\n",
    "\n",
    "#Here you can pass pruning features (gain_threshold and minimum_samples)\n",
    "decisionTree.id3(0,5000)\n",
    "\n",
    "#Visualizing decision tree by Graphviz\n",
    "dot = decisionTree.print_visualTree( render=True )\n",
    "\n",
    "print(\"System entropy: \", format(decisionTree.entropy))\n",
    "print(\"System gini: \", format(decisionTree.gini))\n"
   ]
  },
  {
   "cell_type": "markdown",
   "metadata": {},
   "source": [
    "(c) What is the best attribute (based on entropy) for splitting the tree in the second round of ID3?  "
   ]
  },
  {
   "cell_type": "markdown",
   "metadata": {},
   "source": [
    "Explanation: <br> \n",
    "The best attribute for splitting the tree in the second round of ID3 is \"Holiday\", since the Information gain of holiday is highest, and in the decision tree \"holiday\" is selected.<br>"
   ]
  },
  {
   "cell_type": "markdown",
   "metadata": {},
   "source": [
    "## Question 3 - Regression (10 points):\n",
    "\n",
    "For this question (Q3), restrict your extracted data set to the columns *holiday, temperature, rain_1h, snow_1h, clouds_percentage, date_time* and *population_density*. Drop the information on the date for *date_time* and restrict the data to time values (hour) only.\n",
    "\n",
    "We define *population_density* to be our target feature, while all other features are considered descriptive."
   ]
  },
  {
   "cell_type": "code",
   "execution_count": 12,
   "metadata": {},
   "outputs": [
    {
     "name": "stderr",
     "output_type": "stream",
     "text": [
      "/Users/hhk/anaconda3/lib/python3.7/importlib/_bootstrap.py:219: RuntimeWarning: numpy.ufunc size changed, may indicate binary incompatibility. Expected 192 from C header, got 216 from PyObject\n",
      "  return f(*args, **kwds)\n"
     ]
    },
    {
     "data": {
      "text/html": [
       "<div>\n",
       "<style scoped>\n",
       "    .dataframe tbody tr th:only-of-type {\n",
       "        vertical-align: middle;\n",
       "    }\n",
       "\n",
       "    .dataframe tbody tr th {\n",
       "        vertical-align: top;\n",
       "    }\n",
       "\n",
       "    .dataframe thead th {\n",
       "        text-align: right;\n",
       "    }\n",
       "</style>\n",
       "<table border=\"1\" class=\"dataframe\">\n",
       "  <thead>\n",
       "    <tr style=\"text-align: right;\">\n",
       "      <th></th>\n",
       "      <th>holiday</th>\n",
       "      <th>temperature</th>\n",
       "      <th>rain_1h</th>\n",
       "      <th>snow_1h</th>\n",
       "      <th>clouds_percentage</th>\n",
       "      <th>population_density</th>\n",
       "      <th>time</th>\n",
       "    </tr>\n",
       "  </thead>\n",
       "  <tbody>\n",
       "    <tr>\n",
       "      <th>0</th>\n",
       "      <td>None</td>\n",
       "      <td>277.79</td>\n",
       "      <td>0.0</td>\n",
       "      <td>0.0</td>\n",
       "      <td>1</td>\n",
       "      <td>304</td>\n",
       "      <td>4</td>\n",
       "    </tr>\n",
       "    <tr>\n",
       "      <th>1</th>\n",
       "      <td>None</td>\n",
       "      <td>290.33</td>\n",
       "      <td>0.0</td>\n",
       "      <td>0.0</td>\n",
       "      <td>90</td>\n",
       "      <td>6382</td>\n",
       "      <td>16</td>\n",
       "    </tr>\n",
       "    <tr>\n",
       "      <th>2</th>\n",
       "      <td>None</td>\n",
       "      <td>300.40</td>\n",
       "      <td>0.0</td>\n",
       "      <td>0.0</td>\n",
       "      <td>1</td>\n",
       "      <td>4723</td>\n",
       "      <td>13</td>\n",
       "    </tr>\n",
       "    <tr>\n",
       "      <th>3</th>\n",
       "      <td>None</td>\n",
       "      <td>289.69</td>\n",
       "      <td>0.0</td>\n",
       "      <td>0.0</td>\n",
       "      <td>1</td>\n",
       "      <td>2415</td>\n",
       "      <td>21</td>\n",
       "    </tr>\n",
       "    <tr>\n",
       "      <th>4</th>\n",
       "      <td>None</td>\n",
       "      <td>283.30</td>\n",
       "      <td>0.0</td>\n",
       "      <td>0.0</td>\n",
       "      <td>90</td>\n",
       "      <td>4335</td>\n",
       "      <td>18</td>\n",
       "    </tr>\n",
       "    <tr>\n",
       "      <th>...</th>\n",
       "      <td>...</td>\n",
       "      <td>...</td>\n",
       "      <td>...</td>\n",
       "      <td>...</td>\n",
       "      <td>...</td>\n",
       "      <td>...</td>\n",
       "      <td>...</td>\n",
       "    </tr>\n",
       "    <tr>\n",
       "      <th>43379</th>\n",
       "      <td>None</td>\n",
       "      <td>251.15</td>\n",
       "      <td>0.0</td>\n",
       "      <td>0.0</td>\n",
       "      <td>1</td>\n",
       "      <td>480</td>\n",
       "      <td>2</td>\n",
       "    </tr>\n",
       "    <tr>\n",
       "      <th>43380</th>\n",
       "      <td>None</td>\n",
       "      <td>299.42</td>\n",
       "      <td>0.0</td>\n",
       "      <td>0.0</td>\n",
       "      <td>40</td>\n",
       "      <td>5399</td>\n",
       "      <td>12</td>\n",
       "    </tr>\n",
       "    <tr>\n",
       "      <th>43381</th>\n",
       "      <td>None</td>\n",
       "      <td>274.21</td>\n",
       "      <td>0.0</td>\n",
       "      <td>0.0</td>\n",
       "      <td>75</td>\n",
       "      <td>4976</td>\n",
       "      <td>11</td>\n",
       "    </tr>\n",
       "    <tr>\n",
       "      <th>43382</th>\n",
       "      <td>None</td>\n",
       "      <td>299.90</td>\n",
       "      <td>0.0</td>\n",
       "      <td>0.0</td>\n",
       "      <td>20</td>\n",
       "      <td>5168</td>\n",
       "      <td>18</td>\n",
       "    </tr>\n",
       "    <tr>\n",
       "      <th>43383</th>\n",
       "      <td>None</td>\n",
       "      <td>273.35</td>\n",
       "      <td>0.0</td>\n",
       "      <td>0.0</td>\n",
       "      <td>90</td>\n",
       "      <td>6020</td>\n",
       "      <td>15</td>\n",
       "    </tr>\n",
       "  </tbody>\n",
       "</table>\n",
       "<p>43384 rows × 7 columns</p>\n",
       "</div>"
      ],
      "text/plain": [
       "      holiday  temperature  rain_1h  snow_1h  clouds_percentage  \\\n",
       "0        None       277.79      0.0      0.0                  1   \n",
       "1        None       290.33      0.0      0.0                 90   \n",
       "2        None       300.40      0.0      0.0                  1   \n",
       "3        None       289.69      0.0      0.0                  1   \n",
       "4        None       283.30      0.0      0.0                 90   \n",
       "...       ...          ...      ...      ...                ...   \n",
       "43379    None       251.15      0.0      0.0                  1   \n",
       "43380    None       299.42      0.0      0.0                 40   \n",
       "43381    None       274.21      0.0      0.0                 75   \n",
       "43382    None       299.90      0.0      0.0                 20   \n",
       "43383    None       273.35      0.0      0.0                 90   \n",
       "\n",
       "       population_density  time  \n",
       "0                     304     4  \n",
       "1                    6382    16  \n",
       "2                    4723    13  \n",
       "3                    2415    21  \n",
       "4                    4335    18  \n",
       "...                   ...   ...  \n",
       "43379                 480     2  \n",
       "43380                5399    12  \n",
       "43381                4976    11  \n",
       "43382                5168    18  \n",
       "43383                6020    15  \n",
       "\n",
       "[43384 rows x 7 columns]"
      ]
     },
     "execution_count": 12,
     "metadata": {},
     "output_type": "execute_result"
    }
   ],
   "source": [
    "# Your code:\n",
    "\n",
    "from sklearn.linear_model import LinearRegression\n",
    "\n",
    "data_pop_3 = data_pop.copy()\n",
    "data_pop_3 = data_pop_3[['holiday', 'temperature', 'rain_1h', 'snow_1h', 'clouds_percentage', 'date_time', 'population_density']]\n",
    "temp = pd.DatetimeIndex(data_pop_3['date_time'])\n",
    "data_pop_3['time'] =  temp.hour\n",
    "data_pop_3 = data_pop_3.drop(['date_time'], axis=1)\n",
    "data_pop_3\n"
   ]
  },
  {
   "cell_type": "markdown",
   "metadata": {},
   "source": [
    "   (a) Which features are suitable as an input for linear regression and which need to be modified first? Why?"
   ]
  },
  {
   "cell_type": "markdown",
   "metadata": {},
   "source": [
    "Explanation: <br>\n",
    "temperature, rain_1h, snow_1h, clouds_percentage and time are sutiable as an input, because all feature are the  number. <br>\n",
    "But holiday must be modified first by dummy-code, for categorical column because holiday is categorical descriptive feature."
   ]
  },
  {
   "cell_type": "markdown",
   "metadata": {},
   "source": [
    "   (b) Implement and briefly motivate an adequate modification. Print the resulting data set limited to the first two data rows."
   ]
  },
  {
   "cell_type": "code",
   "execution_count": 13,
   "metadata": {
    "scrolled": true
   },
   "outputs": [
    {
     "data": {
      "text/html": [
       "<div>\n",
       "<style scoped>\n",
       "    .dataframe tbody tr th:only-of-type {\n",
       "        vertical-align: middle;\n",
       "    }\n",
       "\n",
       "    .dataframe tbody tr th {\n",
       "        vertical-align: top;\n",
       "    }\n",
       "\n",
       "    .dataframe thead th {\n",
       "        text-align: right;\n",
       "    }\n",
       "</style>\n",
       "<table border=\"1\" class=\"dataframe\">\n",
       "  <thead>\n",
       "    <tr style=\"text-align: right;\">\n",
       "      <th></th>\n",
       "      <th>holiday</th>\n",
       "      <th>temperature</th>\n",
       "      <th>rain_1h</th>\n",
       "      <th>snow_1h</th>\n",
       "      <th>clouds_percentage</th>\n",
       "      <th>population_density</th>\n",
       "      <th>time</th>\n",
       "      <th>Christmas Day</th>\n",
       "      <th>Columbus Day</th>\n",
       "      <th>Independence Day</th>\n",
       "      <th>Labor Day</th>\n",
       "      <th>Martin Luther King Jr Day</th>\n",
       "      <th>Memorial Day</th>\n",
       "      <th>New Years Day</th>\n",
       "      <th>None</th>\n",
       "      <th>State Fair</th>\n",
       "      <th>Thanksgiving Day</th>\n",
       "      <th>Veterans Day</th>\n",
       "      <th>Washingtons Birthday</th>\n",
       "    </tr>\n",
       "  </thead>\n",
       "  <tbody>\n",
       "    <tr>\n",
       "      <th>0</th>\n",
       "      <td>None</td>\n",
       "      <td>277.79</td>\n",
       "      <td>0.0</td>\n",
       "      <td>0.0</td>\n",
       "      <td>1</td>\n",
       "      <td>304</td>\n",
       "      <td>4</td>\n",
       "      <td>0</td>\n",
       "      <td>0</td>\n",
       "      <td>0</td>\n",
       "      <td>0</td>\n",
       "      <td>0</td>\n",
       "      <td>0</td>\n",
       "      <td>0</td>\n",
       "      <td>1</td>\n",
       "      <td>0</td>\n",
       "      <td>0</td>\n",
       "      <td>0</td>\n",
       "      <td>0</td>\n",
       "    </tr>\n",
       "    <tr>\n",
       "      <th>1</th>\n",
       "      <td>None</td>\n",
       "      <td>290.33</td>\n",
       "      <td>0.0</td>\n",
       "      <td>0.0</td>\n",
       "      <td>90</td>\n",
       "      <td>6382</td>\n",
       "      <td>16</td>\n",
       "      <td>0</td>\n",
       "      <td>0</td>\n",
       "      <td>0</td>\n",
       "      <td>0</td>\n",
       "      <td>0</td>\n",
       "      <td>0</td>\n",
       "      <td>0</td>\n",
       "      <td>1</td>\n",
       "      <td>0</td>\n",
       "      <td>0</td>\n",
       "      <td>0</td>\n",
       "      <td>0</td>\n",
       "    </tr>\n",
       "  </tbody>\n",
       "</table>\n",
       "</div>"
      ],
      "text/plain": [
       "  holiday  temperature  rain_1h  snow_1h  clouds_percentage  \\\n",
       "0    None       277.79      0.0      0.0                  1   \n",
       "1    None       290.33      0.0      0.0                 90   \n",
       "\n",
       "   population_density  time  Christmas Day  Columbus Day  Independence Day  \\\n",
       "0                 304     4              0             0                 0   \n",
       "1                6382    16              0             0                 0   \n",
       "\n",
       "   Labor Day  Martin Luther King Jr Day  Memorial Day  New Years Day  None  \\\n",
       "0          0                          0             0              0     1   \n",
       "1          0                          0             0              0     1   \n",
       "\n",
       "   State Fair  Thanksgiving Day  Veterans Day  Washingtons Birthday  \n",
       "0           0                 0             0                     0  \n",
       "1           0                 0             0                     0  "
      ]
     },
     "execution_count": 13,
     "metadata": {},
     "output_type": "execute_result"
    }
   ],
   "source": [
    "# Your code:\n",
    "df_holiday = pd.get_dummies(data_pop_3['holiday'])\n",
    "# data_pop_3 = data_pop_3.drop(['holiday'],axis = 1)\n",
    "data_pop_3 = data_pop_3.join(df_holiday)\n",
    "data_pop_3.head(2)"
   ]
  },
  {
   "cell_type": "markdown",
   "metadata": {},
   "source": [
    "(c) To get a first idea about our data, plot the behaviour of the target feature (population_density) over time (date_time)."
   ]
  },
  {
   "cell_type": "code",
   "execution_count": 14,
   "metadata": {},
   "outputs": [
    {
     "data": {
      "image/png": "[encoded data removed]",
      "text/plain": [
       "<Figure size 1080x720 with 1 Axes>"
      ]
     },
     "metadata": {},
     "output_type": "display_data"
    }
   ],
   "source": [
    "# Your code:\n",
    "\n",
    "#define the classifier\n",
    "classifier = LinearRegression()\n",
    "\n",
    "#train the classifier\n",
    "model = classifier.fit(data_pop_3[['time']], data_pop_3[['population_density']])\n",
    "y_pred = classifier.predict(data_pop_3[['time']])\n",
    "\n",
    "plt.figure(figsize=(15,10))\n",
    "plt.scatter(data_pop_3[['time']], data_pop_3[['population_density']], color = \"m\", marker = \"s\", s = 1)\n",
    "plt.plot(data_pop_3[['time']], y_pred, color = \"g\") \n",
    "plt.xlabel('date_time') \n",
    "plt.ylabel('population_density')\n",
    "plt.title('Regression Function')\n",
    "plt.show()\n"
   ]
  },
  {
   "cell_type": "markdown",
   "metadata": {},
   "source": [
    "   (d) Create two distinct subsets of the data. Use sampling methods as described in the lecture. You should end up with two DIFFERENT sample data sets *RegA, RegB*. Include these data sets in the submitted data set zip file. \n",
    "   \n",
    "   Which sampling methods did you choose and why? Which one do you expect to result in a better classifier?"
   ]
  },
  {
   "cell_type": "code",
   "execution_count": 15,
   "metadata": {},
   "outputs": [
    {
     "data": {
      "text/html": [
       "<div>\n",
       "<style scoped>\n",
       "    .dataframe tbody tr th:only-of-type {\n",
       "        vertical-align: middle;\n",
       "    }\n",
       "\n",
       "    .dataframe tbody tr th {\n",
       "        vertical-align: top;\n",
       "    }\n",
       "\n",
       "    .dataframe thead th {\n",
       "        text-align: right;\n",
       "    }\n",
       "</style>\n",
       "<table border=\"1\" class=\"dataframe\">\n",
       "  <thead>\n",
       "    <tr style=\"text-align: right;\">\n",
       "      <th></th>\n",
       "      <th>holiday</th>\n",
       "      <th>temperature</th>\n",
       "      <th>rain_1h</th>\n",
       "      <th>snow_1h</th>\n",
       "      <th>clouds_percentage</th>\n",
       "      <th>population_density</th>\n",
       "      <th>time</th>\n",
       "      <th>Christmas Day</th>\n",
       "      <th>Columbus Day</th>\n",
       "      <th>Independence Day</th>\n",
       "      <th>Labor Day</th>\n",
       "      <th>Martin Luther King Jr Day</th>\n",
       "      <th>Memorial Day</th>\n",
       "      <th>New Years Day</th>\n",
       "      <th>None</th>\n",
       "      <th>State Fair</th>\n",
       "      <th>Thanksgiving Day</th>\n",
       "      <th>Veterans Day</th>\n",
       "      <th>Washingtons Birthday</th>\n",
       "    </tr>\n",
       "  </thead>\n",
       "  <tbody>\n",
       "    <tr>\n",
       "      <th>18003</th>\n",
       "      <td>None</td>\n",
       "      <td>293.88</td>\n",
       "      <td>0.00</td>\n",
       "      <td>0.0</td>\n",
       "      <td>75</td>\n",
       "      <td>4875</td>\n",
       "      <td>15</td>\n",
       "      <td>0</td>\n",
       "      <td>0</td>\n",
       "      <td>0</td>\n",
       "      <td>0</td>\n",
       "      <td>0</td>\n",
       "      <td>0</td>\n",
       "      <td>0</td>\n",
       "      <td>1</td>\n",
       "      <td>0</td>\n",
       "      <td>0</td>\n",
       "      <td>0</td>\n",
       "      <td>0</td>\n",
       "    </tr>\n",
       "    <tr>\n",
       "      <th>27489</th>\n",
       "      <td>None</td>\n",
       "      <td>285.51</td>\n",
       "      <td>0.00</td>\n",
       "      <td>0.0</td>\n",
       "      <td>90</td>\n",
       "      <td>543</td>\n",
       "      <td>0</td>\n",
       "      <td>0</td>\n",
       "      <td>0</td>\n",
       "      <td>0</td>\n",
       "      <td>0</td>\n",
       "      <td>0</td>\n",
       "      <td>0</td>\n",
       "      <td>0</td>\n",
       "      <td>1</td>\n",
       "      <td>0</td>\n",
       "      <td>0</td>\n",
       "      <td>0</td>\n",
       "      <td>0</td>\n",
       "    </tr>\n",
       "    <tr>\n",
       "      <th>2898</th>\n",
       "      <td>None</td>\n",
       "      <td>301.94</td>\n",
       "      <td>0.00</td>\n",
       "      <td>0.0</td>\n",
       "      <td>40</td>\n",
       "      <td>6197</td>\n",
       "      <td>17</td>\n",
       "      <td>0</td>\n",
       "      <td>0</td>\n",
       "      <td>0</td>\n",
       "      <td>0</td>\n",
       "      <td>0</td>\n",
       "      <td>0</td>\n",
       "      <td>0</td>\n",
       "      <td>1</td>\n",
       "      <td>0</td>\n",
       "      <td>0</td>\n",
       "      <td>0</td>\n",
       "      <td>0</td>\n",
       "    </tr>\n",
       "    <tr>\n",
       "      <th>39507</th>\n",
       "      <td>None</td>\n",
       "      <td>255.93</td>\n",
       "      <td>0.00</td>\n",
       "      <td>0.0</td>\n",
       "      <td>90</td>\n",
       "      <td>2470</td>\n",
       "      <td>20</td>\n",
       "      <td>0</td>\n",
       "      <td>0</td>\n",
       "      <td>0</td>\n",
       "      <td>0</td>\n",
       "      <td>0</td>\n",
       "      <td>0</td>\n",
       "      <td>0</td>\n",
       "      <td>1</td>\n",
       "      <td>0</td>\n",
       "      <td>0</td>\n",
       "      <td>0</td>\n",
       "      <td>0</td>\n",
       "    </tr>\n",
       "    <tr>\n",
       "      <th>24088</th>\n",
       "      <td>None</td>\n",
       "      <td>290.19</td>\n",
       "      <td>0.00</td>\n",
       "      <td>0.0</td>\n",
       "      <td>1</td>\n",
       "      <td>2327</td>\n",
       "      <td>23</td>\n",
       "      <td>0</td>\n",
       "      <td>0</td>\n",
       "      <td>0</td>\n",
       "      <td>0</td>\n",
       "      <td>0</td>\n",
       "      <td>0</td>\n",
       "      <td>0</td>\n",
       "      <td>1</td>\n",
       "      <td>0</td>\n",
       "      <td>0</td>\n",
       "      <td>0</td>\n",
       "      <td>0</td>\n",
       "    </tr>\n",
       "    <tr>\n",
       "      <th>...</th>\n",
       "      <td>...</td>\n",
       "      <td>...</td>\n",
       "      <td>...</td>\n",
       "      <td>...</td>\n",
       "      <td>...</td>\n",
       "      <td>...</td>\n",
       "      <td>...</td>\n",
       "      <td>...</td>\n",
       "      <td>...</td>\n",
       "      <td>...</td>\n",
       "      <td>...</td>\n",
       "      <td>...</td>\n",
       "      <td>...</td>\n",
       "      <td>...</td>\n",
       "      <td>...</td>\n",
       "      <td>...</td>\n",
       "      <td>...</td>\n",
       "      <td>...</td>\n",
       "      <td>...</td>\n",
       "    </tr>\n",
       "    <tr>\n",
       "      <th>9108</th>\n",
       "      <td>None</td>\n",
       "      <td>284.65</td>\n",
       "      <td>0.00</td>\n",
       "      <td>0.0</td>\n",
       "      <td>75</td>\n",
       "      <td>374</td>\n",
       "      <td>3</td>\n",
       "      <td>0</td>\n",
       "      <td>0</td>\n",
       "      <td>0</td>\n",
       "      <td>0</td>\n",
       "      <td>0</td>\n",
       "      <td>0</td>\n",
       "      <td>0</td>\n",
       "      <td>1</td>\n",
       "      <td>0</td>\n",
       "      <td>0</td>\n",
       "      <td>0</td>\n",
       "      <td>0</td>\n",
       "    </tr>\n",
       "    <tr>\n",
       "      <th>23663</th>\n",
       "      <td>None</td>\n",
       "      <td>289.15</td>\n",
       "      <td>0.00</td>\n",
       "      <td>0.0</td>\n",
       "      <td>90</td>\n",
       "      <td>2003</td>\n",
       "      <td>21</td>\n",
       "      <td>0</td>\n",
       "      <td>0</td>\n",
       "      <td>0</td>\n",
       "      <td>0</td>\n",
       "      <td>0</td>\n",
       "      <td>0</td>\n",
       "      <td>0</td>\n",
       "      <td>1</td>\n",
       "      <td>0</td>\n",
       "      <td>0</td>\n",
       "      <td>0</td>\n",
       "      <td>0</td>\n",
       "    </tr>\n",
       "    <tr>\n",
       "      <th>43</th>\n",
       "      <td>None</td>\n",
       "      <td>275.03</td>\n",
       "      <td>0.00</td>\n",
       "      <td>0.0</td>\n",
       "      <td>64</td>\n",
       "      <td>6617</td>\n",
       "      <td>17</td>\n",
       "      <td>0</td>\n",
       "      <td>0</td>\n",
       "      <td>0</td>\n",
       "      <td>0</td>\n",
       "      <td>0</td>\n",
       "      <td>0</td>\n",
       "      <td>0</td>\n",
       "      <td>1</td>\n",
       "      <td>0</td>\n",
       "      <td>0</td>\n",
       "      <td>0</td>\n",
       "      <td>0</td>\n",
       "    </tr>\n",
       "    <tr>\n",
       "      <th>21429</th>\n",
       "      <td>None</td>\n",
       "      <td>291.64</td>\n",
       "      <td>2.79</td>\n",
       "      <td>0.0</td>\n",
       "      <td>75</td>\n",
       "      <td>4188</td>\n",
       "      <td>17</td>\n",
       "      <td>0</td>\n",
       "      <td>0</td>\n",
       "      <td>0</td>\n",
       "      <td>0</td>\n",
       "      <td>0</td>\n",
       "      <td>0</td>\n",
       "      <td>0</td>\n",
       "      <td>1</td>\n",
       "      <td>0</td>\n",
       "      <td>0</td>\n",
       "      <td>0</td>\n",
       "      <td>0</td>\n",
       "    </tr>\n",
       "    <tr>\n",
       "      <th>24755</th>\n",
       "      <td>None</td>\n",
       "      <td>262.02</td>\n",
       "      <td>0.00</td>\n",
       "      <td>0.0</td>\n",
       "      <td>57</td>\n",
       "      <td>5484</td>\n",
       "      <td>14</td>\n",
       "      <td>0</td>\n",
       "      <td>0</td>\n",
       "      <td>0</td>\n",
       "      <td>0</td>\n",
       "      <td>0</td>\n",
       "      <td>0</td>\n",
       "      <td>0</td>\n",
       "      <td>1</td>\n",
       "      <td>0</td>\n",
       "      <td>0</td>\n",
       "      <td>0</td>\n",
       "      <td>0</td>\n",
       "    </tr>\n",
       "  </tbody>\n",
       "</table>\n",
       "<p>21692 rows × 19 columns</p>\n",
       "</div>"
      ],
      "text/plain": [
       "      holiday  temperature  rain_1h  snow_1h  clouds_percentage  \\\n",
       "18003    None       293.88     0.00      0.0                 75   \n",
       "27489    None       285.51     0.00      0.0                 90   \n",
       "2898     None       301.94     0.00      0.0                 40   \n",
       "39507    None       255.93     0.00      0.0                 90   \n",
       "24088    None       290.19     0.00      0.0                  1   \n",
       "...       ...          ...      ...      ...                ...   \n",
       "9108     None       284.65     0.00      0.0                 75   \n",
       "23663    None       289.15     0.00      0.0                 90   \n",
       "43       None       275.03     0.00      0.0                 64   \n",
       "21429    None       291.64     2.79      0.0                 75   \n",
       "24755    None       262.02     0.00      0.0                 57   \n",
       "\n",
       "       population_density  time  Christmas Day  Columbus Day  \\\n",
       "18003                4875    15              0             0   \n",
       "27489                 543     0              0             0   \n",
       "2898                 6197    17              0             0   \n",
       "39507                2470    20              0             0   \n",
       "24088                2327    23              0             0   \n",
       "...                   ...   ...            ...           ...   \n",
       "9108                  374     3              0             0   \n",
       "23663                2003    21              0             0   \n",
       "43                   6617    17              0             0   \n",
       "21429                4188    17              0             0   \n",
       "24755                5484    14              0             0   \n",
       "\n",
       "       Independence Day  Labor Day  Martin Luther King Jr Day  Memorial Day  \\\n",
       "18003                 0          0                          0             0   \n",
       "27489                 0          0                          0             0   \n",
       "2898                  0          0                          0             0   \n",
       "39507                 0          0                          0             0   \n",
       "24088                 0          0                          0             0   \n",
       "...                 ...        ...                        ...           ...   \n",
       "9108                  0          0                          0             0   \n",
       "23663                 0          0                          0             0   \n",
       "43                    0          0                          0             0   \n",
       "21429                 0          0                          0             0   \n",
       "24755                 0          0                          0             0   \n",
       "\n",
       "       New Years Day  None  State Fair  Thanksgiving Day  Veterans Day  \\\n",
       "18003              0     1           0                 0             0   \n",
       "27489              0     1           0                 0             0   \n",
       "2898               0     1           0                 0             0   \n",
       "39507              0     1           0                 0             0   \n",
       "24088              0     1           0                 0             0   \n",
       "...              ...   ...         ...               ...           ...   \n",
       "9108               0     1           0                 0             0   \n",
       "23663              0     1           0                 0             0   \n",
       "43                 0     1           0                 0             0   \n",
       "21429              0     1           0                 0             0   \n",
       "24755              0     1           0                 0             0   \n",
       "\n",
       "       Washingtons Birthday  \n",
       "18003                     0  \n",
       "27489                     0  \n",
       "2898                      0  \n",
       "39507                     0  \n",
       "24088                     0  \n",
       "...                     ...  \n",
       "9108                      0  \n",
       "23663                     0  \n",
       "43                        0  \n",
       "21429                     0  \n",
       "24755                     0  \n",
       "\n",
       "[21692 rows x 19 columns]"
      ]
     },
     "execution_count": 15,
     "metadata": {},
     "output_type": "execute_result"
    }
   ],
   "source": [
    "# Your code:\n",
    "\n",
    "from sklearn.model_selection import train_test_split\n",
    "\n",
    "# random split\n",
    "train_set_rand, test_set_rand = train_test_split(data_pop_3, test_size=0.5, random_state=42)\n",
    "train_set_rand\n",
    "\n",
    "# stratify split\n",
    "train_set_stratify, test_set_stratify = train_test_split(data_pop_3, stratify = data_pop_3['holiday'], test_size=0.5, random_state=42)\n",
    "train_set_stratify\n",
    "\n",
    "# train_set_rand.to_csv(\"RegA.csv\")\n",
    "# train_set_stratify.to_csv(\"RegB.csv\")"
   ]
  },
  {
   "cell_type": "markdown",
   "metadata": {},
   "source": [
    "Explanation:<br>\n",
    "We use random and stratified sampling in order to reduce the size of dataset.<br>\n",
    "The stratified sampling is better because it takes the same percentage from every holiday group.<br>"
   ]
  },
  {
   "cell_type": "markdown",
   "metadata": {},
   "source": [
    "   (e) Train a linear regression classifier based on each of the two sample data sets *RegA, RegB* created before."
   ]
  },
  {
   "cell_type": "code",
   "execution_count": 16,
   "metadata": {},
   "outputs": [],
   "source": [
    "# Your code:\n",
    "data_regA = pd.read_csv(\"RegA.csv\",delimiter=',')\n",
    "df_regA = pd.DataFrame(data_regA)\n",
    "\n",
    "data_regB = pd.read_csv(\"RegB.csv\",delimiter=',')\n",
    "df_regB = pd.DataFrame(data_regB)\n",
    "\n",
    "from sklearn.linear_model import LinearRegression\n",
    "\n",
    "#define the classifier\n",
    "classifier_regA = LinearRegression()\n",
    "#train the classifier\n",
    "model_regA = classifier_regA.fit(df_regA[['time']], df_regA['population_density'])\n",
    "#use the trained classifier to make prediction\n",
    "y_pred_regA = classifier_regA.predict(df_regA[['time']])\n",
    "\n",
    "#define the classifier\n",
    "classifier_regB = LinearRegression()\n",
    "#train the classifier\n",
    "model_regB = classifier_regB.fit(df_regB[['time']], df_regB['population_density'])\n",
    "#use the trained classifier to make prediction\n",
    "y_pred_regB = classifier_regB.predict(df_regB[['time']])\n",
    "\n"
   ]
  },
  {
   "cell_type": "markdown",
   "metadata": {},
   "source": [
    "(f) Visualize both computed regression functions in one plot each, combined with the original data set. For example, you can show a plot similar to 3(c) and insert the regression functions result."
   ]
  },
  {
   "cell_type": "code",
   "execution_count": 17,
   "metadata": {},
   "outputs": [
    {
     "data": {
      "image/png": "[encoded data removed]",
      "text/plain": [
       "<Figure size 1080x720 with 1 Axes>"
      ]
     },
     "metadata": {},
     "output_type": "display_data"
    }
   ],
   "source": [
    "# Your code:\n",
    "\n",
    "plt.figure(figsize=(15,10))\n",
    "#visualize original data points\n",
    "plt.scatter(data_pop_3[['time']], data_pop_3[['population_density']], color = \"m\", marker = \"s\", s = 1)\n",
    "#visualize regression function\n",
    "plt.plot(df_regA[['time']], y_pred_regA, color = \"g\", label = \"regA\")\n",
    "plt.plot(df_regB[['time']], y_pred_regB, color = \"r\", label = \"regB\")\n",
    "plt.xlabel('date_time') \n",
    "plt.ylabel('population_density')\n",
    "plt.title('Regression Function')\n",
    "plt.legend(loc = \"best\")\n",
    "plt.show()\n"
   ]
  },
  {
   "cell_type": "markdown",
   "metadata": {},
   "source": [
    "   (g) For each of the two resulting models compute and print the mean squared error, mean absolute error and median squared error with respect to the original, non-sampled data set. Also, present plots showing the errors and squared errors."
   ]
  },
  {
   "cell_type": "code",
   "execution_count": 21,
   "metadata": {},
   "outputs": [
    {
     "name": "stdout",
     "output_type": "stream",
     "text": [
      "RegA Mean squared error: 4463045.944020415\n",
      "\n",
      "RegA Mean absolute error: 1819.4366034606549\n",
      "\n",
      "RegA Median squared error: 11330142.827825246\n",
      "\n",
      "\n",
      "RegB Mean squared error: 4521477.3612134615\n",
      "\n",
      "RegB Mean absolute error: 1824.5571939678089\n",
      "\n",
      "RegB Median squared error: 11330620.318219442\n",
      "\n"
     ]
    },
    {
     "data": {
      "image/png": "[encoded data removed]",
      "text/plain": [
       "<Figure size 432x288 with 1 Axes>"
      ]
     },
     "metadata": {},
     "output_type": "display_data"
    },
    {
     "data": {
      "image/png": "[encoded data removed]",
      "text/plain": [
       "<Figure size 432x288 with 1 Axes>"
      ]
     },
     "metadata": {},
     "output_type": "display_data"
    },
    {
     "data": {
      "image/png": "[encoded data removed]",
      "text/plain": [
       "<Figure size 432x288 with 1 Axes>"
      ]
     },
     "metadata": {},
     "output_type": "display_data"
    },
    {
     "data": {
      "image/png": "[encoded data removed]",
      "text/plain": [
       "<Figure size 432x288 with 1 Axes>"
      ]
     },
     "metadata": {},
     "output_type": "display_data"
    }
   ],
   "source": [
    "# Your code:\n",
    "\n",
    "from sklearn.metrics import mean_squared_error, mean_absolute_error, median_absolute_error\n",
    "\n",
    "print(\"RegA Mean squared error:\",mean_squared_error(data_pop_3['population_density'][:len(y_pred_regA)], y_pred_regA))\n",
    "print()\n",
    "print(\"RegA Mean absolute error:\",mean_absolute_error(data_pop_3['population_density'][:len(y_pred_regA)], y_pred_regA))\n",
    "print()\n",
    "print(\"RegA Median squared error:\",median_absolute_error(data_pop_3['population_density'][:len(y_pred_regA)]**2, y_pred_regA))\n",
    "print()\n",
    "print()\n",
    "print(\"RegB Mean squared error:\",mean_squared_error(data_pop_3['population_density'][:len(y_pred_regB)], y_pred_regB))\n",
    "print()\n",
    "print(\"RegB Mean absolute error:\",mean_absolute_error(data_pop_3['population_density'][:len(y_pred_regB)], y_pred_regB))\n",
    "print()\n",
    "print(\"RegB Median squared error:\",median_absolute_error(data_pop_3['population_density'][:len(y_pred_regB)]**2, y_pred_regB))\n",
    "print()\n",
    "\n",
    "\n",
    "plt.scatter(y_pred_regA, (data_pop_3['population_density'][:len(y_pred_regA)] - y_pred_regA) ** 2, color = \"blue\", s = 0.1) \n",
    "plt.title(\"RegA Squared Errors\")\n",
    "## plotting line for zero error \n",
    "plt.hlines(y = 0, xmin = 2000, xmax = 4600, linewidth = 2)\n",
    "plt.xlim((2000, 4600))\n",
    "plt.xlabel('predicted values')\n",
    "plt.ylabel('squared error')\n",
    "plt.show()\n",
    "\n",
    "plt.scatter(y_pred_regB, (data_pop_3['population_density'][:len(y_pred_regB)] - y_pred_regB) ** 2, color = \"blue\", s = 0.1) \n",
    "plt.title(\"RegB Squared Errors\")\n",
    "## plotting line for zero error \n",
    "plt.hlines(y = 0, xmin = 2000, xmax = 4600, linewidth = 2)\n",
    "plt.xlim((2000, 4600))\n",
    "plt.xlabel('predicted values')\n",
    "plt.ylabel('squared error')\n",
    "plt.show()\n",
    "\n",
    "plt.scatter(y_pred_regA, (data_pop_3['population_density'][:len(y_pred_regA)] - y_pred_regA), color = \"blue\", s = 0.1,) \n",
    "plt.title(\"RegA Errors\")\n",
    "plt.hlines(y = 0, xmin = 2000, xmax = 4600, linewidth = 2)\n",
    "plt.xlim((2000, 4600))\n",
    "plt.xlabel('predicted values')\n",
    "plt.ylabel('absolute error')\n",
    "plt.show()\n",
    "\n",
    "plt.scatter(y_pred_regB, (data_pop_3['population_density'][:len(y_pred_regB)] - y_pred_regB), color = \"blue\", s = 0.1,) \n",
    "plt.title(\"RegB Errors\")\n",
    "plt.hlines(y = 0, xmin = 2000, xmax = 4600, linewidth = 2)\n",
    "plt.xlim((2000, 4600))\n",
    "plt.xlabel('predicted values')\n",
    "plt.ylabel('absolute error')\n",
    "plt.show()"
   ]
  },
  {
   "cell_type": "markdown",
   "metadata": {},
   "source": [
    "   (h) Interpret and evaluate the two models and compare them. Why are they similar/different? Which model do you recommend and why? How do you think the applied methods could be improved to get better results?"
   ]
  },
  {
   "cell_type": "markdown",
   "metadata": {},
   "source": [
    "Explanation:<br>\n",
    "In the model A it has more smaller mean squared error and mean absolute error, but model B has more smaller median absoulte error. In conclusion we think model A is better to fit the dataset, hence we recommend model A. In general these two models are more similar, since the dataset is not large enough.<br>\n",
    "To get better results we should take a larger sample, other hand we could split the outliers from initial dataset to improve the classifier. <br>\n"
   ]
  },
  {
   "cell_type": "markdown",
   "metadata": {},
   "source": [
    "## Question 4 - Support Vector Machines (10 points):\n",
    "\n",
    "For this question (Q4), restrict your extracted data set to the columns *holiday, temperature, rain_1h, snow_1h, clouds_percentage, date_time* and *population_density_categorical*. For *date_time*, drop the information on the date and restrict the data to time values only.\n",
    "We define *population_density_categorical* to be our target feature, while all other features are considered descriptive.\n"
   ]
  },
  {
   "cell_type": "code",
   "execution_count": 22,
   "metadata": {},
   "outputs": [
    {
     "data": {
      "text/html": [
       "<div>\n",
       "<style scoped>\n",
       "    .dataframe tbody tr th:only-of-type {\n",
       "        vertical-align: middle;\n",
       "    }\n",
       "\n",
       "    .dataframe tbody tr th {\n",
       "        vertical-align: top;\n",
       "    }\n",
       "\n",
       "    .dataframe thead th {\n",
       "        text-align: right;\n",
       "    }\n",
       "</style>\n",
       "<table border=\"1\" class=\"dataframe\">\n",
       "  <thead>\n",
       "    <tr style=\"text-align: right;\">\n",
       "      <th></th>\n",
       "      <th>holiday</th>\n",
       "      <th>temperature</th>\n",
       "      <th>rain_1h</th>\n",
       "      <th>snow_1h</th>\n",
       "      <th>clouds_percentage</th>\n",
       "      <th>population_density_categorical</th>\n",
       "      <th>time</th>\n",
       "    </tr>\n",
       "  </thead>\n",
       "  <tbody>\n",
       "    <tr>\n",
       "      <th>0</th>\n",
       "      <td>None</td>\n",
       "      <td>277.79</td>\n",
       "      <td>0.0</td>\n",
       "      <td>0.0</td>\n",
       "      <td>1</td>\n",
       "      <td>very low</td>\n",
       "      <td>4</td>\n",
       "    </tr>\n",
       "    <tr>\n",
       "      <th>1</th>\n",
       "      <td>None</td>\n",
       "      <td>290.33</td>\n",
       "      <td>0.0</td>\n",
       "      <td>0.0</td>\n",
       "      <td>90</td>\n",
       "      <td>very high</td>\n",
       "      <td>16</td>\n",
       "    </tr>\n",
       "    <tr>\n",
       "      <th>2</th>\n",
       "      <td>None</td>\n",
       "      <td>300.40</td>\n",
       "      <td>0.0</td>\n",
       "      <td>0.0</td>\n",
       "      <td>1</td>\n",
       "      <td>high</td>\n",
       "      <td>13</td>\n",
       "    </tr>\n",
       "    <tr>\n",
       "      <th>3</th>\n",
       "      <td>None</td>\n",
       "      <td>289.69</td>\n",
       "      <td>0.0</td>\n",
       "      <td>0.0</td>\n",
       "      <td>1</td>\n",
       "      <td>low</td>\n",
       "      <td>21</td>\n",
       "    </tr>\n",
       "    <tr>\n",
       "      <th>4</th>\n",
       "      <td>None</td>\n",
       "      <td>283.30</td>\n",
       "      <td>0.0</td>\n",
       "      <td>0.0</td>\n",
       "      <td>90</td>\n",
       "      <td>medium</td>\n",
       "      <td>18</td>\n",
       "    </tr>\n",
       "  </tbody>\n",
       "</table>\n",
       "</div>"
      ],
      "text/plain": [
       "  holiday  temperature  rain_1h  snow_1h  clouds_percentage  \\\n",
       "0    None       277.79      0.0      0.0                  1   \n",
       "1    None       290.33      0.0      0.0                 90   \n",
       "2    None       300.40      0.0      0.0                  1   \n",
       "3    None       289.69      0.0      0.0                  1   \n",
       "4    None       283.30      0.0      0.0                 90   \n",
       "\n",
       "  population_density_categorical  time  \n",
       "0                       very low     4  \n",
       "1                      very high    16  \n",
       "2                           high    13  \n",
       "3                            low    21  \n",
       "4                         medium    18  "
      ]
     },
     "metadata": {},
     "output_type": "display_data"
    }
   ],
   "source": [
    "# Your code:\n",
    "\n",
    "from sklearn.linear_model import LinearRegression\n",
    "\n",
    "data_pop_4 = data_pop.copy()\n",
    "data_pop_4 = data_pop_4[['holiday', 'temperature', 'rain_1h', 'snow_1h', 'clouds_percentage', 'date_time', 'population_density_categorical']]\n",
    "temp = pd.DatetimeIndex(data_pop_4['date_time'])\n",
    "data_pop_4['time'] =  temp.hour\n",
    "data_pop_4 = data_pop_4.drop(['date_time'], axis=1)\n",
    "display(data_pop_4.head())\n"
   ]
  },
  {
   "cell_type": "markdown",
   "metadata": {},
   "source": [
    "   (a) Which features are suitable as an input for SVM and which need to be modified first? Modify the data as needed and provide a brief explanation."
   ]
  },
  {
   "cell_type": "code",
   "execution_count": 23,
   "metadata": {},
   "outputs": [
    {
     "data": {
      "text/html": [
       "<div>\n",
       "<style scoped>\n",
       "    .dataframe tbody tr th:only-of-type {\n",
       "        vertical-align: middle;\n",
       "    }\n",
       "\n",
       "    .dataframe tbody tr th {\n",
       "        vertical-align: top;\n",
       "    }\n",
       "\n",
       "    .dataframe thead th {\n",
       "        text-align: right;\n",
       "    }\n",
       "</style>\n",
       "<table border=\"1\" class=\"dataframe\">\n",
       "  <thead>\n",
       "    <tr style=\"text-align: right;\">\n",
       "      <th></th>\n",
       "      <th>holiday</th>\n",
       "      <th>temperature</th>\n",
       "      <th>rain_1h</th>\n",
       "      <th>snow_1h</th>\n",
       "      <th>clouds_percentage</th>\n",
       "      <th>population_density_categorical</th>\n",
       "      <th>time</th>\n",
       "      <th>Christmas Day</th>\n",
       "      <th>Columbus Day</th>\n",
       "      <th>Independence Day</th>\n",
       "      <th>Labor Day</th>\n",
       "      <th>Martin Luther King Jr Day</th>\n",
       "      <th>Memorial Day</th>\n",
       "      <th>New Years Day</th>\n",
       "      <th>None</th>\n",
       "      <th>State Fair</th>\n",
       "      <th>Thanksgiving Day</th>\n",
       "      <th>Veterans Day</th>\n",
       "      <th>Washingtons Birthday</th>\n",
       "    </tr>\n",
       "  </thead>\n",
       "  <tbody>\n",
       "    <tr>\n",
       "      <th>0</th>\n",
       "      <td>None</td>\n",
       "      <td>277.79</td>\n",
       "      <td>0.0</td>\n",
       "      <td>0.0</td>\n",
       "      <td>1</td>\n",
       "      <td>very low</td>\n",
       "      <td>4</td>\n",
       "      <td>0</td>\n",
       "      <td>0</td>\n",
       "      <td>0</td>\n",
       "      <td>0</td>\n",
       "      <td>0</td>\n",
       "      <td>0</td>\n",
       "      <td>0</td>\n",
       "      <td>1</td>\n",
       "      <td>0</td>\n",
       "      <td>0</td>\n",
       "      <td>0</td>\n",
       "      <td>0</td>\n",
       "    </tr>\n",
       "    <tr>\n",
       "      <th>1</th>\n",
       "      <td>None</td>\n",
       "      <td>290.33</td>\n",
       "      <td>0.0</td>\n",
       "      <td>0.0</td>\n",
       "      <td>90</td>\n",
       "      <td>very high</td>\n",
       "      <td>16</td>\n",
       "      <td>0</td>\n",
       "      <td>0</td>\n",
       "      <td>0</td>\n",
       "      <td>0</td>\n",
       "      <td>0</td>\n",
       "      <td>0</td>\n",
       "      <td>0</td>\n",
       "      <td>1</td>\n",
       "      <td>0</td>\n",
       "      <td>0</td>\n",
       "      <td>0</td>\n",
       "      <td>0</td>\n",
       "    </tr>\n",
       "  </tbody>\n",
       "</table>\n",
       "</div>"
      ],
      "text/plain": [
       "  holiday  temperature  rain_1h  snow_1h  clouds_percentage  \\\n",
       "0    None       277.79      0.0      0.0                  1   \n",
       "1    None       290.33      0.0      0.0                 90   \n",
       "\n",
       "  population_density_categorical  time  Christmas Day  Columbus Day  \\\n",
       "0                       very low     4              0             0   \n",
       "1                      very high    16              0             0   \n",
       "\n",
       "   Independence Day  Labor Day  Martin Luther King Jr Day  Memorial Day  \\\n",
       "0                 0          0                          0             0   \n",
       "1                 0          0                          0             0   \n",
       "\n",
       "   New Years Day  None  State Fair  Thanksgiving Day  Veterans Day  \\\n",
       "0              0     1           0                 0             0   \n",
       "1              0     1           0                 0             0   \n",
       "\n",
       "   Washingtons Birthday  \n",
       "0                     0  \n",
       "1                     0  "
      ]
     },
     "execution_count": 23,
     "metadata": {},
     "output_type": "execute_result"
    }
   ],
   "source": [
    "# Your code:\n",
    "\n",
    "df_holiday = pd.get_dummies(data_pop_4['holiday'])\n",
    "# df_pop_cat = pd.get_dummies(data_pop_4['population_density_categorical'])\n",
    "# data_pop_3 = data_pop_3.drop(['holiday'],axis = 1)\n",
    "data_pop_4 = data_pop_4.join(df_holiday)\n",
    "# data_pop_4 = data_pop_4.join(df_pop_cat)\n",
    "data_pop_4.head(2)\n"
   ]
  },
  {
   "cell_type": "markdown",
   "metadata": {},
   "source": [
    "Explanation:<br>\n",
    "The population_density_categorical is good als feature input for SVM, but the value of population_density_categorical must be dummy-code because population_density_categorical is categorical descriptive feature."
   ]
  },
  {
   "cell_type": "markdown",
   "metadata": {},
   "source": [
    "   (b) Divide the data set into a training set *svmTrain* and a test set *svmTest* and briefly motivate your division      strategy. Include these data sets in the data set zip file you submit. \n",
    "   \n",
    "   Hint: Training the SVMs will take longer for a large training set!"
   ]
  },
  {
   "cell_type": "code",
   "execution_count": 24,
   "metadata": {},
   "outputs": [],
   "source": [
    "# Your code:\n",
    "\n",
    "from sklearn.model_selection import train_test_split\n",
    "\n",
    "# random split\n",
    "svmTrain, svmTest = train_test_split(data_pop_4, test_size=0.25, random_state=42)\n",
    "svmTrain = svmTrain.drop(['holiday'],axis=1)\n",
    "svmTest = svmTest.drop(['holiday'],axis=1)\n",
    "\n",
    "# svmTrain.to_csv(\"svmTrain.csv\", index=False)\n",
    "# svmTest.to_csv(\"svmTest.csv\", index=False)"
   ]
  },
  {
   "cell_type": "markdown",
   "metadata": {},
   "source": [
    "Explanation:<br>\n",
    "We divide all the dataset into 75% as training set and 25% as testing set."
   ]
  },
  {
   "cell_type": "markdown",
   "metadata": {},
   "source": [
    "   (c) Use the training set to train 3 different SVMs with different combinations of the parameters. Use at least two distinct values for the parameters *kernel* and *C*."
   ]
  },
  {
   "cell_type": "code",
   "execution_count": null,
   "metadata": {},
   "outputs": [],
   "source": [
    "# Your code:\n",
    "\n",
    "data_svmTrain = pd.read_csv(\"svmTrain.csv\",delimiter=',')\n",
    "df_svmTrain = pd.DataFrame(data_svmTrain)\n",
    "\n",
    "# df_svmTrain = df_svmTrain[:5000]\n",
    "\n",
    "# data_svmTest = pd.read_csv(\"svmTest.csv\",delimiter=',')\n",
    "# df_svmTest = pd.DataFrame(data_svmTest)\n",
    "\n",
    "#prepare input data\n",
    "features = df_svmTrain.columns.tolist()\n",
    "features.remove('population_density_categorical')\n",
    "\n",
    "X = df_svmTrain[features]\n",
    "y = df_svmTrain['population_density_categorical']\n",
    "\n",
    "from sklearn.svm import SVC\n",
    "\n",
    "classifier_1 = SVC(C=1, kernel='linear', gamma='scale') # kernel = ‘linear’, ‘poly’, ‘rbf’, ‘sigmoid’, ‘precomputed’\n",
    "classifier_1.fit(X, y)\n",
    "pred_1 = classifier_1.predict(X)\n",
    "\n",
    "classifier_2 = SVC(C=1, kernel='poly', gamma='scale') # kernel = ‘linear’, ‘poly’, ‘rbf’, ‘sigmoid’, ‘precomputed’\n",
    "classifier_2.fit(X, y)\n",
    "pred_2 = classifier_2.predict(X)\n",
    "\n",
    "classifier_3 = SVC(C=0.5, kernel='linear', gamma='scale') # kernel = ‘linear’, ‘poly’, ‘rbf’, ‘sigmoid’, ‘precomputed’\n",
    "classifier_3.fit(X, y)\n",
    "pred_3 = classifier_3.predict(X)\n",
    "\n",
    "# print('Indicies of support vectors: \\n', classifier.support_, '\\n ') #indicies of support vectors\n",
    "# print('Support vectors: \\n ', classifier.support_vectors_, '\\n ') #the support vectors\n",
    "# print('Number of support vectors for each class: \\n ', classifier.n_support_, '\\n ') #the number of support vectors for each class\n"
   ]
  },
  {
   "cell_type": "markdown",
   "metadata": {},
   "source": [
    "   (d) Compute and print the mean accurracy and classification report of the trained SVMs with respect to the test set (as shown in instruction)."
   ]
  },
  {
   "cell_type": "code",
   "execution_count": 34,
   "metadata": {},
   "outputs": [
    {
     "name": "stdout",
     "output_type": "stream",
     "text": [
      "Mean accuracy_1: \n",
      " 0.5728379125945049 \n",
      "\n"
     ]
    },
    {
     "name": "stderr",
     "output_type": "stream",
     "text": [
      "/Users/hhk/anaconda3/lib/python3.7/site-packages/sklearn/metrics/classification.py:1437: UndefinedMetricWarning: Precision and F-score are ill-defined and being set to 0.0 in labels with no predicted samples.\n",
      "  'precision', 'predicted', average, warn_for)\n"
     ]
    },
    {
     "name": "stdout",
     "output_type": "stream",
     "text": [
      "Classification Report_1: \n",
      "               precision    recall  f1-score   support\n",
      "\n",
      "        high       0.61      0.74      0.67      9126\n",
      "         low       0.44      0.35      0.39      5080\n",
      "      medium       0.38      0.37      0.37      6152\n",
      "   very high       0.00      0.00      0.00      3271\n",
      "    very low       0.69      0.88      0.77      8909\n",
      "\n",
      "    accuracy                           0.57     32538\n",
      "   macro avg       0.42      0.47      0.44     32538\n",
      "weighted avg       0.50      0.57      0.53     32538\n",
      " \n",
      "\n",
      "\n",
      "Mean accuracy_2: \n",
      " 0.5716393140328232 \n",
      "\n",
      "Classification Report_2: \n",
      "               precision    recall  f1-score   support\n",
      "\n",
      "        high       0.59      0.76      0.67      9126\n",
      "         low       0.44      0.33      0.38      5080\n",
      "      medium       0.38      0.36      0.37      6152\n",
      "   very high       0.00      0.00      0.00      3271\n",
      "    very low       0.70      0.87      0.78      8909\n",
      "\n",
      "    accuracy                           0.57     32538\n",
      "   macro avg       0.42      0.46      0.44     32538\n",
      "weighted avg       0.50      0.57      0.53     32538\n",
      " \n",
      "\n",
      "\n",
      "Mean accuracy_3: \n",
      " 0.5751736431249616 \n",
      "\n",
      "Classification Report_3: \n",
      "               precision    recall  f1-score   support\n",
      "\n",
      "        high       0.60      0.76      0.67      9126\n",
      "         low       0.46      0.31      0.37      5080\n",
      "      medium       0.37      0.39      0.38      6152\n",
      "   very high       0.00      0.00      0.00      3271\n",
      "    very low       0.71      0.87      0.78      8909\n",
      "\n",
      "    accuracy                           0.58     32538\n",
      "   macro avg       0.43      0.47      0.44     32538\n",
      "weighted avg       0.50      0.58      0.53     32538\n",
      " \n",
      "\n"
     ]
    }
   ],
   "source": [
    "# Your code:\n",
    "from sklearn.metrics import accuracy_score\n",
    "from sklearn.metrics import classification_report\n",
    "\n",
    "print('Mean accuracy_1: \\n', accuracy_score(y, pred_1), '\\n')\n",
    "print('Classification Report_1: \\n', classification_report(y, pred_1), '\\n')\n",
    "print()\n",
    "print('Mean accuracy_2: \\n', accuracy_score(y, pred_2), '\\n')\n",
    "print('Classification Report_2: \\n', classification_report(y, pred_2), '\\n')\n",
    "print()\n",
    "print('Mean accuracy_3: \\n', accuracy_score(y, pred_3), '\\n')\n",
    "print('Classification Report_3: \\n', classification_report(y, pred_3), '\\n')"
   ]
  },
  {
   "cell_type": "markdown",
   "metadata": {},
   "source": [
    "   (e) Interpret and evaluate the 3 SVMs and compare them. Why are they similar/different? Which SVM do you recommend and why?"
   ]
  },
  {
   "cell_type": "markdown",
   "metadata": {},
   "source": [
    "Explanation:<br> \n",
    "These 3 SVMs have different parameters, compare classifier1 with classifier2, they have different kernel functions linear kernel and polynomial kernel, but the C of both classifier is same, in fact the classifier has higher accuracy. Compare classifier2 with classifier3 it has same situation. The second situation is compare classifier1 with classifier3, they have same linear kernel function, but the C of classifier3 is smaller, the result is that the accuracies of these two classifiers are similar.<br> \n",
    "Absolutely they are different, since they have different kernel function and C, the result is that they have different accuracies, to improve the accuracy of classifier we should try to take more different parameters.<br> \n",
    "In conlusion we recommend the classifier2, since as we can see, classifier2 have the higher accuracy under the same situation.<br> "
   ]
  },
  {
   "cell_type": "markdown",
   "metadata": {},
   "source": [
    "## Question 5 - Neural Networks (20 points)\n",
    "In this question consider the whole dataset that you have created in the *Preprocessing of Dataset* section. The target feature is *population_density_categorical*. \n",
    "\n",
    "To avoid performance problems, use the first 4000 rows of your dataset (you will need 2000 for training and 2000 for testing)."
   ]
  },
  {
   "cell_type": "markdown",
   "metadata": {},
   "source": [
    "   (a) What are the possible inputs of your network?\n",
    "     - Show the possible extracted features.\n",
    "     - Show the number of possible patterns of inputs for the categorical data."
   ]
  },
  {
   "cell_type": "code",
   "execution_count": 6,
   "metadata": {},
   "outputs": [
    {
     "name": "stdout",
     "output_type": "stream",
     "text": [
      "Input features in dataset population_density _categorical: \n",
      "['holiday' 'temperature' 'rain_1h' 'snow_1h' 'clouds_percentage'\n",
      " 'weather_type' 'weather_type_details' 'date_time' 'population_density']\n",
      "\n",
      "\n",
      "Data type for different features:\n",
      "holiday                  object\n",
      "temperature             float64\n",
      "rain_1h                 float64\n",
      "snow_1h                 float64\n",
      "clouds_percentage         int64\n",
      "weather_type             object\n",
      "weather_type_details     object\n",
      "date_time                object\n",
      "population_density        int64\n",
      "dtype: object\n",
      "\n",
      "\n",
      "The number of patterns:  37095\n"
     ]
    }
   ],
   "source": [
    "\n",
    "\n",
    "from sklearn.model_selection import train_test_split\n",
    "\n",
    "data_pop_5 = pd.read_csv(\"population_density_categorical.csv\", delimiter=',')\n",
    "data_pop_5 = data_pop_5.head(4000)\n",
    "\n",
    "# from sklearn.preprocessing import MinMaxScaler\n",
    "# possible inputs\n",
    "\n",
    "df_pop_5 = df_pop.copy(deep=True)\n",
    "print('Input features in dataset population_density _categorical: ')\n",
    "input_features = df_pop_5.columns.values[1:-1]\n",
    "print(input_features)\n",
    "print('\\n')\n",
    "\n",
    "# get data type\n",
    "print(\"Data type for different features:\")\n",
    "input_data=df_pop_5[input_features]\n",
    "print(input_data.dtypes)\n",
    "print('\\n')\n",
    "\n",
    "#normalize the numerical features:\n",
    "num_data = input_data[['temperature','rain_1h','snow_1h','clouds_percentage','population_density']]\n",
    "minmaxscaler = MinMaxScaler()\n",
    "#keep the column and index name \n",
    "norm_num = num_data.copy(deep=True)\n",
    "norm_num.loc[:,:]=  minmaxscaler.fit_transform(num_data)\n",
    "\n",
    "# applay one hot encoding to categorical features:\n",
    "cate_data = input_data[['holiday',\n",
    " 'weather_type', 'weather_type_details','date_time']]\n",
    "onehot_data = pd.get_dummies(cate_data)\n",
    "\n",
    "\n",
    "# get the pattern number after apply one hot encoding to categorical feature.\n",
    "print('The number of patterns: ',onehot_data.shape[1])\n"
   ]
  },
  {
   "cell_type": "markdown",
   "metadata": {},
   "source": [
    "**Explanation:** <br>\n",
    "All the features except for the target feature and the random seed are possible inputs for neural network. but we need to do some modifications:\n",
    "first of all because the NN only takes the numerical values, the categorical descriptive features need to be convert to numerical ones. besides, it's better to normalize the input.\n",
    "\n",
    "There are 4 descriptive categoraical features i.e 'holiday',\n",
    "'weather_type', 'weather_type_details' and 'date_time' in the dataset.When we  applay one hot encoding to these featruese, we can get the number of possible pattern is 37095. The number is so huge just because we also consider the date information for the time. Each of the differnt date-time will be consider as a  \n",
    "category."
   ]
  },
  {
   "cell_type": "markdown",
   "metadata": {},
   "source": [
    "   (b) Before using the Neural Network algorithm, do you think it provides an accurate result? Why? \n",
    "     - Your explanation should be supported by data."
   ]
  },
  {
   "cell_type": "markdown",
   "metadata": {},
   "source": [
    "**Explanation:**<br> \n",
    "No. I think it's too trivial to consider all the date information. it will make the neural network get much more useless information. increase the computation time for training the network. and the result also tends to overfitting. Instead of using date time, if we do some processing as the task 4, just consider the time information, the number of patterns will from 37095 reduces to 62 (see following rusult). I think in these way it will makes more sense, reduce the training time and improve the accuracy. \n",
    "In another view, NN are trained on training data, there exist bias, perfectly fit the training data will leads to overfitting. more independent data make the result better."
   ]
  },
  {
   "cell_type": "code",
   "execution_count": 7,
   "metadata": {},
   "outputs": [
    {
     "name": "stdout",
     "output_type": "stream",
     "text": [
      "Without consider date information, the number of paterns is reduce to:  62\n"
     ]
    }
   ],
   "source": [
    "# keep only time information in date time.\n",
    "cate_data_wo_date = cate_data.copy(deep=True)\n",
    "temp = pd.DatetimeIndex(cate_data['date_time'])\n",
    "cate_data_wo_date['time'] =  temp.hour\n",
    "cate_data_wo_date.drop(['date_time'], axis=1)\n",
    "\n",
    "# applay one hot encoding\n",
    "onehot_data_wo_dt = pd.get_dummies(cate_data_wo_date[['holiday',\n",
    " 'weather_type', 'weather_type_details','time']])\n",
    "print('Without consider date information, the number of paterns is reduce to: ',onehot_data_wo_dt.shape[1])\n"
   ]
  },
  {
   "cell_type": "markdown",
   "metadata": {},
   "source": [
    "   (c) Which features can be used for designing your network as inputs? Why?\n",
    "       - Which features should be changed (example: from categorical to numerical or numerical to categorical)? Why? \n",
    "       - Convert the features. "
   ]
  },
  {
   "cell_type": "markdown",
   "metadata": {},
   "source": [
    "**Explanation:**<br>\n",
    "As i described in the solution for task 5(a) following features: holiday,weather_type,weather_type_details, date_time, should be changed, because they are descriptive features, but the NN only takes numerical values.\n",
    "we just use one hot encoding for these features(refer to task 5(a)). \n",
    "\n",
    "furthermore i only extract the time information in the data_time feature.(refer to task 5(b))\n",
    "\n",
    "finally, we need do some normalization for the numerical parts(refer to taks 5(a))"
   ]
  },
  {
   "cell_type": "code",
   "execution_count": 15,
   "metadata": {},
   "outputs": [
    {
     "data": {
      "text/html": [
       "<div>\n",
       "<style scoped>\n",
       "    .dataframe tbody tr th:only-of-type {\n",
       "        vertical-align: middle;\n",
       "    }\n",
       "\n",
       "    .dataframe tbody tr th {\n",
       "        vertical-align: top;\n",
       "    }\n",
       "\n",
       "    .dataframe thead th {\n",
       "        text-align: right;\n",
       "    }\n",
       "</style>\n",
       "<table border=\"1\" class=\"dataframe\">\n",
       "  <thead>\n",
       "    <tr style=\"text-align: right;\">\n",
       "      <th></th>\n",
       "      <th>time</th>\n",
       "      <th>holiday_Christmas Day</th>\n",
       "      <th>holiday_Columbus Day</th>\n",
       "      <th>holiday_Independence Day</th>\n",
       "      <th>holiday_Labor Day</th>\n",
       "      <th>holiday_Martin Luther King Jr Day</th>\n",
       "      <th>holiday_Memorial Day</th>\n",
       "      <th>holiday_New Years Day</th>\n",
       "      <th>holiday_None</th>\n",
       "      <th>holiday_State Fair</th>\n",
       "      <th>...</th>\n",
       "      <th>weather_type_details_sleet</th>\n",
       "      <th>weather_type_details_smoke</th>\n",
       "      <th>weather_type_details_snow</th>\n",
       "      <th>weather_type_details_thunderstorm</th>\n",
       "      <th>weather_type_details_thunderstorm with drizzle</th>\n",
       "      <th>weather_type_details_thunderstorm with heavy rain</th>\n",
       "      <th>weather_type_details_thunderstorm with light drizzle</th>\n",
       "      <th>weather_type_details_thunderstorm with light rain</th>\n",
       "      <th>weather_type_details_thunderstorm with rain</th>\n",
       "      <th>weather_type_details_very heavy rain</th>\n",
       "    </tr>\n",
       "  </thead>\n",
       "  <tbody>\n",
       "    <tr>\n",
       "      <th>0</th>\n",
       "      <td>4</td>\n",
       "      <td>0</td>\n",
       "      <td>0</td>\n",
       "      <td>0</td>\n",
       "      <td>0</td>\n",
       "      <td>0</td>\n",
       "      <td>0</td>\n",
       "      <td>0</td>\n",
       "      <td>1</td>\n",
       "      <td>0</td>\n",
       "      <td>...</td>\n",
       "      <td>0</td>\n",
       "      <td>0</td>\n",
       "      <td>0</td>\n",
       "      <td>0</td>\n",
       "      <td>0</td>\n",
       "      <td>0</td>\n",
       "      <td>0</td>\n",
       "      <td>0</td>\n",
       "      <td>0</td>\n",
       "      <td>0</td>\n",
       "    </tr>\n",
       "    <tr>\n",
       "      <th>1</th>\n",
       "      <td>16</td>\n",
       "      <td>0</td>\n",
       "      <td>0</td>\n",
       "      <td>0</td>\n",
       "      <td>0</td>\n",
       "      <td>0</td>\n",
       "      <td>0</td>\n",
       "      <td>0</td>\n",
       "      <td>1</td>\n",
       "      <td>0</td>\n",
       "      <td>...</td>\n",
       "      <td>0</td>\n",
       "      <td>0</td>\n",
       "      <td>0</td>\n",
       "      <td>0</td>\n",
       "      <td>0</td>\n",
       "      <td>0</td>\n",
       "      <td>0</td>\n",
       "      <td>0</td>\n",
       "      <td>0</td>\n",
       "      <td>0</td>\n",
       "    </tr>\n",
       "    <tr>\n",
       "      <th>2</th>\n",
       "      <td>13</td>\n",
       "      <td>0</td>\n",
       "      <td>0</td>\n",
       "      <td>0</td>\n",
       "      <td>0</td>\n",
       "      <td>0</td>\n",
       "      <td>0</td>\n",
       "      <td>0</td>\n",
       "      <td>1</td>\n",
       "      <td>0</td>\n",
       "      <td>...</td>\n",
       "      <td>0</td>\n",
       "      <td>0</td>\n",
       "      <td>0</td>\n",
       "      <td>0</td>\n",
       "      <td>0</td>\n",
       "      <td>0</td>\n",
       "      <td>0</td>\n",
       "      <td>0</td>\n",
       "      <td>0</td>\n",
       "      <td>0</td>\n",
       "    </tr>\n",
       "    <tr>\n",
       "      <th>3</th>\n",
       "      <td>21</td>\n",
       "      <td>0</td>\n",
       "      <td>0</td>\n",
       "      <td>0</td>\n",
       "      <td>0</td>\n",
       "      <td>0</td>\n",
       "      <td>0</td>\n",
       "      <td>0</td>\n",
       "      <td>1</td>\n",
       "      <td>0</td>\n",
       "      <td>...</td>\n",
       "      <td>0</td>\n",
       "      <td>0</td>\n",
       "      <td>0</td>\n",
       "      <td>0</td>\n",
       "      <td>0</td>\n",
       "      <td>0</td>\n",
       "      <td>0</td>\n",
       "      <td>0</td>\n",
       "      <td>0</td>\n",
       "      <td>0</td>\n",
       "    </tr>\n",
       "    <tr>\n",
       "      <th>4</th>\n",
       "      <td>18</td>\n",
       "      <td>0</td>\n",
       "      <td>0</td>\n",
       "      <td>0</td>\n",
       "      <td>0</td>\n",
       "      <td>0</td>\n",
       "      <td>0</td>\n",
       "      <td>0</td>\n",
       "      <td>1</td>\n",
       "      <td>0</td>\n",
       "      <td>...</td>\n",
       "      <td>0</td>\n",
       "      <td>0</td>\n",
       "      <td>0</td>\n",
       "      <td>0</td>\n",
       "      <td>0</td>\n",
       "      <td>0</td>\n",
       "      <td>0</td>\n",
       "      <td>0</td>\n",
       "      <td>0</td>\n",
       "      <td>0</td>\n",
       "    </tr>\n",
       "  </tbody>\n",
       "</table>\n",
       "<p>5 rows × 62 columns</p>\n",
       "</div>"
      ],
      "text/plain": [
       "   time  holiday_Christmas Day  holiday_Columbus Day  \\\n",
       "0     4                      0                     0   \n",
       "1    16                      0                     0   \n",
       "2    13                      0                     0   \n",
       "3    21                      0                     0   \n",
       "4    18                      0                     0   \n",
       "\n",
       "   holiday_Independence Day  holiday_Labor Day  \\\n",
       "0                         0                  0   \n",
       "1                         0                  0   \n",
       "2                         0                  0   \n",
       "3                         0                  0   \n",
       "4                         0                  0   \n",
       "\n",
       "   holiday_Martin Luther King Jr Day  holiday_Memorial Day  \\\n",
       "0                                  0                     0   \n",
       "1                                  0                     0   \n",
       "2                                  0                     0   \n",
       "3                                  0                     0   \n",
       "4                                  0                     0   \n",
       "\n",
       "   holiday_New Years Day  holiday_None  holiday_State Fair  ...  \\\n",
       "0                      0             1                   0  ...   \n",
       "1                      0             1                   0  ...   \n",
       "2                      0             1                   0  ...   \n",
       "3                      0             1                   0  ...   \n",
       "4                      0             1                   0  ...   \n",
       "\n",
       "   weather_type_details_sleet  weather_type_details_smoke  \\\n",
       "0                           0                           0   \n",
       "1                           0                           0   \n",
       "2                           0                           0   \n",
       "3                           0                           0   \n",
       "4                           0                           0   \n",
       "\n",
       "   weather_type_details_snow  weather_type_details_thunderstorm  \\\n",
       "0                          0                                  0   \n",
       "1                          0                                  0   \n",
       "2                          0                                  0   \n",
       "3                          0                                  0   \n",
       "4                          0                                  0   \n",
       "\n",
       "   weather_type_details_thunderstorm with drizzle  \\\n",
       "0                                               0   \n",
       "1                                               0   \n",
       "2                                               0   \n",
       "3                                               0   \n",
       "4                                               0   \n",
       "\n",
       "   weather_type_details_thunderstorm with heavy rain  \\\n",
       "0                                                  0   \n",
       "1                                                  0   \n",
       "2                                                  0   \n",
       "3                                                  0   \n",
       "4                                                  0   \n",
       "\n",
       "   weather_type_details_thunderstorm with light drizzle  \\\n",
       "0                                                  0      \n",
       "1                                                  0      \n",
       "2                                                  0      \n",
       "3                                                  0      \n",
       "4                                                  0      \n",
       "\n",
       "   weather_type_details_thunderstorm with light rain  \\\n",
       "0                                                  0   \n",
       "1                                                  0   \n",
       "2                                                  0   \n",
       "3                                                  0   \n",
       "4                                                  0   \n",
       "\n",
       "   weather_type_details_thunderstorm with rain  \\\n",
       "0                                            0   \n",
       "1                                            0   \n",
       "2                                            0   \n",
       "3                                            0   \n",
       "4                                            0   \n",
       "\n",
       "   weather_type_details_very heavy rain  \n",
       "0                                     0  \n",
       "1                                     0  \n",
       "2                                     0  \n",
       "3                                     0  \n",
       "4                                     0  \n",
       "\n",
       "[5 rows x 62 columns]"
      ]
     },
     "metadata": {},
     "output_type": "display_data"
    },
    {
     "data": {
      "text/html": [
       "<div>\n",
       "<style scoped>\n",
       "    .dataframe tbody tr th:only-of-type {\n",
       "        vertical-align: middle;\n",
       "    }\n",
       "\n",
       "    .dataframe tbody tr th {\n",
       "        vertical-align: top;\n",
       "    }\n",
       "\n",
       "    .dataframe thead th {\n",
       "        text-align: right;\n",
       "    }\n",
       "</style>\n",
       "<table border=\"1\" class=\"dataframe\">\n",
       "  <thead>\n",
       "    <tr style=\"text-align: right;\">\n",
       "      <th></th>\n",
       "      <th>temperature</th>\n",
       "      <th>rain_1h</th>\n",
       "      <th>snow_1h</th>\n",
       "      <th>clouds_percentage</th>\n",
       "      <th>population_density</th>\n",
       "    </tr>\n",
       "  </thead>\n",
       "  <tbody>\n",
       "    <tr>\n",
       "      <th>0</th>\n",
       "      <td>0.895894</td>\n",
       "      <td>0.0</td>\n",
       "      <td>0.0</td>\n",
       "      <td>0.01</td>\n",
       "      <td>0.041758</td>\n",
       "    </tr>\n",
       "    <tr>\n",
       "      <th>1</th>\n",
       "      <td>0.936337</td>\n",
       "      <td>0.0</td>\n",
       "      <td>0.0</td>\n",
       "      <td>0.90</td>\n",
       "      <td>0.876648</td>\n",
       "    </tr>\n",
       "    <tr>\n",
       "      <th>2</th>\n",
       "      <td>0.968813</td>\n",
       "      <td>0.0</td>\n",
       "      <td>0.0</td>\n",
       "      <td>0.01</td>\n",
       "      <td>0.648764</td>\n",
       "    </tr>\n",
       "    <tr>\n",
       "      <th>3</th>\n",
       "      <td>0.934273</td>\n",
       "      <td>0.0</td>\n",
       "      <td>0.0</td>\n",
       "      <td>0.01</td>\n",
       "      <td>0.331731</td>\n",
       "    </tr>\n",
       "    <tr>\n",
       "      <th>4</th>\n",
       "      <td>0.913665</td>\n",
       "      <td>0.0</td>\n",
       "      <td>0.0</td>\n",
       "      <td>0.90</td>\n",
       "      <td>0.595467</td>\n",
       "    </tr>\n",
       "  </tbody>\n",
       "</table>\n",
       "</div>"
      ],
      "text/plain": [
       "   temperature  rain_1h  snow_1h  clouds_percentage  population_density\n",
       "0     0.895894      0.0      0.0               0.01            0.041758\n",
       "1     0.936337      0.0      0.0               0.90            0.876648\n",
       "2     0.968813      0.0      0.0               0.01            0.648764\n",
       "3     0.934273      0.0      0.0               0.01            0.331731\n",
       "4     0.913665      0.0      0.0               0.90            0.595467"
      ]
     },
     "metadata": {},
     "output_type": "display_data"
    }
   ],
   "source": [
    "display(onehot_data_wo_dt.head())\n",
    "display(norm_num.head())"
   ]
  },
  {
   "cell_type": "markdown",
   "metadata": {},
   "source": [
    "   (d) Train your network with default hyperparameters and return the parameters."
   ]
  },
  {
   "cell_type": "code",
   "execution_count": 8,
   "metadata": {},
   "outputs": [
    {
     "data": {
      "text/html": [
       "<div>\n",
       "<style scoped>\n",
       "    .dataframe tbody tr th:only-of-type {\n",
       "        vertical-align: middle;\n",
       "    }\n",
       "\n",
       "    .dataframe tbody tr th {\n",
       "        vertical-align: top;\n",
       "    }\n",
       "\n",
       "    .dataframe thead th {\n",
       "        text-align: right;\n",
       "    }\n",
       "</style>\n",
       "<table border=\"1\" class=\"dataframe\">\n",
       "  <thead>\n",
       "    <tr style=\"text-align: right;\">\n",
       "      <th></th>\n",
       "      <th>temperature</th>\n",
       "      <th>rain_1h</th>\n",
       "      <th>snow_1h</th>\n",
       "      <th>clouds_percentage</th>\n",
       "      <th>population_density</th>\n",
       "      <th>time</th>\n",
       "      <th>holiday_Christmas Day</th>\n",
       "      <th>holiday_Columbus Day</th>\n",
       "      <th>holiday_Independence Day</th>\n",
       "      <th>holiday_Labor Day</th>\n",
       "      <th>...</th>\n",
       "      <th>weather_type_details_sleet</th>\n",
       "      <th>weather_type_details_smoke</th>\n",
       "      <th>weather_type_details_snow</th>\n",
       "      <th>weather_type_details_thunderstorm</th>\n",
       "      <th>weather_type_details_thunderstorm with drizzle</th>\n",
       "      <th>weather_type_details_thunderstorm with heavy rain</th>\n",
       "      <th>weather_type_details_thunderstorm with light drizzle</th>\n",
       "      <th>weather_type_details_thunderstorm with light rain</th>\n",
       "      <th>weather_type_details_thunderstorm with rain</th>\n",
       "      <th>weather_type_details_very heavy rain</th>\n",
       "    </tr>\n",
       "  </thead>\n",
       "  <tbody>\n",
       "    <tr>\n",
       "      <th>0</th>\n",
       "      <td>0.895894</td>\n",
       "      <td>0.0</td>\n",
       "      <td>0.0</td>\n",
       "      <td>0.01</td>\n",
       "      <td>0.041758</td>\n",
       "      <td>4</td>\n",
       "      <td>0</td>\n",
       "      <td>0</td>\n",
       "      <td>0</td>\n",
       "      <td>0</td>\n",
       "      <td>...</td>\n",
       "      <td>0</td>\n",
       "      <td>0</td>\n",
       "      <td>0</td>\n",
       "      <td>0</td>\n",
       "      <td>0</td>\n",
       "      <td>0</td>\n",
       "      <td>0</td>\n",
       "      <td>0</td>\n",
       "      <td>0</td>\n",
       "      <td>0</td>\n",
       "    </tr>\n",
       "    <tr>\n",
       "      <th>1</th>\n",
       "      <td>0.936337</td>\n",
       "      <td>0.0</td>\n",
       "      <td>0.0</td>\n",
       "      <td>0.90</td>\n",
       "      <td>0.876648</td>\n",
       "      <td>16</td>\n",
       "      <td>0</td>\n",
       "      <td>0</td>\n",
       "      <td>0</td>\n",
       "      <td>0</td>\n",
       "      <td>...</td>\n",
       "      <td>0</td>\n",
       "      <td>0</td>\n",
       "      <td>0</td>\n",
       "      <td>0</td>\n",
       "      <td>0</td>\n",
       "      <td>0</td>\n",
       "      <td>0</td>\n",
       "      <td>0</td>\n",
       "      <td>0</td>\n",
       "      <td>0</td>\n",
       "    </tr>\n",
       "    <tr>\n",
       "      <th>2</th>\n",
       "      <td>0.968813</td>\n",
       "      <td>0.0</td>\n",
       "      <td>0.0</td>\n",
       "      <td>0.01</td>\n",
       "      <td>0.648764</td>\n",
       "      <td>13</td>\n",
       "      <td>0</td>\n",
       "      <td>0</td>\n",
       "      <td>0</td>\n",
       "      <td>0</td>\n",
       "      <td>...</td>\n",
       "      <td>0</td>\n",
       "      <td>0</td>\n",
       "      <td>0</td>\n",
       "      <td>0</td>\n",
       "      <td>0</td>\n",
       "      <td>0</td>\n",
       "      <td>0</td>\n",
       "      <td>0</td>\n",
       "      <td>0</td>\n",
       "      <td>0</td>\n",
       "    </tr>\n",
       "    <tr>\n",
       "      <th>3</th>\n",
       "      <td>0.934273</td>\n",
       "      <td>0.0</td>\n",
       "      <td>0.0</td>\n",
       "      <td>0.01</td>\n",
       "      <td>0.331731</td>\n",
       "      <td>21</td>\n",
       "      <td>0</td>\n",
       "      <td>0</td>\n",
       "      <td>0</td>\n",
       "      <td>0</td>\n",
       "      <td>...</td>\n",
       "      <td>0</td>\n",
       "      <td>0</td>\n",
       "      <td>0</td>\n",
       "      <td>0</td>\n",
       "      <td>0</td>\n",
       "      <td>0</td>\n",
       "      <td>0</td>\n",
       "      <td>0</td>\n",
       "      <td>0</td>\n",
       "      <td>0</td>\n",
       "    </tr>\n",
       "    <tr>\n",
       "      <th>4</th>\n",
       "      <td>0.913665</td>\n",
       "      <td>0.0</td>\n",
       "      <td>0.0</td>\n",
       "      <td>0.90</td>\n",
       "      <td>0.595467</td>\n",
       "      <td>18</td>\n",
       "      <td>0</td>\n",
       "      <td>0</td>\n",
       "      <td>0</td>\n",
       "      <td>0</td>\n",
       "      <td>...</td>\n",
       "      <td>0</td>\n",
       "      <td>0</td>\n",
       "      <td>0</td>\n",
       "      <td>0</td>\n",
       "      <td>0</td>\n",
       "      <td>0</td>\n",
       "      <td>0</td>\n",
       "      <td>0</td>\n",
       "      <td>0</td>\n",
       "      <td>0</td>\n",
       "    </tr>\n",
       "  </tbody>\n",
       "</table>\n",
       "<p>5 rows × 67 columns</p>\n",
       "</div>"
      ],
      "text/plain": [
       "   temperature  rain_1h  snow_1h  clouds_percentage  population_density  time  \\\n",
       "0     0.895894      0.0      0.0               0.01            0.041758     4   \n",
       "1     0.936337      0.0      0.0               0.90            0.876648    16   \n",
       "2     0.968813      0.0      0.0               0.01            0.648764    13   \n",
       "3     0.934273      0.0      0.0               0.01            0.331731    21   \n",
       "4     0.913665      0.0      0.0               0.90            0.595467    18   \n",
       "\n",
       "   holiday_Christmas Day  holiday_Columbus Day  holiday_Independence Day  \\\n",
       "0                      0                     0                         0   \n",
       "1                      0                     0                         0   \n",
       "2                      0                     0                         0   \n",
       "3                      0                     0                         0   \n",
       "4                      0                     0                         0   \n",
       "\n",
       "   holiday_Labor Day  ...  weather_type_details_sleet  \\\n",
       "0                  0  ...                           0   \n",
       "1                  0  ...                           0   \n",
       "2                  0  ...                           0   \n",
       "3                  0  ...                           0   \n",
       "4                  0  ...                           0   \n",
       "\n",
       "   weather_type_details_smoke  weather_type_details_snow  \\\n",
       "0                           0                          0   \n",
       "1                           0                          0   \n",
       "2                           0                          0   \n",
       "3                           0                          0   \n",
       "4                           0                          0   \n",
       "\n",
       "   weather_type_details_thunderstorm  \\\n",
       "0                                  0   \n",
       "1                                  0   \n",
       "2                                  0   \n",
       "3                                  0   \n",
       "4                                  0   \n",
       "\n",
       "   weather_type_details_thunderstorm with drizzle  \\\n",
       "0                                               0   \n",
       "1                                               0   \n",
       "2                                               0   \n",
       "3                                               0   \n",
       "4                                               0   \n",
       "\n",
       "   weather_type_details_thunderstorm with heavy rain  \\\n",
       "0                                                  0   \n",
       "1                                                  0   \n",
       "2                                                  0   \n",
       "3                                                  0   \n",
       "4                                                  0   \n",
       "\n",
       "   weather_type_details_thunderstorm with light drizzle  \\\n",
       "0                                                  0      \n",
       "1                                                  0      \n",
       "2                                                  0      \n",
       "3                                                  0      \n",
       "4                                                  0      \n",
       "\n",
       "   weather_type_details_thunderstorm with light rain  \\\n",
       "0                                                  0   \n",
       "1                                                  0   \n",
       "2                                                  0   \n",
       "3                                                  0   \n",
       "4                                                  0   \n",
       "\n",
       "   weather_type_details_thunderstorm with rain  \\\n",
       "0                                            0   \n",
       "1                                            0   \n",
       "2                                            0   \n",
       "3                                            0   \n",
       "4                                            0   \n",
       "\n",
       "   weather_type_details_very heavy rain  \n",
       "0                                     0  \n",
       "1                                     0  \n",
       "2                                     0  \n",
       "3                                     0  \n",
       "4                                     0  \n",
       "\n",
       "[5 rows x 67 columns]"
      ]
     },
     "metadata": {},
     "output_type": "display_data"
    },
    {
     "data": {
      "text/html": [
       "<div>\n",
       "<style scoped>\n",
       "    .dataframe tbody tr th:only-of-type {\n",
       "        vertical-align: middle;\n",
       "    }\n",
       "\n",
       "    .dataframe tbody tr th {\n",
       "        vertical-align: top;\n",
       "    }\n",
       "\n",
       "    .dataframe thead th {\n",
       "        text-align: right;\n",
       "    }\n",
       "</style>\n",
       "<table border=\"1\" class=\"dataframe\">\n",
       "  <thead>\n",
       "    <tr style=\"text-align: right;\">\n",
       "      <th></th>\n",
       "      <th>high</th>\n",
       "      <th>low</th>\n",
       "      <th>medium</th>\n",
       "      <th>very high</th>\n",
       "      <th>very low</th>\n",
       "    </tr>\n",
       "  </thead>\n",
       "  <tbody>\n",
       "    <tr>\n",
       "      <th>0</th>\n",
       "      <td>0</td>\n",
       "      <td>0</td>\n",
       "      <td>0</td>\n",
       "      <td>0</td>\n",
       "      <td>1</td>\n",
       "    </tr>\n",
       "    <tr>\n",
       "      <th>1</th>\n",
       "      <td>0</td>\n",
       "      <td>0</td>\n",
       "      <td>0</td>\n",
       "      <td>1</td>\n",
       "      <td>0</td>\n",
       "    </tr>\n",
       "    <tr>\n",
       "      <th>2</th>\n",
       "      <td>1</td>\n",
       "      <td>0</td>\n",
       "      <td>0</td>\n",
       "      <td>0</td>\n",
       "      <td>0</td>\n",
       "    </tr>\n",
       "    <tr>\n",
       "      <th>3</th>\n",
       "      <td>0</td>\n",
       "      <td>1</td>\n",
       "      <td>0</td>\n",
       "      <td>0</td>\n",
       "      <td>0</td>\n",
       "    </tr>\n",
       "    <tr>\n",
       "      <th>4</th>\n",
       "      <td>0</td>\n",
       "      <td>0</td>\n",
       "      <td>1</td>\n",
       "      <td>0</td>\n",
       "      <td>0</td>\n",
       "    </tr>\n",
       "  </tbody>\n",
       "</table>\n",
       "</div>"
      ],
      "text/plain": [
       "   high  low  medium  very high  very low\n",
       "0     0    0       0          0         1\n",
       "1     0    0       0          1         0\n",
       "2     1    0       0          0         0\n",
       "3     0    1       0          0         0\n",
       "4     0    0       1          0         0"
      ]
     },
     "metadata": {},
     "output_type": "display_data"
    },
    {
     "name": "stderr",
     "output_type": "stream",
     "text": [
      "C:\\Users\\unicorn\\Anaconda3\\envs\\ds_env\\lib\\site-packages\\sklearn\\neural_network\\multilayer_perceptron.py:566: ConvergenceWarning: Stochastic Optimizer: Maximum iterations (200) reached and the optimization hasn't converged yet.\n",
      "  % self.max_iter, ConvergenceWarning)\n"
     ]
    },
    {
     "ename": "NameError",
     "evalue": "name 'mlpclassifier' is not defined",
     "output_type": "error",
     "traceback": [
      "\u001b[1;31m---------------------------------------------------------------------------\u001b[0m",
      "\u001b[1;31mNameError\u001b[0m                                 Traceback (most recent call last)",
      "\u001b[1;32m<ipython-input-8-86a0a6a4881f>\u001b[0m in \u001b[0;36m<module>\u001b[1;34m\u001b[0m\n\u001b[0;32m     12\u001b[0m \u001b[0mmlp_classifier\u001b[0m \u001b[1;33m=\u001b[0m \u001b[0mMLPClassifier\u001b[0m\u001b[1;33m(\u001b[0m\u001b[1;33m)\u001b[0m\u001b[1;33m\u001b[0m\u001b[1;33m\u001b[0m\u001b[0m\n\u001b[0;32m     13\u001b[0m \u001b[0mmlp_classifier\u001b[0m\u001b[1;33m.\u001b[0m\u001b[0mfit\u001b[0m\u001b[1;33m(\u001b[0m\u001b[0mX5\u001b[0m\u001b[1;33m,\u001b[0m\u001b[0my5\u001b[0m\u001b[1;33m)\u001b[0m\u001b[1;33m\u001b[0m\u001b[1;33m\u001b[0m\u001b[0m\n\u001b[1;32m---> 14\u001b[1;33m \u001b[0mprint\u001b[0m\u001b[1;33m(\u001b[0m\u001b[1;34m'Default hyperparameters:\\n'\u001b[0m\u001b[1;33m,\u001b[0m \u001b[0mmlpclassifier\u001b[0m\u001b[1;33m.\u001b[0m\u001b[0mget_params\u001b[0m\u001b[1;33m(\u001b[0m\u001b[1;33m)\u001b[0m\u001b[1;33m)\u001b[0m\u001b[1;33m\u001b[0m\u001b[1;33m\u001b[0m\u001b[0m\n\u001b[0m",
      "\u001b[1;31mNameError\u001b[0m: name 'mlpclassifier' is not defined"
     ]
    }
   ],
   "source": [
    "from sklearn.neural_network import MLPClassifier\n",
    "\n",
    "# join normalized numerical data and one hot encoded descriptive features.\n",
    "X5 = norm_num.join(onehot_data_wo_dt)\n",
    "display(X5.head())\n",
    "\n",
    "# one hot encoding for target feature\n",
    "y5 = pd.get_dummies(df_pop_5.iloc[:,-1]) \n",
    "display(y5.head())\n",
    "\n",
    "# fit data to model\n",
    "mlp_classifier = MLPClassifier()\n",
    "mlp_classifier.fit(X5,y5)\n",
    "print('Default hyperparameters:\\n', mlpclassifier.get_params())"
   ]
  },
  {
   "cell_type": "markdown",
   "metadata": {},
   "source": [
    "   (e) Try to find an optimized number of hidden layers and nodes. \n",
    "      - Start with default numbers and then at least go with one number above and one number below the default.\n",
    "      - Use the 2000 rows of the data for training.\n",
    "      - What are the optimized numbers of hidden layers and nodes that you have found?"
   ]
  },
  {
   "cell_type": "code",
   "execution_count": 12,
   "metadata": {},
   "outputs": [
    {
     "name": "stdout",
     "output_type": "stream",
     "text": [
      "The default number of the hidden layers: 1\n"
     ]
    },
    {
     "name": "stderr",
     "output_type": "stream",
     "text": [
      "C:\\Users\\unicorn\\Anaconda3\\envs\\ds_env\\lib\\site-packages\\sklearn\\neural_network\\multilayer_perceptron.py:566: ConvergenceWarning: Stochastic Optimizer: Maximum iterations (200) reached and the optimization hasn't converged yet.\n",
      "  % self.max_iter, ConvergenceWarning)\n",
      "C:\\Users\\unicorn\\Anaconda3\\envs\\ds_env\\lib\\site-packages\\sklearn\\neural_network\\multilayer_perceptron.py:566: ConvergenceWarning: Stochastic Optimizer: Maximum iterations (200) reached and the optimization hasn't converged yet.\n",
      "  % self.max_iter, ConvergenceWarning)\n"
     ]
    },
    {
     "name": "stdout",
     "output_type": "stream",
     "text": [
      "The layer number and correspoinding test accuracy:\n",
      "{0: 0.4335, 1: 0.983, 2: 0.9875, 3: 0.9785, 4: 0.9575}\n"
     ]
    }
   ],
   "source": [
    "# number of hidden layers\n",
    "\n",
    "from sklearn.model_selection import train_test_split\n",
    "\n",
    "layer_scores={}\n",
    "#default number of hidden layers\n",
    "print('The default number of the hidden layers:', mlp_classifier.n_layers_ -2)\n",
    "\n",
    "# specified the training set size to 2000\n",
    "X5_train, X5_test, y5_train, y5_test = train_test_split(X5, y5, test_size=2000)\n",
    "\n",
    "# go through from 0 to 5 hidden layers, find the max score\n",
    "for i in range(5):\n",
    "    mlp_classifier1 = MLPClassifier(hidden_layer_sizes=(100,)*i)\n",
    "    mlp_classifier1.fit(X5_train,y5_train)\n",
    "    layer_scores[i] = mlp_classifier1.score(X5_test,y5_test)\n",
    "\n",
    "print('The layer number and correspoinding test accuracy:')\n",
    "print(layer_scores)\n",
    "# # find the layer number with max scores:\n",
    "# max(layer_scores,key=layer_scores.get)"
   ]
  },
  {
   "cell_type": "markdown",
   "metadata": {},
   "source": [
    "<font color = red size=5> something wrong in folowing cell,make me cannot extract maximun automatically </font>"
   ]
  },
  {
   "cell_type": "code",
   "execution_count": null,
   "metadata": {},
   "outputs": [],
   "source": [
    "stat = {0: 0.444, 1: 0.9765, 2: 0.983, 3: 0.9795, 4: 0.97}\n",
    "max(list(stat.values()))"
   ]
  },
  {
   "cell_type": "code",
   "execution_count": null,
   "metadata": {},
   "outputs": [],
   "source": [
    "# Your code: (number of nodes in the hidden layer)\n",
    "neuron_scores={}\n",
    "for i in range(50,200,10):\n",
    "    mlp_classifier2 = MLPClassifier(hidden_layer_sizes=(i,)*2)\n",
    "    mlp_classifier2.fit(X5_train,y5_train)\n",
    "    neuron_scores[i] = round(mlp_classifier2.score(X5_test,y5_test),6)\n",
    "    \n",
    "print(neuron_scores)\n",
    "    \n"
   ]
  },
  {
   "cell_type": "code",
   "execution_count": 13,
   "metadata": {},
   "outputs": [
    {
     "name": "stdout",
     "output_type": "stream",
     "text": [
      "test data accuracy:  0.9835\n"
     ]
    }
   ],
   "source": [
    "# Your code: (optimized network) \n",
    "layer_number = 2\n",
    "neuron_number = 80\n",
    "mlp_classifier3 = MLPClassifier(hidden_layer_sizes=(neuron_number,)*layer_number)\n",
    "mlp_classifier3.fit(X5_train,y5_train)\n",
    "print('test data accuracy: ', mlp_classifier3.score(X5_test,y5_test))\n"
   ]
  },
  {
   "cell_type": "markdown",
   "metadata": {},
   "source": [
    "**Explanation:**<br>\n",
    "As i run the code several times, the optimal number of neural network, that corresponds to max value of test accuracy, lies either in 2 or 3. The accuracy      results is very close. so we adpot 2 as the optimal one to reduce the So in finding the optimal neural number in each hidden layer we adopt 2 layer number. Based on that we get the optimal neron number is near 80(it also not fixed, the value change as we run on different train and test data). but near 80 we always get a relative high value. so we think it is a good choice. And base the first 2 cell in this task we can easily get the optimal network size in the third cell."
   ]
  },
  {
   "cell_type": "markdown",
   "metadata": {},
   "source": [
    "<font color = red size=5> Better to run the code 10-20 to get the optimal value</font>"
   ]
  },
  {
   "cell_type": "markdown",
   "metadata": {},
   "source": [
    "   (f) Try to train your model with one linear activation function and one non-linear activation function. Use the default number of hidden layers and nodes.\n",
    "     - Name the functions and explain how the results are different and why. \n",
    "     - You can use evaluation metrics to show which activation function works better for this data set.\n",
    "     - Use the 2000 rows of the data for training."
   ]
  },
  {
   "cell_type": "code",
   "execution_count": null,
   "metadata": {},
   "outputs": [],
   "source": [
    "# Your code: (linear activation function):\n",
    "mlp_classifier4 = MLPClassifier(activation='identity')\n",
    "mlp_classifier4.fit(X5_train,y5_train)\n",
    "mlp_classifier4.score(X5_test,y5_test)\n"
   ]
  },
  {
   "cell_type": "code",
   "execution_count": 15,
   "metadata": {},
   "outputs": [
    {
     "name": "stderr",
     "output_type": "stream",
     "text": [
      "C:\\Users\\unicorn\\Anaconda3\\envs\\ds_env\\lib\\site-packages\\sklearn\\neural_network\\multilayer_perceptron.py:566: ConvergenceWarning: Stochastic Optimizer: Maximum iterations (200) reached and the optimization hasn't converged yet.\n",
      "  % self.max_iter, ConvergenceWarning)\n"
     ]
    },
    {
     "data": {
      "text/plain": [
       "0.978"
      ]
     },
     "execution_count": 15,
     "metadata": {},
     "output_type": "execute_result"
    }
   ],
   "source": [
    "# Your code: (non-linear activation function):\n",
    "mlp_classifier5 = MLPClassifier(activation='logistic')\n",
    "mlp_classifier5.fit(X5_train,y5_train)\n",
    "mlp_classifier5.score(X5_test,y5_test)\n",
    "\n"
   ]
  },
  {
   "cell_type": "markdown",
   "metadata": {},
   "source": [
    "**Explanation:**<br> \n",
    "'identity' returns the same value as input so it is linear, 'logistic' means we use sigmoid functions to change the input value.  it is clear in our case the non-linear activation is better. because sigmoid function. Our class task is a muti-class  problem, the linear function might not solve it. in general, if we use linear activation function in all the layer\n",
    "we lose the benefit of non-linearity. because the combination of linear function is still a linear function."
   ]
  },
  {
   "cell_type": "markdown",
   "metadata": {},
   "source": [
    "## Question 6 - Evaluation (10 Points)"
   ]
  },
  {
   "cell_type": "markdown",
   "metadata": {},
   "source": [
    "   (a) Consider one of the models in question 4 (c) of your choice, one neural network with optimized number of hidden layers and nodes from question 5 (e), and the neural network with non-linear activation function from question 5 (f), for a total of *three* models, together with their respective datasets. Compute the following metrics for a 3-fold cross validation performed on each model:"
   ]
  },
  {
   "cell_type": "markdown",
   "metadata": {},
   "source": [
    "- Confusion matrices on the training data (sum cell-by-cell the results of each fold)"
   ]
  },
  {
   "cell_type": "code",
   "execution_count": 117,
   "metadata": {
    "scrolled": false
   },
   "outputs": [
    {
     "ename": "SyntaxError",
     "evalue": "positional argument follows keyword argument (<ipython-input-117-ce5393d3baa8>, line 19)",
     "output_type": "error",
     "traceback": [
      "\u001b[1;36m  File \u001b[1;32m\"<ipython-input-117-ce5393d3baa8>\"\u001b[1;36m, line \u001b[1;32m19\u001b[0m\n\u001b[1;33m    confussion_matrix = pd.crosstab(index=train_rows,np.array(y_train),np.array(predictions_on_train),rownames=['ground truth'],colnames=['predicted value'],margins=True)\u001b[0m\n\u001b[1;37m                                                    ^\u001b[0m\n\u001b[1;31mSyntaxError\u001b[0m\u001b[1;31m:\u001b[0m positional argument follows keyword argument\n"
     ]
    }
   ],
   "source": [
    "# split the dataset to 3 flods\n",
    "from sklearn.model_selection import KFold\n",
    "from sklearn.metrics import precision_score, recall_score, accuracy_score, f1_score\n",
    "from sklearn.metrics import precision_recall_curve\n",
    "from sklearn.metrics import average_precision_score\n",
    "\n",
    "def three_fold_cross_validation(classifier,X, y):\n",
    "    fold = {}\n",
    "    folds = KFold(n_splits=3,shuffle=True)\n",
    "    for i,(train_idx, test_idx) in enumerate(folds.split(X)):\n",
    "        train_rows = [idx for idx in train_idx]\n",
    "        test_rows = [idx for idx in test_idx]\n",
    "        X_train,y_train,X_test,y_test = X.iloc[train_rows],y.iloc[train_rows],X.iloc[test_rows],y.iloc[test_rows]\n",
    "\n",
    "        train = classifier.fit(X_train,y_train)\n",
    "        predictions_on_train = classifier.predict(X_train)\n",
    "        predictions_on_test = classifier.predict(X_test)\n",
    "        \n",
    "        confussion_matrix = pd.crosstab(index=train_rows,np.array(y_train),np.array(predictions_on_train),rownames=['ground truth'],colnames=['predicted value'],margins=True)\n",
    "#         display(confussion_matrix)\n",
    "#     return confussion_matrix\n",
    "#         fold[i] = [predictions_on_train,y_train,predictions_on_test,y_test]\n",
    "#     return fold\n",
    "        \n",
    "\n",
    "        precision_on_test = precision_score(y_test,predictions_on_test,average='macro')\n",
    "        recall_on_test = recall_score(y_test,predictions_on_test,average='macro')\n",
    "        f1_score_on_test = f1_score(y_test,predictions_on_test,average='macro')\n",
    "\n",
    "\n",
    "        accuracy_score_on_train = accuracy_score(y_train,predictions_on_train)\n",
    "        accuracy_score_on_test = accuracy_score(y_test,predictions_on_test)\n",
    "\n",
    "        fold[i] = [predictions_on_train,y_train,predictions_on_test,y_test,precision_on_test,recall_on_test,f1_score_on_test,accuracy_score_on_train,accuracy_score_on_test]\n",
    "    \n",
    "    return fold\n",
    "\n",
    "    # print('for fold %s, the confussion matrix is:'%i)\n",
    "    # confussion_matrix = pd.crosstab(np.array[y_svm_test],np.array(predictions),rownames=['ground truth'],colnames=['predicted value'],margin=True)\n",
    "    # display(confusion_matrix)\n",
    "\n",
    "    \n",
    "\n",
    "\n",
    "    "
   ]
  },
  {
   "cell_type": "code",
   "execution_count": 118,
   "metadata": {},
   "outputs": [
    {
     "name": "stderr",
     "output_type": "stream",
     "text": [
      "C:\\Users\\unicorn\\Anaconda3\\envs\\ds_env\\lib\\site-packages\\sklearn\\neural_network\\multilayer_perceptron.py:566: ConvergenceWarning: Stochastic Optimizer: Maximum iterations (200) reached and the optimization hasn't converged yet.\n",
      "  % self.max_iter, ConvergenceWarning)\n"
     ]
    },
    {
     "ename": "Exception",
     "evalue": "Data must be 1-dimensional",
     "output_type": "error",
     "traceback": [
      "\u001b[1;31m---------------------------------------------------------------------------\u001b[0m",
      "\u001b[1;31mException\u001b[0m                                 Traceback (most recent call last)",
      "\u001b[1;32m<ipython-input-118-1e0de15e0955>\u001b[0m in \u001b[0;36m<module>\u001b[1;34m\u001b[0m\n\u001b[0;32m      1\u001b[0m \u001b[0msvm_classifier\u001b[0m\u001b[1;33m=\u001b[0m \u001b[0mSVC\u001b[0m\u001b[1;33m(\u001b[0m\u001b[0mC\u001b[0m\u001b[1;33m=\u001b[0m\u001b[1;36m1\u001b[0m\u001b[1;33m,\u001b[0m \u001b[0mkernel\u001b[0m\u001b[1;33m=\u001b[0m\u001b[1;34m'poly'\u001b[0m\u001b[1;33m,\u001b[0m\u001b[0mgamma\u001b[0m\u001b[1;33m=\u001b[0m\u001b[1;34m'scale'\u001b[0m\u001b[1;33m)\u001b[0m\u001b[1;33m\u001b[0m\u001b[1;33m\u001b[0m\u001b[0m\n\u001b[0;32m      2\u001b[0m \u001b[1;31m# fold_svm = three_fold_cross_validation(svm_classifier,X4[:50],y4[:50])\u001b[0m\u001b[1;33m\u001b[0m\u001b[1;33m\u001b[0m\u001b[1;33m\u001b[0m\u001b[0m\n\u001b[1;32m----> 3\u001b[1;33m \u001b[0mfold_optimal_NN\u001b[0m \u001b[1;33m=\u001b[0m \u001b[0mthree_fold_cross_validation\u001b[0m\u001b[1;33m(\u001b[0m\u001b[0mmlp_classifier3\u001b[0m\u001b[1;33m,\u001b[0m\u001b[0mX5\u001b[0m\u001b[1;33m[\u001b[0m\u001b[1;33m:\u001b[0m\u001b[1;36m50\u001b[0m\u001b[1;33m]\u001b[0m\u001b[1;33m,\u001b[0m\u001b[0my5\u001b[0m\u001b[1;33m[\u001b[0m\u001b[1;33m:\u001b[0m\u001b[1;36m50\u001b[0m\u001b[1;33m]\u001b[0m\u001b[1;33m)\u001b[0m\u001b[1;33m\u001b[0m\u001b[1;33m\u001b[0m\u001b[0m\n\u001b[0m\u001b[0;32m      4\u001b[0m \u001b[1;31m# fold_nonlinear_NN = three_fold_cross_validation(mlp_classifier5,X5[:50],y5[:50])\u001b[0m\u001b[1;33m\u001b[0m\u001b[1;33m\u001b[0m\u001b[1;33m\u001b[0m\u001b[0m\n",
      "\u001b[1;32m<ipython-input-115-e986b296b5c6>\u001b[0m in \u001b[0;36mthree_fold_cross_validation\u001b[1;34m(classifier, X, y)\u001b[0m\n\u001b[0;32m     18\u001b[0m \u001b[1;33m\u001b[0m\u001b[0m\n\u001b[0;32m     19\u001b[0m \u001b[1;31m#         confussion_matrix = pd.crosstab(np.array(y_train),np.array(predictions_on_train),rownames=['ground truth'],colnames=['predicted value'],margins=True)\u001b[0m\u001b[1;33m\u001b[0m\u001b[1;33m\u001b[0m\u001b[1;33m\u001b[0m\u001b[0m\n\u001b[1;32m---> 20\u001b[1;33m         \u001b[0mconfussion_matrix\u001b[0m \u001b[1;33m=\u001b[0m \u001b[0mpd\u001b[0m\u001b[1;33m.\u001b[0m\u001b[0mcrosstab\u001b[0m\u001b[1;33m(\u001b[0m\u001b[0my_train\u001b[0m\u001b[1;33m,\u001b[0m\u001b[0mpredictions_on_train\u001b[0m\u001b[1;33m,\u001b[0m\u001b[0mrownames\u001b[0m\u001b[1;33m=\u001b[0m\u001b[1;33m[\u001b[0m\u001b[1;34m'ground truth'\u001b[0m\u001b[1;33m]\u001b[0m\u001b[1;33m,\u001b[0m\u001b[0mcolnames\u001b[0m\u001b[1;33m=\u001b[0m\u001b[1;33m[\u001b[0m\u001b[1;34m'predicted value'\u001b[0m\u001b[1;33m]\u001b[0m\u001b[1;33m,\u001b[0m\u001b[0mmargins\u001b[0m\u001b[1;33m=\u001b[0m\u001b[1;32mTrue\u001b[0m\u001b[1;33m)\u001b[0m\u001b[1;33m\u001b[0m\u001b[1;33m\u001b[0m\u001b[0m\n\u001b[0m\u001b[0;32m     21\u001b[0m \u001b[1;31m#         display(confussion_matrix)\u001b[0m\u001b[1;33m\u001b[0m\u001b[1;33m\u001b[0m\u001b[1;33m\u001b[0m\u001b[0m\n\u001b[0;32m     22\u001b[0m \u001b[1;31m#     return confussion_matrix\u001b[0m\u001b[1;33m\u001b[0m\u001b[1;33m\u001b[0m\u001b[1;33m\u001b[0m\u001b[0m\n",
      "\u001b[1;32m~\\Anaconda3\\envs\\ds_env\\lib\\site-packages\\pandas\\core\\reshape\\pivot.py\u001b[0m in \u001b[0;36mcrosstab\u001b[1;34m(index, columns, values, rownames, colnames, aggfunc, margins, margins_name, dropna, normalize)\u001b[0m\n\u001b[0;32m    509\u001b[0m \u001b[1;33m\u001b[0m\u001b[0m\n\u001b[0;32m    510\u001b[0m     \u001b[1;32mfrom\u001b[0m \u001b[0mpandas\u001b[0m \u001b[1;32mimport\u001b[0m \u001b[0mDataFrame\u001b[0m\u001b[1;33m\u001b[0m\u001b[1;33m\u001b[0m\u001b[0m\n\u001b[1;32m--> 511\u001b[1;33m     \u001b[0mdf\u001b[0m \u001b[1;33m=\u001b[0m \u001b[0mDataFrame\u001b[0m\u001b[1;33m(\u001b[0m\u001b[0mdata\u001b[0m\u001b[1;33m,\u001b[0m \u001b[0mindex\u001b[0m\u001b[1;33m=\u001b[0m\u001b[0mcommon_idx\u001b[0m\u001b[1;33m)\u001b[0m\u001b[1;33m\u001b[0m\u001b[1;33m\u001b[0m\u001b[0m\n\u001b[0m\u001b[0;32m    512\u001b[0m     \u001b[1;32mif\u001b[0m \u001b[0mvalues\u001b[0m \u001b[1;32mis\u001b[0m \u001b[1;32mNone\u001b[0m\u001b[1;33m:\u001b[0m\u001b[1;33m\u001b[0m\u001b[1;33m\u001b[0m\u001b[0m\n\u001b[0;32m    513\u001b[0m         \u001b[0mdf\u001b[0m\u001b[1;33m[\u001b[0m\u001b[1;34m'__dummy__'\u001b[0m\u001b[1;33m]\u001b[0m \u001b[1;33m=\u001b[0m \u001b[1;36m0\u001b[0m\u001b[1;33m\u001b[0m\u001b[1;33m\u001b[0m\u001b[0m\n",
      "\u001b[1;32m~\\Anaconda3\\envs\\ds_env\\lib\\site-packages\\pandas\\core\\frame.py\u001b[0m in \u001b[0;36m__init__\u001b[1;34m(self, data, index, columns, dtype, copy)\u001b[0m\n\u001b[0;32m    390\u001b[0m                                  dtype=dtype, copy=copy)\n\u001b[0;32m    391\u001b[0m         \u001b[1;32melif\u001b[0m \u001b[0misinstance\u001b[0m\u001b[1;33m(\u001b[0m\u001b[0mdata\u001b[0m\u001b[1;33m,\u001b[0m \u001b[0mdict\u001b[0m\u001b[1;33m)\u001b[0m\u001b[1;33m:\u001b[0m\u001b[1;33m\u001b[0m\u001b[1;33m\u001b[0m\u001b[0m\n\u001b[1;32m--> 392\u001b[1;33m             \u001b[0mmgr\u001b[0m \u001b[1;33m=\u001b[0m \u001b[0minit_dict\u001b[0m\u001b[1;33m(\u001b[0m\u001b[0mdata\u001b[0m\u001b[1;33m,\u001b[0m \u001b[0mindex\u001b[0m\u001b[1;33m,\u001b[0m \u001b[0mcolumns\u001b[0m\u001b[1;33m,\u001b[0m \u001b[0mdtype\u001b[0m\u001b[1;33m=\u001b[0m\u001b[0mdtype\u001b[0m\u001b[1;33m)\u001b[0m\u001b[1;33m\u001b[0m\u001b[1;33m\u001b[0m\u001b[0m\n\u001b[0m\u001b[0;32m    393\u001b[0m         \u001b[1;32melif\u001b[0m \u001b[0misinstance\u001b[0m\u001b[1;33m(\u001b[0m\u001b[0mdata\u001b[0m\u001b[1;33m,\u001b[0m \u001b[0mma\u001b[0m\u001b[1;33m.\u001b[0m\u001b[0mMaskedArray\u001b[0m\u001b[1;33m)\u001b[0m\u001b[1;33m:\u001b[0m\u001b[1;33m\u001b[0m\u001b[1;33m\u001b[0m\u001b[0m\n\u001b[0;32m    394\u001b[0m             \u001b[1;32mimport\u001b[0m \u001b[0mnumpy\u001b[0m\u001b[1;33m.\u001b[0m\u001b[0mma\u001b[0m\u001b[1;33m.\u001b[0m\u001b[0mmrecords\u001b[0m \u001b[1;32mas\u001b[0m \u001b[0mmrecords\u001b[0m\u001b[1;33m\u001b[0m\u001b[1;33m\u001b[0m\u001b[0m\n",
      "\u001b[1;32m~\\Anaconda3\\envs\\ds_env\\lib\\site-packages\\pandas\\core\\internals\\construction.py\u001b[0m in \u001b[0;36minit_dict\u001b[1;34m(data, index, columns, dtype)\u001b[0m\n\u001b[0;32m    210\u001b[0m         \u001b[0marrays\u001b[0m \u001b[1;33m=\u001b[0m \u001b[1;33m[\u001b[0m\u001b[0mdata\u001b[0m\u001b[1;33m[\u001b[0m\u001b[0mk\u001b[0m\u001b[1;33m]\u001b[0m \u001b[1;32mfor\u001b[0m \u001b[0mk\u001b[0m \u001b[1;32min\u001b[0m \u001b[0mkeys\u001b[0m\u001b[1;33m]\u001b[0m\u001b[1;33m\u001b[0m\u001b[1;33m\u001b[0m\u001b[0m\n\u001b[0;32m    211\u001b[0m \u001b[1;33m\u001b[0m\u001b[0m\n\u001b[1;32m--> 212\u001b[1;33m     \u001b[1;32mreturn\u001b[0m \u001b[0marrays_to_mgr\u001b[0m\u001b[1;33m(\u001b[0m\u001b[0marrays\u001b[0m\u001b[1;33m,\u001b[0m \u001b[0mdata_names\u001b[0m\u001b[1;33m,\u001b[0m \u001b[0mindex\u001b[0m\u001b[1;33m,\u001b[0m \u001b[0mcolumns\u001b[0m\u001b[1;33m,\u001b[0m \u001b[0mdtype\u001b[0m\u001b[1;33m=\u001b[0m\u001b[0mdtype\u001b[0m\u001b[1;33m)\u001b[0m\u001b[1;33m\u001b[0m\u001b[1;33m\u001b[0m\u001b[0m\n\u001b[0m\u001b[0;32m    213\u001b[0m \u001b[1;33m\u001b[0m\u001b[0m\n\u001b[0;32m    214\u001b[0m \u001b[1;33m\u001b[0m\u001b[0m\n",
      "\u001b[1;32m~\\Anaconda3\\envs\\ds_env\\lib\\site-packages\\pandas\\core\\internals\\construction.py\u001b[0m in \u001b[0;36marrays_to_mgr\u001b[1;34m(arrays, arr_names, index, columns, dtype)\u001b[0m\n\u001b[0;32m     54\u001b[0m \u001b[1;33m\u001b[0m\u001b[0m\n\u001b[0;32m     55\u001b[0m     \u001b[1;31m# don't force copy because getting jammed in an ndarray anyway\u001b[0m\u001b[1;33m\u001b[0m\u001b[1;33m\u001b[0m\u001b[1;33m\u001b[0m\u001b[0m\n\u001b[1;32m---> 56\u001b[1;33m     \u001b[0marrays\u001b[0m \u001b[1;33m=\u001b[0m \u001b[0m_homogenize\u001b[0m\u001b[1;33m(\u001b[0m\u001b[0marrays\u001b[0m\u001b[1;33m,\u001b[0m \u001b[0mindex\u001b[0m\u001b[1;33m,\u001b[0m \u001b[0mdtype\u001b[0m\u001b[1;33m)\u001b[0m\u001b[1;33m\u001b[0m\u001b[1;33m\u001b[0m\u001b[0m\n\u001b[0m\u001b[0;32m     57\u001b[0m \u001b[1;33m\u001b[0m\u001b[0m\n\u001b[0;32m     58\u001b[0m     \u001b[1;31m# from BlockManager perspective\u001b[0m\u001b[1;33m\u001b[0m\u001b[1;33m\u001b[0m\u001b[1;33m\u001b[0m\u001b[0m\n",
      "\u001b[1;32m~\\Anaconda3\\envs\\ds_env\\lib\\site-packages\\pandas\\core\\internals\\construction.py\u001b[0m in \u001b[0;36m_homogenize\u001b[1;34m(data, index, dtype)\u001b[0m\n\u001b[0;32m    275\u001b[0m                 \u001b[0mval\u001b[0m \u001b[1;33m=\u001b[0m \u001b[0mlib\u001b[0m\u001b[1;33m.\u001b[0m\u001b[0mfast_multiget\u001b[0m\u001b[1;33m(\u001b[0m\u001b[0mval\u001b[0m\u001b[1;33m,\u001b[0m \u001b[0moindex\u001b[0m\u001b[1;33m.\u001b[0m\u001b[0mvalues\u001b[0m\u001b[1;33m,\u001b[0m \u001b[0mdefault\u001b[0m\u001b[1;33m=\u001b[0m\u001b[0mnp\u001b[0m\u001b[1;33m.\u001b[0m\u001b[0mnan\u001b[0m\u001b[1;33m)\u001b[0m\u001b[1;33m\u001b[0m\u001b[1;33m\u001b[0m\u001b[0m\n\u001b[0;32m    276\u001b[0m             val = sanitize_array(val, index, dtype=dtype, copy=False,\n\u001b[1;32m--> 277\u001b[1;33m                                  raise_cast_failure=False)\n\u001b[0m\u001b[0;32m    278\u001b[0m \u001b[1;33m\u001b[0m\u001b[0m\n\u001b[0;32m    279\u001b[0m         \u001b[0mhomogenized\u001b[0m\u001b[1;33m.\u001b[0m\u001b[0mappend\u001b[0m\u001b[1;33m(\u001b[0m\u001b[0mval\u001b[0m\u001b[1;33m)\u001b[0m\u001b[1;33m\u001b[0m\u001b[1;33m\u001b[0m\u001b[0m\n",
      "\u001b[1;32m~\\Anaconda3\\envs\\ds_env\\lib\\site-packages\\pandas\\core\\internals\\construction.py\u001b[0m in \u001b[0;36msanitize_array\u001b[1;34m(data, index, dtype, copy, raise_cast_failure)\u001b[0m\n\u001b[0;32m    656\u001b[0m     \u001b[1;32melif\u001b[0m \u001b[0msubarr\u001b[0m\u001b[1;33m.\u001b[0m\u001b[0mndim\u001b[0m \u001b[1;33m>\u001b[0m \u001b[1;36m1\u001b[0m\u001b[1;33m:\u001b[0m\u001b[1;33m\u001b[0m\u001b[1;33m\u001b[0m\u001b[0m\n\u001b[0;32m    657\u001b[0m         \u001b[1;32mif\u001b[0m \u001b[0misinstance\u001b[0m\u001b[1;33m(\u001b[0m\u001b[0mdata\u001b[0m\u001b[1;33m,\u001b[0m \u001b[0mnp\u001b[0m\u001b[1;33m.\u001b[0m\u001b[0mndarray\u001b[0m\u001b[1;33m)\u001b[0m\u001b[1;33m:\u001b[0m\u001b[1;33m\u001b[0m\u001b[1;33m\u001b[0m\u001b[0m\n\u001b[1;32m--> 658\u001b[1;33m             \u001b[1;32mraise\u001b[0m \u001b[0mException\u001b[0m\u001b[1;33m(\u001b[0m\u001b[1;34m'Data must be 1-dimensional'\u001b[0m\u001b[1;33m)\u001b[0m\u001b[1;33m\u001b[0m\u001b[1;33m\u001b[0m\u001b[0m\n\u001b[0m\u001b[0;32m    659\u001b[0m         \u001b[1;32melse\u001b[0m\u001b[1;33m:\u001b[0m\u001b[1;33m\u001b[0m\u001b[1;33m\u001b[0m\u001b[0m\n\u001b[0;32m    660\u001b[0m             \u001b[0msubarr\u001b[0m \u001b[1;33m=\u001b[0m \u001b[0mcom\u001b[0m\u001b[1;33m.\u001b[0m\u001b[0masarray_tuplesafe\u001b[0m\u001b[1;33m(\u001b[0m\u001b[0mdata\u001b[0m\u001b[1;33m,\u001b[0m \u001b[0mdtype\u001b[0m\u001b[1;33m=\u001b[0m\u001b[0mdtype\u001b[0m\u001b[1;33m)\u001b[0m\u001b[1;33m\u001b[0m\u001b[1;33m\u001b[0m\u001b[0m\n",
      "\u001b[1;31mException\u001b[0m: Data must be 1-dimensional"
     ]
    }
   ],
   "source": [
    "svm_classifier= SVC(C=1, kernel='poly',gamma='scale')\n",
    "# fold_svm = three_fold_cross_validation(svm_classifier,X4[:50],y4[:50])\n",
    "fold_optimal_NN = three_fold_cross_validation(mlp_classifier3,X5[:50],y5[:50])\n",
    "# fold_nonlinear_NN = three_fold_cross_validation(mlp_classifier5,X5[:50],y5[:50])"
   ]
  },
  {
   "cell_type": "code",
   "execution_count": 106,
   "metadata": {},
   "outputs": [
    {
     "name": "stdout",
     "output_type": "stream",
     "text": [
      "Confussion matrix on traniing data: \n",
      "\n",
      "\n",
      "svm with ploynomial kernel:\n"
     ]
    },
    {
     "data": {
      "text/html": [
       "<div>\n",
       "<style scoped>\n",
       "    .dataframe tbody tr th:only-of-type {\n",
       "        vertical-align: middle;\n",
       "    }\n",
       "\n",
       "    .dataframe tbody tr th {\n",
       "        vertical-align: top;\n",
       "    }\n",
       "\n",
       "    .dataframe thead th {\n",
       "        text-align: right;\n",
       "    }\n",
       "</style>\n",
       "<table border=\"1\" class=\"dataframe\">\n",
       "  <thead>\n",
       "    <tr style=\"text-align: right;\">\n",
       "      <th>predicted value</th>\n",
       "      <th>high</th>\n",
       "      <th>All</th>\n",
       "    </tr>\n",
       "    <tr>\n",
       "      <th>ground truth</th>\n",
       "      <th></th>\n",
       "      <th></th>\n",
       "    </tr>\n",
       "  </thead>\n",
       "  <tbody>\n",
       "    <tr>\n",
       "      <th>high</th>\n",
       "      <td>10</td>\n",
       "      <td>10</td>\n",
       "    </tr>\n",
       "    <tr>\n",
       "      <th>low</th>\n",
       "      <td>5</td>\n",
       "      <td>5</td>\n",
       "    </tr>\n",
       "    <tr>\n",
       "      <th>medium</th>\n",
       "      <td>9</td>\n",
       "      <td>9</td>\n",
       "    </tr>\n",
       "    <tr>\n",
       "      <th>very high</th>\n",
       "      <td>3</td>\n",
       "      <td>3</td>\n",
       "    </tr>\n",
       "    <tr>\n",
       "      <th>very low</th>\n",
       "      <td>6</td>\n",
       "      <td>6</td>\n",
       "    </tr>\n",
       "    <tr>\n",
       "      <th>All</th>\n",
       "      <td>33</td>\n",
       "      <td>33</td>\n",
       "    </tr>\n",
       "  </tbody>\n",
       "</table>\n",
       "</div>"
      ],
      "text/plain": [
       "predicted value  high  All\n",
       "ground truth              \n",
       "high               10   10\n",
       "low                 5    5\n",
       "medium              9    9\n",
       "very high           3    3\n",
       "very low            6    6\n",
       "All                33   33"
      ]
     },
     "metadata": {},
     "output_type": "display_data"
    },
    {
     "data": {
      "text/html": [
       "<div>\n",
       "<style scoped>\n",
       "    .dataframe tbody tr th:only-of-type {\n",
       "        vertical-align: middle;\n",
       "    }\n",
       "\n",
       "    .dataframe tbody tr th {\n",
       "        vertical-align: top;\n",
       "    }\n",
       "\n",
       "    .dataframe thead th {\n",
       "        text-align: right;\n",
       "    }\n",
       "</style>\n",
       "<table border=\"1\" class=\"dataframe\">\n",
       "  <thead>\n",
       "    <tr style=\"text-align: right;\">\n",
       "      <th>predicted value</th>\n",
       "      <th>high</th>\n",
       "      <th>very low</th>\n",
       "      <th>All</th>\n",
       "    </tr>\n",
       "    <tr>\n",
       "      <th>ground truth</th>\n",
       "      <th></th>\n",
       "      <th></th>\n",
       "      <th></th>\n",
       "    </tr>\n",
       "  </thead>\n",
       "  <tbody>\n",
       "    <tr>\n",
       "      <th>high</th>\n",
       "      <td>10</td>\n",
       "      <td>0</td>\n",
       "      <td>10</td>\n",
       "    </tr>\n",
       "    <tr>\n",
       "      <th>low</th>\n",
       "      <td>2</td>\n",
       "      <td>1</td>\n",
       "      <td>3</td>\n",
       "    </tr>\n",
       "    <tr>\n",
       "      <th>medium</th>\n",
       "      <td>4</td>\n",
       "      <td>4</td>\n",
       "      <td>8</td>\n",
       "    </tr>\n",
       "    <tr>\n",
       "      <th>very high</th>\n",
       "      <td>0</td>\n",
       "      <td>2</td>\n",
       "      <td>2</td>\n",
       "    </tr>\n",
       "    <tr>\n",
       "      <th>very low</th>\n",
       "      <td>2</td>\n",
       "      <td>8</td>\n",
       "      <td>10</td>\n",
       "    </tr>\n",
       "    <tr>\n",
       "      <th>All</th>\n",
       "      <td>18</td>\n",
       "      <td>15</td>\n",
       "      <td>33</td>\n",
       "    </tr>\n",
       "  </tbody>\n",
       "</table>\n",
       "</div>"
      ],
      "text/plain": [
       "predicted value  high  very low  All\n",
       "ground truth                        \n",
       "high               10         0   10\n",
       "low                 2         1    3\n",
       "medium              4         4    8\n",
       "very high           0         2    2\n",
       "very low            2         8   10\n",
       "All                18        15   33"
      ]
     },
     "metadata": {},
     "output_type": "display_data"
    },
    {
     "data": {
      "text/html": [
       "<div>\n",
       "<style scoped>\n",
       "    .dataframe tbody tr th:only-of-type {\n",
       "        vertical-align: middle;\n",
       "    }\n",
       "\n",
       "    .dataframe tbody tr th {\n",
       "        vertical-align: top;\n",
       "    }\n",
       "\n",
       "    .dataframe thead th {\n",
       "        text-align: right;\n",
       "    }\n",
       "</style>\n",
       "<table border=\"1\" class=\"dataframe\">\n",
       "  <thead>\n",
       "    <tr style=\"text-align: right;\">\n",
       "      <th>predicted value</th>\n",
       "      <th>high</th>\n",
       "      <th>All</th>\n",
       "    </tr>\n",
       "    <tr>\n",
       "      <th>ground truth</th>\n",
       "      <th></th>\n",
       "      <th></th>\n",
       "    </tr>\n",
       "  </thead>\n",
       "  <tbody>\n",
       "    <tr>\n",
       "      <th>high</th>\n",
       "      <td>10</td>\n",
       "      <td>10</td>\n",
       "    </tr>\n",
       "    <tr>\n",
       "      <th>low</th>\n",
       "      <td>4</td>\n",
       "      <td>4</td>\n",
       "    </tr>\n",
       "    <tr>\n",
       "      <th>medium</th>\n",
       "      <td>7</td>\n",
       "      <td>7</td>\n",
       "    </tr>\n",
       "    <tr>\n",
       "      <th>very high</th>\n",
       "      <td>5</td>\n",
       "      <td>5</td>\n",
       "    </tr>\n",
       "    <tr>\n",
       "      <th>very low</th>\n",
       "      <td>8</td>\n",
       "      <td>8</td>\n",
       "    </tr>\n",
       "    <tr>\n",
       "      <th>All</th>\n",
       "      <td>34</td>\n",
       "      <td>34</td>\n",
       "    </tr>\n",
       "  </tbody>\n",
       "</table>\n",
       "</div>"
      ],
      "text/plain": [
       "predicted value  high  All\n",
       "ground truth              \n",
       "high               10   10\n",
       "low                 4    4\n",
       "medium              7    7\n",
       "very high           5    5\n",
       "very low            8    8\n",
       "All                34   34"
      ]
     },
     "metadata": {},
     "output_type": "display_data"
    }
   ],
   "source": [
    "print(\"Confussion matrix on traniing data: \")\n",
    "print('\\n')\n",
    "print(\"svm with ploynomial kernel:\")\n",
    "for i in range(3):\n",
    "    pred_y=fold_svm[i][0]\n",
    "    true_y=fold_svm[i][1]\n",
    "    mat1= pd.crosstab(np.array(true_y),np.array(pred_y),rownames=['ground truth'],colnames=['predicted value'],margins=True)\n",
    "    display(mat1)\n",
    "# print(\"NN with optimized size:\")\n",
    "\n",
    "# print(\"NN with sigmoid activation function:\")\n",
    "# for i in range(3):\n",
    "#     pred_y=fold_op[i][0]\n",
    "#     true_y=fold_svm[i][1]\n",
    "#     mat1= pd.crosstab(np.array(true_y),np.array(pred_y),rownames=['ground truth'],colnames=['predicted value'],margins=True)\n",
    "#     display(mat1)\n",
    "# print(\"NN with optimized size:\")"
   ]
  },
  {
   "cell_type": "code",
   "execution_count": 78,
   "metadata": {},
   "outputs": [
    {
     "name": "stderr",
     "output_type": "stream",
     "text": [
      "C:\\Users\\unicorn\\Anaconda3\\envs\\ds_env\\lib\\site-packages\\sklearn\\neural_network\\multilayer_perceptron.py:566: ConvergenceWarning: Stochastic Optimizer: Maximum iterations (200) reached and the optimization hasn't converged yet.\n",
      "  % self.max_iter, ConvergenceWarning)\n",
      "C:\\Users\\unicorn\\Anaconda3\\envs\\ds_env\\lib\\site-packages\\sklearn\\neural_network\\multilayer_perceptron.py:566: ConvergenceWarning: Stochastic Optimizer: Maximum iterations (200) reached and the optimization hasn't converged yet.\n",
      "  % self.max_iter, ConvergenceWarning)\n",
      "C:\\Users\\unicorn\\Anaconda3\\envs\\ds_env\\lib\\site-packages\\sklearn\\neural_network\\multilayer_perceptron.py:566: ConvergenceWarning: Stochastic Optimizer: Maximum iterations (200) reached and the optimization hasn't converged yet.\n",
      "  % self.max_iter, ConvergenceWarning)\n"
     ]
    }
   ],
   "source": [
    "# Your code for the confusion matrices on the training data\n",
    "from sklearn.model_selection  import cross_val_predict\n",
    "\n",
    "#svm with polynomial Kernal \n",
    "svm_classifier= SVC(C=1, kernel='poly',gamma='scale') # kernel = ‘linear’, ‘poly’, ‘rbf’, ‘sigmoid’, ‘precomputed’\n",
    "\n",
    "#svm_scores = cross_val_score(svm_classifier,X4,y4,cv=3)\n",
    "svm_pred = cross_val_predict(svm_classifier,X4,y4,cv=3)\n",
    "\n",
    "#NN with optimal parameters\n",
    "lin_pred = cross_val_predict(mlp_classifier3,X5,y5,cv=3)\n",
    "\n",
    "# NN with non-linear activation fucntion\n",
    "sigmoid_pred = lin_pred = cross_val_predict(mlp_classifier5,X5,y5,cv=3)\n",
    "\n"
   ]
  },
  {
   "cell_type": "code",
   "execution_count": 67,
   "metadata": {},
   "outputs": [
    {
     "name": "stdout",
     "output_type": "stream",
     "text": [
      "Confussion matrix on traniing data: \n",
      "/n\n",
      "svm with ploy kernel:\n"
     ]
    },
    {
     "data": {
      "text/html": [
       "<div>\n",
       "<style scoped>\n",
       "    .dataframe tbody tr th:only-of-type {\n",
       "        vertical-align: middle;\n",
       "    }\n",
       "\n",
       "    .dataframe tbody tr th {\n",
       "        vertical-align: top;\n",
       "    }\n",
       "\n",
       "    .dataframe thead th {\n",
       "        text-align: right;\n",
       "    }\n",
       "</style>\n",
       "<table border=\"1\" class=\"dataframe\">\n",
       "  <thead>\n",
       "    <tr style=\"text-align: right;\">\n",
       "      <th>predicted value</th>\n",
       "      <th>high</th>\n",
       "      <th>low</th>\n",
       "      <th>medium</th>\n",
       "      <th>very high</th>\n",
       "      <th>very low</th>\n",
       "      <th>All</th>\n",
       "    </tr>\n",
       "    <tr>\n",
       "      <th>ground truth</th>\n",
       "      <th></th>\n",
       "      <th></th>\n",
       "      <th></th>\n",
       "      <th></th>\n",
       "      <th></th>\n",
       "      <th></th>\n",
       "    </tr>\n",
       "  </thead>\n",
       "  <tbody>\n",
       "    <tr>\n",
       "      <th>high</th>\n",
       "      <td>1197</td>\n",
       "      <td>43</td>\n",
       "      <td>149</td>\n",
       "      <td>6</td>\n",
       "      <td>20</td>\n",
       "      <td>1415</td>\n",
       "    </tr>\n",
       "    <tr>\n",
       "      <th>low</th>\n",
       "      <td>123</td>\n",
       "      <td>404</td>\n",
       "      <td>97</td>\n",
       "      <td>0</td>\n",
       "      <td>149</td>\n",
       "      <td>773</td>\n",
       "    </tr>\n",
       "    <tr>\n",
       "      <th>medium</th>\n",
       "      <td>439</td>\n",
       "      <td>109</td>\n",
       "      <td>327</td>\n",
       "      <td>0</td>\n",
       "      <td>39</td>\n",
       "      <td>914</td>\n",
       "    </tr>\n",
       "    <tr>\n",
       "      <th>very high</th>\n",
       "      <td>461</td>\n",
       "      <td>6</td>\n",
       "      <td>57</td>\n",
       "      <td>2</td>\n",
       "      <td>2</td>\n",
       "      <td>528</td>\n",
       "    </tr>\n",
       "    <tr>\n",
       "      <th>very low</th>\n",
       "      <td>75</td>\n",
       "      <td>136</td>\n",
       "      <td>3</td>\n",
       "      <td>3</td>\n",
       "      <td>1153</td>\n",
       "      <td>1370</td>\n",
       "    </tr>\n",
       "    <tr>\n",
       "      <th>All</th>\n",
       "      <td>2295</td>\n",
       "      <td>698</td>\n",
       "      <td>633</td>\n",
       "      <td>11</td>\n",
       "      <td>1363</td>\n",
       "      <td>5000</td>\n",
       "    </tr>\n",
       "  </tbody>\n",
       "</table>\n",
       "</div>"
      ],
      "text/plain": [
       "predicted value  high  low  medium  very high  very low   All\n",
       "ground truth                                                 \n",
       "high             1197   43     149          6        20  1415\n",
       "low               123  404      97          0       149   773\n",
       "medium            439  109     327          0        39   914\n",
       "very high         461    6      57          2         2   528\n",
       "very low           75  136       3          3      1153  1370\n",
       "All              2295  698     633         11      1363  5000"
      ]
     },
     "metadata": {},
     "output_type": "display_data"
    },
    {
     "name": "stdout",
     "output_type": "stream",
     "text": [
      "NN with linear acivation function:\n"
     ]
    },
    {
     "ename": "ValueError",
     "evalue": "If using all scalar values, you must pass an index",
     "output_type": "error",
     "traceback": [
      "\u001b[1;31m---------------------------------------------------------------------------\u001b[0m",
      "\u001b[1;31mValueError\u001b[0m                                Traceback (most recent call last)",
      "\u001b[1;32m<ipython-input-67-e467cf579517>\u001b[0m in \u001b[0;36m<module>\u001b[1;34m\u001b[0m\n\u001b[0;32m      5\u001b[0m \u001b[0mdisplay\u001b[0m\u001b[1;33m(\u001b[0m\u001b[0mmat1\u001b[0m\u001b[1;33m)\u001b[0m\u001b[1;33m\u001b[0m\u001b[1;33m\u001b[0m\u001b[0m\n\u001b[0;32m      6\u001b[0m \u001b[0mprint\u001b[0m\u001b[1;33m(\u001b[0m\u001b[1;34m\"NN with linear acivation function:\"\u001b[0m\u001b[1;33m)\u001b[0m\u001b[1;33m\u001b[0m\u001b[1;33m\u001b[0m\u001b[0m\n\u001b[1;32m----> 7\u001b[1;33m \u001b[0mmat2\u001b[0m\u001b[1;33m=\u001b[0m\u001b[0mpd\u001b[0m\u001b[1;33m.\u001b[0m\u001b[0mcrosstab\u001b[0m\u001b[1;33m(\u001b[0m\u001b[0mnp\u001b[0m\u001b[1;33m.\u001b[0m\u001b[0marray\u001b[0m\u001b[1;33m(\u001b[0m\u001b[0my\u001b[0m\u001b[1;33m)\u001b[0m\u001b[1;33m,\u001b[0m\u001b[0mnp\u001b[0m\u001b[1;33m.\u001b[0m\u001b[0marray\u001b[0m\u001b[1;33m(\u001b[0m\u001b[0mlin_pred\u001b[0m\u001b[1;33m)\u001b[0m\u001b[1;33m,\u001b[0m\u001b[0mrownames\u001b[0m\u001b[1;33m=\u001b[0m\u001b[1;33m[\u001b[0m\u001b[1;34m'ground truth'\u001b[0m\u001b[1;33m]\u001b[0m\u001b[1;33m,\u001b[0m\u001b[0mcolnames\u001b[0m\u001b[1;33m=\u001b[0m\u001b[1;33m[\u001b[0m\u001b[1;34m'predicted value'\u001b[0m\u001b[1;33m]\u001b[0m\u001b[1;33m,\u001b[0m\u001b[0mmargins\u001b[0m\u001b[1;33m=\u001b[0m\u001b[1;32mTrue\u001b[0m\u001b[1;33m)\u001b[0m\u001b[1;33m\u001b[0m\u001b[1;33m\u001b[0m\u001b[0m\n\u001b[0m\u001b[0;32m      8\u001b[0m \u001b[0mdisplay\u001b[0m\u001b[1;33m(\u001b[0m\u001b[0mmat2\u001b[0m\u001b[1;33m)\u001b[0m\u001b[1;33m\u001b[0m\u001b[1;33m\u001b[0m\u001b[0m\n\u001b[0;32m      9\u001b[0m \u001b[0mprint\u001b[0m\u001b[1;33m(\u001b[0m\u001b[1;34m\"NN with sigmoid activation function:\"\u001b[0m\u001b[1;33m)\u001b[0m\u001b[1;33m\u001b[0m\u001b[1;33m\u001b[0m\u001b[0m\n",
      "\u001b[1;32m~\\Anaconda3\\envs\\ds_env\\lib\\site-packages\\pandas\\core\\reshape\\pivot.py\u001b[0m in \u001b[0;36mcrosstab\u001b[1;34m(index, columns, values, rownames, colnames, aggfunc, margins, margins_name, dropna, normalize)\u001b[0m\n\u001b[0;32m    509\u001b[0m \u001b[1;33m\u001b[0m\u001b[0m\n\u001b[0;32m    510\u001b[0m     \u001b[1;32mfrom\u001b[0m \u001b[0mpandas\u001b[0m \u001b[1;32mimport\u001b[0m \u001b[0mDataFrame\u001b[0m\u001b[1;33m\u001b[0m\u001b[1;33m\u001b[0m\u001b[0m\n\u001b[1;32m--> 511\u001b[1;33m     \u001b[0mdf\u001b[0m \u001b[1;33m=\u001b[0m \u001b[0mDataFrame\u001b[0m\u001b[1;33m(\u001b[0m\u001b[0mdata\u001b[0m\u001b[1;33m,\u001b[0m \u001b[0mindex\u001b[0m\u001b[1;33m=\u001b[0m\u001b[0mcommon_idx\u001b[0m\u001b[1;33m)\u001b[0m\u001b[1;33m\u001b[0m\u001b[1;33m\u001b[0m\u001b[0m\n\u001b[0m\u001b[0;32m    512\u001b[0m     \u001b[1;32mif\u001b[0m \u001b[0mvalues\u001b[0m \u001b[1;32mis\u001b[0m \u001b[1;32mNone\u001b[0m\u001b[1;33m:\u001b[0m\u001b[1;33m\u001b[0m\u001b[1;33m\u001b[0m\u001b[0m\n\u001b[0;32m    513\u001b[0m         \u001b[0mdf\u001b[0m\u001b[1;33m[\u001b[0m\u001b[1;34m'__dummy__'\u001b[0m\u001b[1;33m]\u001b[0m \u001b[1;33m=\u001b[0m \u001b[1;36m0\u001b[0m\u001b[1;33m\u001b[0m\u001b[1;33m\u001b[0m\u001b[0m\n",
      "\u001b[1;32m~\\Anaconda3\\envs\\ds_env\\lib\\site-packages\\pandas\\core\\frame.py\u001b[0m in \u001b[0;36m__init__\u001b[1;34m(self, data, index, columns, dtype, copy)\u001b[0m\n\u001b[0;32m    390\u001b[0m                                  dtype=dtype, copy=copy)\n\u001b[0;32m    391\u001b[0m         \u001b[1;32melif\u001b[0m \u001b[0misinstance\u001b[0m\u001b[1;33m(\u001b[0m\u001b[0mdata\u001b[0m\u001b[1;33m,\u001b[0m \u001b[0mdict\u001b[0m\u001b[1;33m)\u001b[0m\u001b[1;33m:\u001b[0m\u001b[1;33m\u001b[0m\u001b[1;33m\u001b[0m\u001b[0m\n\u001b[1;32m--> 392\u001b[1;33m             \u001b[0mmgr\u001b[0m \u001b[1;33m=\u001b[0m \u001b[0minit_dict\u001b[0m\u001b[1;33m(\u001b[0m\u001b[0mdata\u001b[0m\u001b[1;33m,\u001b[0m \u001b[0mindex\u001b[0m\u001b[1;33m,\u001b[0m \u001b[0mcolumns\u001b[0m\u001b[1;33m,\u001b[0m \u001b[0mdtype\u001b[0m\u001b[1;33m=\u001b[0m\u001b[0mdtype\u001b[0m\u001b[1;33m)\u001b[0m\u001b[1;33m\u001b[0m\u001b[1;33m\u001b[0m\u001b[0m\n\u001b[0m\u001b[0;32m    393\u001b[0m         \u001b[1;32melif\u001b[0m \u001b[0misinstance\u001b[0m\u001b[1;33m(\u001b[0m\u001b[0mdata\u001b[0m\u001b[1;33m,\u001b[0m \u001b[0mma\u001b[0m\u001b[1;33m.\u001b[0m\u001b[0mMaskedArray\u001b[0m\u001b[1;33m)\u001b[0m\u001b[1;33m:\u001b[0m\u001b[1;33m\u001b[0m\u001b[1;33m\u001b[0m\u001b[0m\n\u001b[0;32m    394\u001b[0m             \u001b[1;32mimport\u001b[0m \u001b[0mnumpy\u001b[0m\u001b[1;33m.\u001b[0m\u001b[0mma\u001b[0m\u001b[1;33m.\u001b[0m\u001b[0mmrecords\u001b[0m \u001b[1;32mas\u001b[0m \u001b[0mmrecords\u001b[0m\u001b[1;33m\u001b[0m\u001b[1;33m\u001b[0m\u001b[0m\n",
      "\u001b[1;32m~\\Anaconda3\\envs\\ds_env\\lib\\site-packages\\pandas\\core\\internals\\construction.py\u001b[0m in \u001b[0;36minit_dict\u001b[1;34m(data, index, columns, dtype)\u001b[0m\n\u001b[0;32m    210\u001b[0m         \u001b[0marrays\u001b[0m \u001b[1;33m=\u001b[0m \u001b[1;33m[\u001b[0m\u001b[0mdata\u001b[0m\u001b[1;33m[\u001b[0m\u001b[0mk\u001b[0m\u001b[1;33m]\u001b[0m \u001b[1;32mfor\u001b[0m \u001b[0mk\u001b[0m \u001b[1;32min\u001b[0m \u001b[0mkeys\u001b[0m\u001b[1;33m]\u001b[0m\u001b[1;33m\u001b[0m\u001b[1;33m\u001b[0m\u001b[0m\n\u001b[0;32m    211\u001b[0m \u001b[1;33m\u001b[0m\u001b[0m\n\u001b[1;32m--> 212\u001b[1;33m     \u001b[1;32mreturn\u001b[0m \u001b[0marrays_to_mgr\u001b[0m\u001b[1;33m(\u001b[0m\u001b[0marrays\u001b[0m\u001b[1;33m,\u001b[0m \u001b[0mdata_names\u001b[0m\u001b[1;33m,\u001b[0m \u001b[0mindex\u001b[0m\u001b[1;33m,\u001b[0m \u001b[0mcolumns\u001b[0m\u001b[1;33m,\u001b[0m \u001b[0mdtype\u001b[0m\u001b[1;33m=\u001b[0m\u001b[0mdtype\u001b[0m\u001b[1;33m)\u001b[0m\u001b[1;33m\u001b[0m\u001b[1;33m\u001b[0m\u001b[0m\n\u001b[0m\u001b[0;32m    213\u001b[0m \u001b[1;33m\u001b[0m\u001b[0m\n\u001b[0;32m    214\u001b[0m \u001b[1;33m\u001b[0m\u001b[0m\n",
      "\u001b[1;32m~\\Anaconda3\\envs\\ds_env\\lib\\site-packages\\pandas\\core\\internals\\construction.py\u001b[0m in \u001b[0;36marrays_to_mgr\u001b[1;34m(arrays, arr_names, index, columns, dtype)\u001b[0m\n\u001b[0;32m     49\u001b[0m     \u001b[1;31m# figure out the index, if necessary\u001b[0m\u001b[1;33m\u001b[0m\u001b[1;33m\u001b[0m\u001b[1;33m\u001b[0m\u001b[0m\n\u001b[0;32m     50\u001b[0m     \u001b[1;32mif\u001b[0m \u001b[0mindex\u001b[0m \u001b[1;32mis\u001b[0m \u001b[1;32mNone\u001b[0m\u001b[1;33m:\u001b[0m\u001b[1;33m\u001b[0m\u001b[1;33m\u001b[0m\u001b[0m\n\u001b[1;32m---> 51\u001b[1;33m         \u001b[0mindex\u001b[0m \u001b[1;33m=\u001b[0m \u001b[0mextract_index\u001b[0m\u001b[1;33m(\u001b[0m\u001b[0marrays\u001b[0m\u001b[1;33m)\u001b[0m\u001b[1;33m\u001b[0m\u001b[1;33m\u001b[0m\u001b[0m\n\u001b[0m\u001b[0;32m     52\u001b[0m     \u001b[1;32melse\u001b[0m\u001b[1;33m:\u001b[0m\u001b[1;33m\u001b[0m\u001b[1;33m\u001b[0m\u001b[0m\n\u001b[0;32m     53\u001b[0m         \u001b[0mindex\u001b[0m \u001b[1;33m=\u001b[0m \u001b[0mensure_index\u001b[0m\u001b[1;33m(\u001b[0m\u001b[0mindex\u001b[0m\u001b[1;33m)\u001b[0m\u001b[1;33m\u001b[0m\u001b[1;33m\u001b[0m\u001b[0m\n",
      "\u001b[1;32m~\\Anaconda3\\envs\\ds_env\\lib\\site-packages\\pandas\\core\\internals\\construction.py\u001b[0m in \u001b[0;36mextract_index\u001b[1;34m(data)\u001b[0m\n\u001b[0;32m    306\u001b[0m \u001b[1;33m\u001b[0m\u001b[0m\n\u001b[0;32m    307\u001b[0m         \u001b[1;32mif\u001b[0m \u001b[1;32mnot\u001b[0m \u001b[0mindexes\u001b[0m \u001b[1;32mand\u001b[0m \u001b[1;32mnot\u001b[0m \u001b[0mraw_lengths\u001b[0m\u001b[1;33m:\u001b[0m\u001b[1;33m\u001b[0m\u001b[1;33m\u001b[0m\u001b[0m\n\u001b[1;32m--> 308\u001b[1;33m             raise ValueError('If using all scalar values, you must pass'\n\u001b[0m\u001b[0;32m    309\u001b[0m                              ' an index')\n\u001b[0;32m    310\u001b[0m \u001b[1;33m\u001b[0m\u001b[0m\n",
      "\u001b[1;31mValueError\u001b[0m: If using all scalar values, you must pass an index"
     ]
    }
   ],
   "source": [
    "print(\"Confussion matrix on traniing data: \")\n",
    "print('/n')\n",
    "print(\"svm with ploynomial kernel:\")\n",
    "mat1=pd.crosstab(np.array(y4),np.array(svm_pred),rownames=['ground truth'],colnames=['predicted value'],margins=True)\n",
    "display(mat1)\n",
    "print(\"NN with linear acivation function:\")\n",
    "mat2=pd.crosstab(np.array(y),np.array(lin_pred),rownames=['ground truth'],colnames=['predicted value'],margins=True)\n",
    "display(mat2)\n",
    "print(\"NN with sigmoid activation function:\")\n",
    "mat3=pd.crosstab(np.array(y),np.array(sigmoid_pred),rownames=['ground truth'],colnames=['predicted value'],margins=True)\n",
    "display(mat3)"
   ]
  },
  {
   "cell_type": "markdown",
   "metadata": {},
   "source": [
    "- Confusion matrices on the test data (sum cell-by-cell the results of each fold)"
   ]
  },
  {
   "cell_type": "code",
   "execution_count": 32,
   "metadata": {},
   "outputs": [],
   "source": [
    "# Your code for the confusion matrices on the test data\n"
   ]
  },
  {
   "cell_type": "markdown",
   "metadata": {},
   "source": [
    "- Precision, recall and F1-scores on the test data (give explicitly the result for each fold)"
   ]
  },
  {
   "cell_type": "code",
   "execution_count": 96,
   "metadata": {},
   "outputs": [
    {
     "name": "stdout",
     "output_type": "stream",
     "text": [
      "Fold 0: \n",
      "the averaged precision for svm is 0.2\n",
      "the averaged recall for svm is 0.02222222222222222\n",
      "the averaged F1_score for svm is 0.3333333333333333\n",
      "\n",
      "\n",
      "Fold 1: \n",
      "the averaged precision for svm is 0.2\n",
      "the averaged recall for svm is 0.042105263157894736\n",
      "the averaged F1_score for svm is 0.30303030303030304\n",
      "\n",
      "\n",
      "Fold 2: \n",
      "the averaged precision for svm is 0.2\n",
      "the averaged recall for svm is 0.08\n",
      "the averaged F1_score for svm is 0.3235294117647059\n",
      "\n",
      "\n"
     ]
    }
   ],
   "source": [
    "# Your code for precision, recall and F1-scores on the test data\n",
    "for i in range(3):\n",
    "    print(\"Fold %s: \" %(i+1))\n",
    "    precision=fold_svm[i][5]\n",
    "    print(\"the averaged precision for svm is %s\" %(precision))\n",
    "    recall=fold_svm[i][6]\n",
    "    print(\"the averaged recall for svm is %s\" %recall)\n",
    "    F1_scores=fold_svm[i][7]\n",
    "    print(\"the averaged F1_score for svm is %s\" %F1_scores)\n",
    "    print('\\n')"
   ]
  },
  {
   "cell_type": "markdown",
   "metadata": {},
   "source": [
    "- Accuracy scores on training and test data (give explicitly the result for each fold)"
   ]
  },
  {
   "cell_type": "code",
   "execution_count": 98,
   "metadata": {},
   "outputs": [
    {
     "name": "stdout",
     "output_type": "stream",
     "text": [
      "Fold 1: \n",
      "the accuracy scores on training data for svm is 0.3333333333333333\n",
      "the ccuracy scores on test data for svm is 0.058823529411764705\n",
      "\n",
      "\n",
      "Fold 2: \n",
      "the accuracy scores on training data for svm is 0.30303030303030304\n",
      "the ccuracy scores on test data for svm is 0.11764705882352941\n",
      "\n",
      "\n",
      "Fold 3: \n",
      "the accuracy scores on training data for svm is 0.3235294117647059\n",
      "the ccuracy scores on test data for svm is 0.25\n",
      "\n",
      "\n"
     ]
    }
   ],
   "source": [
    "# Your code for accuracy scores on training and test data\n",
    "for i in range(3):\n",
    "    print(\"Fold %s: \" %(i+1))\n",
    "    accuracy_train =fold_svm[i][-2]\n",
    "    print(\"the accuracy scores on training data for svm is %s\" %(accuracy_train))\n",
    "    accuracy_test=fold_svm[i][-1]\n",
    "    print(\"the accuracy scores on test data for svm is %s\" %accuracy_test)\n",
    "    print('\\n')\n"
   ]
  },
  {
   "cell_type": "markdown",
   "metadata": {},
   "source": [
    "In order to turn numbers into insights, please comment on your findings. Motivate the answers to the following questions using the metrics and the findings in the questions 1 through 5 of the assignment."
   ]
  },
  {
   "cell_type": "markdown",
   "metadata": {},
   "source": [
    "   (b) What is, in your opinion, the best model? Motivate your answer with the correct performance metrics."
   ]
  },
  {
   "cell_type": "markdown",
   "metadata": {},
   "source": [
    "Explanation:\n"
   ]
  },
  {
   "cell_type": "markdown",
   "metadata": {},
   "source": [
    "   (c) Does any model suffer from underfitting or overfitting? Motivate your answer with the correct performance metrics."
   ]
  },
  {
   "cell_type": "markdown",
   "metadata": {},
   "source": [
    "Explanation:\n",
    "When a model perform good on training data but poor on test data, then it is overfitted. When it perfoms bad on both training data and test data, then it is underfitted.\n"
   ]
  },
  {
   "cell_type": "markdown",
   "metadata": {},
   "source": [
    "   (d) What is the effect of employing cross validation, instead of simply holding our a certain percentage of examples as test/validation set? What are the advantages and disadvantages of cross validation?"
   ]
  },
  {
   "cell_type": "markdown",
   "metadata": {},
   "source": [
    "Explanation:\n"
   ]
  }
 ],
 "metadata": {
  "kernelspec": {
   "display_name": "Python 3",
   "language": "python",
   "name": "python3"
  },
  "language_info": {
   "codemirror_mode": {
    "name": "ipython",
    "version": 3
   },
   "file_extension": ".py",
   "mimetype": "text/x-python",
   "name": "python",
   "nbconvert_exporter": "python",
   "pygments_lexer": "ipython3",
   "version": "3.7.0"
  },
  "toc": {
   "base_numbering": 1,
   "nav_menu": {},
   "number_sections": true,
   "sideBar": true,
   "skip_h1_title": false,
   "title_cell": "Table of Contents",
   "title_sidebar": "Contents",
   "toc_cell": false,
   "toc_position": {
    "height": "calc(100% - 180px)",
    "left": "10px",
    "top": "150px",
    "width": "367px"
   },
   "toc_section_display": true,
   "toc_window_display": true
  }
 },
 "nbformat": 4,
 "nbformat_minor": 2
}
