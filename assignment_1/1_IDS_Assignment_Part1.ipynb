{
 "cells": [
  {
   "cell_type": "markdown",
   "metadata": {},
   "source": [
    "# The First Part of the Assignment of IDS 2019-2020\n",
    "Document your results as well as the way you obtained them in this jupyter notebook. A seperate report (pdf, word etc.) is _not_ required. However, it is necessary that you provide the python code leading to your results as well as textual answers to the assignment questions in this notebook. *DO NOT CLEAR THE OUTPUT of the notebook your are submitting!* In the cases that the result of an algorithm is pdf, jpg, etc, you should attach the result to this notebook file and refer to that in the text.  \n",
    "\n",
    "Next to the jupyter notebook, submit one zip-file containing all data sets that you are asked to submit. Make sure they are easily identifiable, i.e. use names as requested in the corresponding question.\n",
    "\n",
    "Do not change the general structure of this notebook, but you can add further markdown or code cells to explain your solutions if necessary. In the end, submit this file and your created data sets in moodle.\n",
    "\n",
    "Only <font color=\"red\">one </font> group member should upload your group's solution. *Make sure to include group members' names and matriculation numbers*. If your name and student id are not included in the report, you will not receive any points!\n",
    "\n",
    "\n",
    "Hint 1: While answering the questions, you will get a better and better impression of the given data. However, feel free to compute additional results and vizualizations to motivate the decisions you need to make, for example with respect to modification, simplification or sampling of the data. <font color=\"red\"><b>Ensure that all claims you make are supported by the presented facts!</b></font>\n",
    "\n",
    "Hint 2: <font color=\"red\"><b>Some of the tasks might need some time to run. Take this into account in your planning.</b></font>\n",
    "\n",
    "Hint 3: RWTHonline allows for multiple submissions (each submission overwrites the previous ones). <font color=\"red\"><b>Partial submissions are possible and encouraged. </b></font> This helps in case of technical problems of RWTHonline, which do seldomly happen."
   ]
  },
  {
   "cell_type": "markdown",
   "metadata": {},
   "source": [
    "<font color=\"red\"><b>Student Names and IDs:\n",
    "    1. \n",
    "    2. \n",
    "    3."
   ]
  },
  {
   "cell_type": "markdown",
   "metadata": {},
   "source": [
    "## Preprocessing of the Dataset (5 points)\n",
    " You should carry out some preprocessing steps before starting the analysis:\n",
    " - Select 90% of 'population_density' dataset by random sampling.\n",
    "     - Use one of the group member's student number as a seed.\n",
    " - Add another column to the dataset:\n",
    "     - Name it 'population_density_categorical'.\n",
    "     - The values in this column depend on values in 'population_density' column and will be defined as follows:\n",
    "        - 5824=<population density              corresponding value in 'population_density_categorical' column: 'very high'\n",
    "        - 4368=<population density<5824         corresponding value in 'population_density_categorical' column: 'high'\n",
    "        - 2912=<population density<4368         corresponding value in 'population_density_categorical' column: 'medium'\n",
    "        - 1456=<population density<2912         corresponding value in 'population_density_categorical' column: 'low' \n",
    "        - population density<1456               corresponding value in 'population_density_categorical' column: 'very low'\n",
    " - After completing this preprocessing step, export your final dataset as 'population_density_categorical.csv' dataset and use that for next steps of the assignment.\n",
    " - If it is not directly mentioned, you should always use your extracted (above-created) dataset (without any cleaning).\n",
    " - <font color='red'>Important!</font> Make sure that you submit your extracted dataset with your result in moodle."
   ]
  },
  {
   "cell_type": "code",
   "execution_count": 1,
   "metadata": {},
   "outputs": [],
   "source": [
    "# Your code:\n",
    "import pandas as pd\n",
    "import numpy as np\n",
    "\n",
    "data_pop = pd.read_csv(\"population_density.csv\",delimiter=',')\n",
    "df_pop = pd.DataFrame(data_pop).sample(frac = 0.9, random_state = 391180)\n",
    "max = df_pop['population_density'].max()\n",
    "df_pop['population_density_categorical']=pd.cut(df_pop.population_density,bins=[0,1456,2912,4368,5824,max+1],labels=['very low','low','medium','high','very high'],right=False) # default is ( ] , right=False means [ )\n",
    "# df_pop.to_csv(\"population_density_categorical.csv\")\n"
   ]
  },
  {
   "cell_type": "markdown",
   "metadata": {},
   "source": [
    "## Question 1 - Insights into the Data (20 points):"
   ]
  },
  {
   "cell_type": "markdown",
   "metadata": {},
   "source": [
    "### Dealing with Outliers (10 points)\n",
    "   (a) Use a boxplot to find and remove the outliers from \"temperature\". Note that based on the boxplot the values greater than upper-whisker and less than lower-whisker are considered as the outliers. Now you should  have two datasets (cleaned and original)."
   ]
  },
  {
   "cell_type": "code",
   "execution_count": 2,
   "metadata": {},
   "outputs": [
    {
     "data": {
      "text/plain": [
       "<matplotlib.axes._subplots.AxesSubplot at 0x11f07a630>"
      ]
     },
     "execution_count": 2,
     "metadata": {},
     "output_type": "execute_result"
    }
   ],
   "source": [
    "# Your code:\n",
    "import pandas as pd\n",
    "import numpy as np\n",
    "import matplotlib.pyplot as plt\n",
    "import seaborn as sns \n",
    "from scipy import stats\n",
    "\n",
    "data_pop = pd.read_csv(\"population_density_categorical.csv\",delimiter=',')\n",
    "df_pop = pd.DataFrame(data_pop)\n",
    "df_pop_original = df_pop\n",
    "\n",
    "Q1 = df_pop['temperature'].quantile(0.25)\n",
    "Q3 = df_pop['temperature'].quantile(0.75)\n",
    "IQR = Q3 - Q1\n",
    "filter = (df_pop['temperature'] >= Q1 - 1.5 * IQR) & (df_pop['temperature'] <= Q3 + 1.5 *IQR)\n",
    "df_pop_cleaned = df_pop.loc[filter]\n",
    "df_pop_cleaned.boxplot(column=['temperature'])"
   ]
  },
  {
   "cell_type": "markdown",
   "metadata": {},
   "source": [
    "   (b) Compare basic statistical features of \"temperature\" (median, mean, and mode) in the cleaned and original datasets.    Interpret the differences for these statistical values between the cleaned and original datasets. "
   ]
  },
  {
   "cell_type": "code",
   "execution_count": 3,
   "metadata": {},
   "outputs": [
    {
     "name": "stdout",
     "output_type": "stream",
     "text": [
      "mean: \n",
      " original= 281.2292325972709 ,\n",
      " cleaned= 281.2811007700111 ,\n",
      " difference = -0.05186817274022815\n",
      "median:\n",
      " original= 282.48 ,\n",
      " cleaned= 282.49 ,\n",
      " difference = -0.009999999999990905\n",
      "mode:\n",
      " original= 0    274.15\n",
      "dtype: float64 ,\n",
      " cleaned= 0    274.15\n",
      "dtype: float64 ,\n",
      " difference = 0    0.0\n",
      "dtype: float64\n"
     ]
    }
   ],
   "source": [
    "# Your code:\n",
    "\n",
    "# df_pop_cleaned\n",
    "mean_cleaned = df_pop_cleaned.temperature.mean()\n",
    "median_cleaned = df_pop_cleaned.temperature.median()\n",
    "mode_cleaned = df_pop_cleaned.temperature.mode()\n",
    "# df_pop_original\n",
    "mean_original = df_pop_original.temperature.mean()\n",
    "median_original = df_pop_original.temperature.median()\n",
    "mode_original = df_pop_original.temperature.mode()\n",
    "# difference\n",
    "diff_mean = mean_original - mean_cleaned\n",
    "diff_median = median_original - median_cleaned\n",
    "diff_mode = mode_original - mode_cleaned\n",
    "\n",
    "print(f'mean: \\n original= {mean_original} ,\\n cleaned= {mean_cleaned} ,\\n difference = {diff_mean}')\n",
    "print(f'median:\\n original= {median_original} ,\\n cleaned= {median_cleaned} ,\\n difference = {diff_median}')\n",
    "print(f'mode:\\n original= {mode_original} ,\\n cleaned= {mode_cleaned} ,\\n difference = {diff_mode}')\n",
    "\n",
    "# When we calculate the mean value, outliers are calculated by algorithm.\n",
    "# The value of median means the value in the center of all dataset, so the row of dataset is changed.\n",
    "# But the amount of outliers are not the biggest, so the result of median is same."
   ]
  },
  {
   "cell_type": "markdown",
   "metadata": {},
   "source": [
    "   (c) Compare the number of data rows before and after removing the outliers. How many data rows are removed by removing    outliers?"
   ]
  },
  {
   "cell_type": "code",
   "execution_count": 4,
   "metadata": {},
   "outputs": [
    {
     "name": "stdout",
     "output_type": "stream",
     "text": [
      "The number of outliers =  8\n"
     ]
    }
   ],
   "source": [
    "# Your code:\n",
    "print('The number of outliers = ',df_pop_original.shape[0] - df_pop_cleaned.shape[0])"
   ]
  },
  {
   "cell_type": "markdown",
   "metadata": {},
   "source": [
    "### Basic Visualization (10 points)\n",
    "   (d) Visualize mean and median of \"population_density\" for non-'None' \"holiday\" values in the original dataset. Specify    the \"holiday\" values for which the mean of \"population_density\" is maximal and for which it is minimal."
   ]
  },
  {
   "cell_type": "code",
   "execution_count": 60,
   "metadata": {},
   "outputs": [
    {
     "name": "stdout",
     "output_type": "stream",
     "text": [
      "The mean of population_density =  881.4\n",
      "The median of population_density =  833.0\n",
      "The max_value of population_density =  1538\n",
      "The min_value of population_density =  455\n"
     ]
    },
    {
     "data": {
      "text/plain": [
       "<matplotlib.axes._subplots.AxesSubplot at 0x1a290dd710>"
      ]
     },
     "execution_count": 60,
     "metadata": {},
     "output_type": "execute_result"
    },
    {
     "data": {
      "image/png": "[encoded data removed]",
      "text/plain": [
       "<Figure size 1440x1080 with 2 Axes>"
      ]
     },
     "metadata": {},
     "output_type": "display_data"
    }
   ],
   "source": [
    "# Your code:\n",
    "col_pop_original_holiday = df_pop_original[~df_pop_original['holiday'].isin(['None'])] #过滤掉holiday列为'None'的行，~表示取反\n",
    "# print(col_pop_original_holiday.shape[0])\n",
    "mean_col_pop_original_holiday_pop = col_pop_original_holiday['population_density'].mean()\n",
    "median_col_pop_original_holiday_pop = col_pop_original_holiday['population_density'].median()\n",
    "max_col_pop_original_holiday_pop = col_pop_original_holiday['population_density'].max()\n",
    "min_col_pop_original_holiday_pop = col_pop_original_holiday['population_density'].min()\n",
    "\n",
    "print('The mean of population_density = ',mean_col_pop_original_holiday_pop)\n",
    "print('The median of population_density = ',median_col_pop_original_holiday_pop)\n",
    "print('The max_value of population_density = ',max_col_pop_original_holiday_pop)\n",
    "print('The min_value of population_density = ',min_col_pop_original_holiday_pop)\n",
    "\n",
    "fig,ax=plt.subplots(2,1,figsize=(20,15))\n",
    "plt.subplots_adjust(wspace = 0, hspace = 0.5) #plt.subplots_adjust(left=None, bottom=None, right=None, top=None, wspace=None, hspace=None)\n",
    "\n",
    "# plt.figure(figsize=(15,10))\n",
    "# plt.xticks(rotation=70)\n",
    "for tick in ax[0].get_xticklabels():\n",
    "        tick.set_rotation(45)\n",
    "for tick in ax[1].get_xticklabels():\n",
    "        tick.set_rotation(45)\n",
    "\n",
    "sns.barplot(x=\"holiday\", y=\"population_density\", data=col_pop_original_holiday,ax=ax[0])\n",
    "sns.boxplot(x = \"holiday\", y = \"population_density\", data=col_pop_original_holiday,ax=ax[1])\n"
   ]
  },
  {
   "cell_type": "markdown",
   "metadata": {},
   "source": [
    "   (e) Plot the distribution of \"temperature\" in the original and cleaned datasets."
   ]
  },
  {
   "cell_type": "code",
   "execution_count": 6,
   "metadata": {},
   "outputs": [
    {
     "data": {
      "text/plain": [
       "<matplotlib.axes._subplots.AxesSubplot at 0x11cb6ef60>"
      ]
     },
     "execution_count": 6,
     "metadata": {},
     "output_type": "execute_result"
    },
    {
     "data": {
      "image/png": "[encoded data removed]",
      "text/plain": [
       "<Figure size 432x288 with 2 Axes>"
      ]
     },
     "metadata": {},
     "output_type": "display_data"
    }
   ],
   "source": [
    "# Your code:\n",
    "sns.set(color_codes=True)\n",
    "\n",
    "pltfig,axes=plt.subplots(1,2)\n",
    "sns.distplot(df_pop_original['temperature'],ax=axes[0])\n",
    "sns.distplot(df_pop_cleaned['temperature'],ax=axes[1])"
   ]
  },
  {
   "cell_type": "markdown",
   "metadata": {},
   "source": [
    "   (f) Explore the distribution of \"population_density\" and \"temperature\" together in the cleaned dataset. Specify the ranges of \"temperature\" and \"population_density\" for which the frequency of the data is the highest."
   ]
  },
  {
   "cell_type": "code",
   "execution_count": 7,
   "metadata": {},
   "outputs": [
    {
     "data": {
      "image/png": "[encoded data removed]",
      "text/plain": [
       "<Figure size 432x432 with 3 Axes>"
      ]
     },
     "metadata": {},
     "output_type": "display_data"
    }
   ],
   "source": [
    "# Your code:\n",
    "\n",
    "df_pop_cleaned_pop_a_temp = pd.DataFrame(df_pop_cleaned, columns=[\"population_density\", \"temperature\"])\n",
    "sns.jointplot(x=\"population_density\", y=\"temperature\", data=df_pop_cleaned_pop_a_temp, kind=\"kde\");  #kind= scatter, hex, reg,kde \n"
   ]
  },
  {
   "cell_type": "markdown",
   "metadata": {},
   "source": [
    "## Question 2 - Decision Trees (15 points):"
   ]
  },
  {
   "cell_type": "markdown",
   "metadata": {},
   "source": [
    "   (a) Add a categorical temperature column to the cleaned dataset based on the following rules and name it                \"temperature_categorical\":\n",
    "        - temperature >= upper_quartile (third quartile) corresponding value in 'temperature_categorical' column: 'high'\n",
    "        - temperature <= lower_quartile (first quartile) corresponding value in 'temperature_categorical' column: 'low'\n",
    "        - lower_quartile < temperature < upper_quartile corresponding value in 'temperature_categorical' column: 'medium'"
   ]
  },
  {
   "cell_type": "code",
   "execution_count": 8,
   "metadata": {},
   "outputs": [],
   "source": [
    "# Your code:\n",
    "\n"
   ]
  },
  {
   "cell_type": "markdown",
   "metadata": {},
   "source": [
    "   (b) In the new dataset (created in Section 'a'), consider \"holiday\", \"temperature_categorical\", and \"weather_type\" as    the descriptive features and \"population_density_categorical\" as the target feature. Set the minimum number of samples  for splitting to 5000 and make a decision tree based on entropy."
   ]
  },
  {
   "cell_type": "code",
   "execution_count": 9,
   "metadata": {},
   "outputs": [],
   "source": [
    "# Your code:\n",
    "\n"
   ]
  },
  {
   "cell_type": "markdown",
   "metadata": {},
   "source": [
    "   (c) What is the best attribute (based on entropy) for splitting the tree in the second round of ID3?  "
   ]
  },
  {
   "cell_type": "markdown",
   "metadata": {},
   "source": [
    "Explanation: \n"
   ]
  },
  {
   "cell_type": "markdown",
   "metadata": {},
   "source": [
    "## Question 3 - Regression (10 points):\n",
    "\n",
    "For this question (Q3), restrict your extracted data set to the columns *holiday, temperature, rain_1h, snow_1h, clouds_percentage, date_time* and *population_density*. Drop the information on the date for *date_time* and restrict the data to time values (hour) only.\n",
    "\n",
    "We define *population_density* to be our target feature, while all other features are considered descriptive."
   ]
  },
  {
   "cell_type": "code",
   "execution_count": 10,
   "metadata": {},
   "outputs": [],
   "source": [
    "# Your code:\n",
    "\n"
   ]
  },
  {
   "cell_type": "markdown",
   "metadata": {},
   "source": [
    "   (a) Which features are suitable as an input for linear regression and which need to be modified first? Why?"
   ]
  },
  {
   "cell_type": "markdown",
   "metadata": {},
   "source": [
    "Explanation:\n"
   ]
  },
  {
   "cell_type": "markdown",
   "metadata": {},
   "source": [
    "   (b) Implement and briefly motivate an adequate modification. Print the resulting data set limited to the first two data rows."
   ]
  },
  {
   "cell_type": "markdown",
   "metadata": {},
   "source": [
    "Explanation:\n"
   ]
  },
  {
   "cell_type": "code",
   "execution_count": 11,
   "metadata": {},
   "outputs": [],
   "source": [
    "# Your code:\n",
    "\n"
   ]
  },
  {
   "cell_type": "markdown",
   "metadata": {},
   "source": [
    "(c) To get a first idea about our data, plot the behaviour of the target feature (population_density) over time (date_time)."
   ]
  },
  {
   "cell_type": "code",
   "execution_count": 12,
   "metadata": {},
   "outputs": [],
   "source": [
    "# Your code:\n",
    "\n"
   ]
  },
  {
   "cell_type": "markdown",
   "metadata": {},
   "source": [
    "   (d) Create two distinct subsets of the data. Use sampling methods as described in the lecture. You should end up with two DIFFERENT sample data sets *RegA, RegB*. Include these data sets in the submitted data set zip file. \n",
    "   \n",
    "   Which sampling methods did you choose and why? Which one do you expect to result in a better classifier?"
   ]
  },
  {
   "cell_type": "code",
   "execution_count": 13,
   "metadata": {},
   "outputs": [],
   "source": [
    "# Your code:\n",
    "\n"
   ]
  },
  {
   "cell_type": "markdown",
   "metadata": {},
   "source": [
    "Explanation:\n"
   ]
  },
  {
   "cell_type": "markdown",
   "metadata": {},
   "source": [
    "   (e) Train a linear regression classifier based on each of the two sample data sets *RegA, RegB* created before."
   ]
  },
  {
   "cell_type": "code",
   "execution_count": 14,
   "metadata": {},
   "outputs": [],
   "source": [
    "# Your code:\n",
    "\n"
   ]
  },
  {
   "cell_type": "markdown",
   "metadata": {},
   "source": [
    "(f) Visualize both computed regression functions in one plot each, combined with the original data set. For example, you can show a plot similar to 3(c) and insert the regression functions result."
   ]
  },
  {
   "cell_type": "code",
   "execution_count": 15,
   "metadata": {},
   "outputs": [],
   "source": [
    "# Your code:\n",
    "\n"
   ]
  },
  {
   "cell_type": "markdown",
   "metadata": {},
   "source": [
    "   (g) For each of the two resulting models compute and print the mean squared error, mean absolute error and median squared error with respect to the original, non-sampled data set. Also, present plots showing the errors and squared errors."
   ]
  },
  {
   "cell_type": "code",
   "execution_count": 16,
   "metadata": {},
   "outputs": [],
   "source": [
    "# Your code:\n",
    "\n"
   ]
  },
  {
   "cell_type": "markdown",
   "metadata": {},
   "source": [
    "   (h) Interpret and evaluate the two models and compare them. Why are they similar/different? Which model do you recommend and why? How do you think the applied methods could be improved to get better results?"
   ]
  },
  {
   "cell_type": "markdown",
   "metadata": {},
   "source": [
    "Explanation:\n"
   ]
  },
  {
   "cell_type": "markdown",
   "metadata": {},
   "source": [
    "## Question 4 - Support Vector Machines (10 points):\n",
    "\n",
    "For this question (Q4), restrict your extracted data set to the columns *holiday, temperature, rain_1h, snow_1h, clouds_percentage, date_time* and *population_density_categorical*. For *date_time*, drop the information on the date and restrict the data to time values only.\n",
    "We define *population_density_categorical* to be our target feature, while all other features are considered descriptive.\n"
   ]
  },
  {
   "cell_type": "code",
   "execution_count": 17,
   "metadata": {},
   "outputs": [],
   "source": [
    "# Your code:\n",
    "\n"
   ]
  },
  {
   "cell_type": "markdown",
   "metadata": {},
   "source": [
    "   (a) Which features are suitable as an input for SVM and which need to be modified first? Modify the data as needed and provide a brief explanation."
   ]
  },
  {
   "cell_type": "code",
   "execution_count": 18,
   "metadata": {},
   "outputs": [],
   "source": [
    "# Your code:\n",
    "\n"
   ]
  },
  {
   "cell_type": "markdown",
   "metadata": {},
   "source": [
    "Explanation:\n"
   ]
  },
  {
   "cell_type": "markdown",
   "metadata": {},
   "source": [
    "   (b) Divide the data set into a training set *svmTrain* and a test set *svmTest* and briefly motivate your division      strategy. Include these data sets in the data set zip file you submit. \n",
    "   \n",
    "   Hint: Training the SVMs will take longer for a large training set!"
   ]
  },
  {
   "cell_type": "code",
   "execution_count": 19,
   "metadata": {},
   "outputs": [],
   "source": [
    "# Your code:\n",
    "\n"
   ]
  },
  {
   "cell_type": "markdown",
   "metadata": {},
   "source": [
    "Explanation:\n"
   ]
  },
  {
   "cell_type": "markdown",
   "metadata": {},
   "source": [
    "   (c) Use the training set to train 3 different SVMs with different combinations of the parameters. Use at least two distinct values for the parameters *kernel* and *C*."
   ]
  },
  {
   "cell_type": "code",
   "execution_count": 20,
   "metadata": {},
   "outputs": [],
   "source": [
    "# Your code:\n",
    "\n"
   ]
  },
  {
   "cell_type": "markdown",
   "metadata": {},
   "source": [
    "   (d) Compute and print the mean accurracy and classification report of the trained SVMs with respect to the test set (as shown in instruction)."
   ]
  },
  {
   "cell_type": "code",
   "execution_count": 21,
   "metadata": {},
   "outputs": [],
   "source": [
    "# Your code:\n",
    "\n"
   ]
  },
  {
   "cell_type": "markdown",
   "metadata": {},
   "source": [
    "   (e) Interpret and evaluate the 3 SVMs and compare them. Why are they similar/different? Which SVM do you recommend and why?"
   ]
  },
  {
   "cell_type": "markdown",
   "metadata": {},
   "source": [
    "Explanation:\n"
   ]
  },
  {
   "cell_type": "markdown",
   "metadata": {},
   "source": [
    "## Question 5 - Neural Networks (20 points)\n",
    "In this question consider the whole dataset that you have created in the *Preprocessing of Dataset* section. The target feature is *population_density_categorical*. \n",
    "\n",
    "To avoid performance problems, use the first 4000 rows of your dataset (you will need 2000 for training and 2000 for testing)."
   ]
  },
  {
   "cell_type": "markdown",
   "metadata": {},
   "source": [
    "   (a) What are the possible inputs of your network?\n",
    "     - Show the possible extracted features.\n",
    "     - Show the number of possible patterns of inputs for the categorical data."
   ]
  },
  {
   "cell_type": "code",
   "execution_count": 22,
   "metadata": {},
   "outputs": [],
   "source": [
    "# Your code:\n",
    "\n"
   ]
  },
  {
   "cell_type": "markdown",
   "metadata": {},
   "source": [
    "Explanation:\n"
   ]
  },
  {
   "cell_type": "markdown",
   "metadata": {},
   "source": [
    "   (b) Before using the Neural Network algorithm, do you think it provides an accurate result? Why? \n",
    "     - Your explanation should be supported by data."
   ]
  },
  {
   "cell_type": "markdown",
   "metadata": {},
   "source": [
    "Explanation:\n"
   ]
  },
  {
   "cell_type": "code",
   "execution_count": 23,
   "metadata": {},
   "outputs": [],
   "source": [
    "# Your code:\n",
    "\n"
   ]
  },
  {
   "cell_type": "markdown",
   "metadata": {},
   "source": [
    "   (c) Which features can be used for designing your network as inputs? Why?\n",
    "       - Which features should be changed (example: from categorical to numerical or numerical to categorical)? Why? \n",
    "       - Convert the features. "
   ]
  },
  {
   "cell_type": "markdown",
   "metadata": {},
   "source": [
    "Explanation:\n"
   ]
  },
  {
   "cell_type": "code",
   "execution_count": 24,
   "metadata": {},
   "outputs": [],
   "source": [
    "# Your code:\n",
    "\n"
   ]
  },
  {
   "cell_type": "markdown",
   "metadata": {},
   "source": [
    "   (d) Train your network with default hyperparameters and return the parameters."
   ]
  },
  {
   "cell_type": "code",
   "execution_count": 25,
   "metadata": {},
   "outputs": [],
   "source": [
    "# Your code:\n",
    "\n"
   ]
  },
  {
   "cell_type": "markdown",
   "metadata": {},
   "source": [
    "   (e) Try to find an optimized number of hidden layers and nodes. \n",
    "      - Start with default numbers and then at least go with one number above and one number below the default.\n",
    "      - Use the 2000 rows of the data for training.\n",
    "      - What are the optimized numbers of hidden layers and nodes that you have found?"
   ]
  },
  {
   "cell_type": "code",
   "execution_count": 26,
   "metadata": {},
   "outputs": [],
   "source": [
    "# Your code: (number of hidden layers)\n",
    "\n"
   ]
  },
  {
   "cell_type": "code",
   "execution_count": 27,
   "metadata": {},
   "outputs": [],
   "source": [
    "# Your code: (number of nodes in the hidden layer)\n",
    "\n"
   ]
  },
  {
   "cell_type": "code",
   "execution_count": 28,
   "metadata": {},
   "outputs": [],
   "source": [
    "# Your code: (optimized network) \n",
    "\n"
   ]
  },
  {
   "cell_type": "markdown",
   "metadata": {},
   "source": [
    "Explanation:\n"
   ]
  },
  {
   "cell_type": "markdown",
   "metadata": {},
   "source": [
    "   (f) Try to train your model with one linear activation function and one non-linear activation function. Use the default number of hidden layers and nodes.\n",
    "     - Name the functions and explain how the results are different and why. \n",
    "     - You can use evaluation metrics to show which activation function works better for this data set.\n",
    "     - Use the 2000 rows of the data for training."
   ]
  },
  {
   "cell_type": "code",
   "execution_count": 29,
   "metadata": {},
   "outputs": [],
   "source": [
    "# Your code: (linear activation function):\n",
    "\n"
   ]
  },
  {
   "cell_type": "code",
   "execution_count": 30,
   "metadata": {},
   "outputs": [],
   "source": [
    "# Your code: (non-linear activation function):\n",
    "\n"
   ]
  },
  {
   "cell_type": "markdown",
   "metadata": {},
   "source": [
    "Explanation:\n"
   ]
  },
  {
   "cell_type": "markdown",
   "metadata": {},
   "source": [
    "## Question 6 - Evaluation (10 Points)"
   ]
  },
  {
   "cell_type": "markdown",
   "metadata": {},
   "source": [
    "   (a) Consider one of the models in question 4 (c) of your choice, one neural network with optimized number of hidden layers and nodes from question 5 (e), and the neural network with non-linear activation function from question 5 (f), for a total of *three* models, together with their respective datasets. Compute the following metrics for a 3-fold cross validation performed on each model:"
   ]
  },
  {
   "cell_type": "markdown",
   "metadata": {},
   "source": [
    "- Confusion matrices on the training data (sum cell-by-cell the results of each fold)"
   ]
  },
  {
   "cell_type": "code",
   "execution_count": 31,
   "metadata": {},
   "outputs": [],
   "source": [
    "# Your code for the confusion matrices on the training data\n",
    "\n"
   ]
  },
  {
   "cell_type": "markdown",
   "metadata": {},
   "source": [
    "- Confusion matrices on the test data (sum cell-by-cell the results of each fold)"
   ]
  },
  {
   "cell_type": "code",
   "execution_count": 32,
   "metadata": {},
   "outputs": [],
   "source": [
    "# Your code for the confusion matrices on the test data\n",
    "\n"
   ]
  },
  {
   "cell_type": "markdown",
   "metadata": {},
   "source": [
    "- Precision, recall and F1-scores on the test data (give explicitly the result for each fold)"
   ]
  },
  {
   "cell_type": "code",
   "execution_count": 33,
   "metadata": {},
   "outputs": [],
   "source": [
    "# Your code for precision, recall and F1-scores on the test data\n",
    "\n"
   ]
  },
  {
   "cell_type": "markdown",
   "metadata": {},
   "source": [
    "- Accuracy scores on training and test data (give explicitly the result for each fold)"
   ]
  },
  {
   "cell_type": "code",
   "execution_count": 34,
   "metadata": {},
   "outputs": [],
   "source": [
    "# Your code for accuracy scores on training and test data\n",
    "\n"
   ]
  },
  {
   "cell_type": "markdown",
   "metadata": {},
   "source": [
    "In order to turn numbers into insights, please comment on your findings. Motivate the answers to the following questions using the metrics and the findings in the questions 1 through 5 of the assignment."
   ]
  },
  {
   "cell_type": "markdown",
   "metadata": {},
   "source": [
    "   (b) What is, in your opinion, the best model? Motivate your answer with the correct performance metrics."
   ]
  },
  {
   "cell_type": "markdown",
   "metadata": {},
   "source": [
    "Explanation:\n"
   ]
  },
  {
   "cell_type": "markdown",
   "metadata": {},
   "source": [
    "   (c) Does any model suffer from underfitting or overfitting? Motivate your answer with the correct performance metrics."
   ]
  },
  {
   "cell_type": "markdown",
   "metadata": {},
   "source": [
    "Explanation:\n"
   ]
  },
  {
   "cell_type": "markdown",
   "metadata": {},
   "source": [
    "   (d) What is the effect of employing cross validation, instead of simply holding our a certain percentage of examples as test/validation set? What are the advantages and disadvantages of cross validation?"
   ]
  },
  {
   "cell_type": "markdown",
   "metadata": {},
   "source": [
    "Explanation:\n"
   ]
  }
 ],
 "metadata": {
  "kernelspec": {
   "display_name": "Python 3",
   "language": "python",
   "name": "python3"
  },
  "language_info": {
   "codemirror_mode": {
    "name": "ipython",
    "version": 3
   },
   "file_extension": ".py",
   "mimetype": "text/x-python",
   "name": "python",
   "nbconvert_exporter": "python",
   "pygments_lexer": "ipython3",
   "version": "3.7.0"
  }
 },
 "nbformat": 4,
 "nbformat_minor": 2
}
